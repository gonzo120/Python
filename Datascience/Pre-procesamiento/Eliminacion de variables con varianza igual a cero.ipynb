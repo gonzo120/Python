{
 "cells": [
  {
   "attachments": {},
   "cell_type": "markdown",
   "metadata": {},
   "source": [
    "# Eliminacion de variables con varianzaiguales a 0 "
   ]
  },
  {
   "cell_type": "code",
   "execution_count": 1,
   "metadata": {},
   "outputs": [],
   "source": [
    "import pandas as pd\n"
   ]
  },
  {
   "cell_type": "code",
   "execution_count": 2,
   "metadata": {},
   "outputs": [
    {
     "data": {
      "text/html": [
       "<div>\n",
       "<style scoped>\n",
       "    .dataframe tbody tr th:only-of-type {\n",
       "        vertical-align: middle;\n",
       "    }\n",
       "\n",
       "    .dataframe tbody tr th {\n",
       "        vertical-align: top;\n",
       "    }\n",
       "\n",
       "    .dataframe thead th {\n",
       "        text-align: right;\n",
       "    }\n",
       "</style>\n",
       "<table border=\"1\" class=\"dataframe\">\n",
       "  <thead>\n",
       "    <tr style=\"text-align: right;\">\n",
       "      <th></th>\n",
       "      <th>PM10</th>\n",
       "      <th>PM2.5</th>\n",
       "      <th>SO2</th>\n",
       "      <th>CO</th>\n",
       "      <th>NOX</th>\n",
       "      <th>COV</th>\n",
       "      <th>NH3</th>\n",
       "      <th>CN</th>\n",
       "    </tr>\n",
       "    <tr>\n",
       "      <th>Numero_de_empresas</th>\n",
       "      <th></th>\n",
       "      <th></th>\n",
       "      <th></th>\n",
       "      <th></th>\n",
       "      <th></th>\n",
       "      <th></th>\n",
       "      <th></th>\n",
       "      <th></th>\n",
       "    </tr>\n",
       "  </thead>\n",
       "  <tbody>\n",
       "    <tr>\n",
       "      <th>0</th>\n",
       "      <td>945</td>\n",
       "      <td>629.0</td>\n",
       "      <td>1814.0</td>\n",
       "      <td>235</td>\n",
       "      <td>843.0</td>\n",
       "      <td>1836</td>\n",
       "      <td>14</td>\n",
       "      <td>5.0</td>\n",
       "    </tr>\n",
       "    <tr>\n",
       "      <th>588</th>\n",
       "      <td>1978</td>\n",
       "      <td>1842.0</td>\n",
       "      <td>5588.0</td>\n",
       "      <td>6850</td>\n",
       "      <td>NaN</td>\n",
       "      <td>11692</td>\n",
       "      <td>254</td>\n",
       "      <td>NaN</td>\n",
       "    </tr>\n",
       "    <tr>\n",
       "      <th>27</th>\n",
       "      <td>1028</td>\n",
       "      <td>752.0</td>\n",
       "      <td>22890.0</td>\n",
       "      <td>505</td>\n",
       "      <td>NaN</td>\n",
       "      <td>516</td>\n",
       "      <td>115</td>\n",
       "      <td>58.0</td>\n",
       "    </tr>\n",
       "    <tr>\n",
       "      <th>39</th>\n",
       "      <td>4527</td>\n",
       "      <td>3847.0</td>\n",
       "      <td>574973.0</td>\n",
       "      <td>8698</td>\n",
       "      <td>34132.0</td>\n",
       "      <td>3465</td>\n",
       "      <td>382</td>\n",
       "      <td>356.0</td>\n",
       "    </tr>\n",
       "    <tr>\n",
       "      <th>214</th>\n",
       "      <td>5063</td>\n",
       "      <td>3083.0</td>\n",
       "      <td>54592.0</td>\n",
       "      <td>2510</td>\n",
       "      <td>4845.0</td>\n",
       "      <td>3419</td>\n",
       "      <td>912</td>\n",
       "      <td>812.0</td>\n",
       "    </tr>\n",
       "  </tbody>\n",
       "</table>\n",
       "</div>"
      ],
      "text/plain": [
       "                    PM10   PM2.5       SO2    CO      NOX    COV  NH3     CN\n",
       "Numero_de_empresas                                                          \n",
       "0                    945   629.0    1814.0   235    843.0   1836   14    5.0\n",
       "588                 1978  1842.0    5588.0  6850      NaN  11692  254    NaN\n",
       "27                  1028   752.0   22890.0   505      NaN    516  115   58.0\n",
       "39                  4527  3847.0  574973.0  8698  34132.0   3465  382  356.0\n",
       "214                 5063  3083.0   54592.0  2510   4845.0   3419  912  812.0"
      ]
     },
     "execution_count": 2,
     "metadata": {},
     "output_type": "execute_result"
    }
   ],
   "source": [
    "df = pd.read_csv('C:/Users/sao/Desktop/Python/Datascience/datasets/Niveles de contaminacion.csv', index_col=0)\n",
    "df.head()"
   ]
  }
 ],
 "metadata": {
  "kernelspec": {
   "display_name": "Python 3",
   "language": "python",
   "name": "python3"
  },
  "language_info": {
   "codemirror_mode": {
    "name": "ipython",
    "version": 3
   },
   "file_extension": ".py",
   "mimetype": "text/x-python",
   "name": "python",
   "nbconvert_exporter": "python",
   "pygments_lexer": "ipython3",
   "version": "3.11.3"
  },
  "orig_nbformat": 4
 },
 "nbformat": 4,
 "nbformat_minor": 2
}
