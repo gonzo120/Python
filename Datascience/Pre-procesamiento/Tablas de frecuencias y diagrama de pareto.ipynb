{
 "cells": [
  {
   "cell_type": "code",
   "execution_count": 2,
   "metadata": {},
   "outputs": [
    {
     "data": {
      "image/png": "[encoded data removed]",
      "text/plain": [
       "<Figure size 640x480 with 1 Axes>"
      ]
     },
     "metadata": {},
     "output_type": "display_data"
    }
   ],
   "source": [
    "import pandas as pd \n",
    "import matplotlib.pyplot as plt\n",
    "import matplotlib.ticker as mtick\n",
    "\n",
    "# Código adicional\n",
    "\n",
    "plt.gca().yaxis.set_major_formatter(mtick.PercentFormatter())"
   ]
  },
  {
   "cell_type": "code",
   "execution_count": 5,
   "metadata": {},
   "outputs": [
    {
     "data": {
      "text/html": [
       "<div>\n",
       "<style scoped>\n",
       "    .dataframe tbody tr th:only-of-type {\n",
       "        vertical-align: middle;\n",
       "    }\n",
       "\n",
       "    .dataframe tbody tr th {\n",
       "        vertical-align: top;\n",
       "    }\n",
       "\n",
       "    .dataframe thead th {\n",
       "        text-align: right;\n",
       "    }\n",
       "</style>\n",
       "<table border=\"1\" class=\"dataframe\">\n",
       "  <thead>\n",
       "    <tr style=\"text-align: right;\">\n",
       "      <th></th>\n",
       "      <th>Transaccion</th>\n",
       "      <th>Producto</th>\n",
       "    </tr>\n",
       "  </thead>\n",
       "  <tbody>\n",
       "    <tr>\n",
       "      <th>0</th>\n",
       "      <td>1</td>\n",
       "      <td>Leche</td>\n",
       "    </tr>\n",
       "    <tr>\n",
       "      <th>1</th>\n",
       "      <td>1</td>\n",
       "      <td>Huevos</td>\n",
       "    </tr>\n",
       "    <tr>\n",
       "      <th>2</th>\n",
       "      <td>1</td>\n",
       "      <td>Pan</td>\n",
       "    </tr>\n",
       "    <tr>\n",
       "      <th>3</th>\n",
       "      <td>1</td>\n",
       "      <td>Mantequilla</td>\n",
       "    </tr>\n",
       "    <tr>\n",
       "      <th>4</th>\n",
       "      <td>2</td>\n",
       "      <td>Salchichas</td>\n",
       "    </tr>\n",
       "  </tbody>\n",
       "</table>\n",
       "</div>"
      ],
      "text/plain": [
       "   Transaccion     Producto\n",
       "0            1        Leche\n",
       "1            1       Huevos\n",
       "2            1          Pan\n",
       "3            1  Mantequilla\n",
       "4            2   Salchichas"
      ]
     },
     "execution_count": 5,
     "metadata": {},
     "output_type": "execute_result"
    }
   ],
   "source": [
    "df_compras = pd.read_csv('C:/Users/sao/Desktop/Python/Datascience/datasets/Datos compras.csv')\n",
    "df_compras.head()"
   ]
  },
  {
   "attachments": {},
   "cell_type": "markdown",
   "metadata": {},
   "source": [
    "Se hace un conteo por producto(Frecuencias absolutas)"
   ]
  },
  {
   "cell_type": "code",
   "execution_count": 6,
   "metadata": {},
   "outputs": [
    {
     "data": {
      "text/plain": [
       "Producto\n",
       "Leche          9\n",
       "Pan            9\n",
       "Mantequilla    9\n",
       "Galletas       5\n",
       "Catsup         3\n",
       "Huevos         2\n",
       "Salchichas     2\n",
       "Harina         1\n",
       "Mermerlada     1\n",
       "Atun           1\n",
       "Name: count, dtype: int64"
      ]
     },
     "execution_count": 6,
     "metadata": {},
     "output_type": "execute_result"
    }
   ],
   "source": [
    "frec = pd.value_counts(df_compras['Producto'])\n",
    "frec"
   ]
  },
  {
   "attachments": {},
   "cell_type": "markdown",
   "metadata": {},
   "source": [
    "Se guarda la info en un dataframe\n"
   ]
  },
  {
   "cell_type": "code",
   "execution_count": 8,
   "metadata": {},
   "outputs": [
    {
     "data": {
      "text/html": [
       "<div>\n",
       "<style scoped>\n",
       "    .dataframe tbody tr th:only-of-type {\n",
       "        vertical-align: middle;\n",
       "    }\n",
       "\n",
       "    .dataframe tbody tr th {\n",
       "        vertical-align: top;\n",
       "    }\n",
       "\n",
       "    .dataframe thead th {\n",
       "        text-align: right;\n",
       "    }\n",
       "</style>\n",
       "<table border=\"1\" class=\"dataframe\">\n",
       "  <thead>\n",
       "    <tr style=\"text-align: right;\">\n",
       "      <th></th>\n",
       "      <th>Frec_abs</th>\n",
       "    </tr>\n",
       "    <tr>\n",
       "      <th>Producto</th>\n",
       "      <th></th>\n",
       "    </tr>\n",
       "  </thead>\n",
       "  <tbody>\n",
       "    <tr>\n",
       "      <th>Leche</th>\n",
       "      <td>9</td>\n",
       "    </tr>\n",
       "    <tr>\n",
       "      <th>Pan</th>\n",
       "      <td>9</td>\n",
       "    </tr>\n",
       "    <tr>\n",
       "      <th>Mantequilla</th>\n",
       "      <td>9</td>\n",
       "    </tr>\n",
       "    <tr>\n",
       "      <th>Galletas</th>\n",
       "      <td>5</td>\n",
       "    </tr>\n",
       "    <tr>\n",
       "      <th>Catsup</th>\n",
       "      <td>3</td>\n",
       "    </tr>\n",
       "    <tr>\n",
       "      <th>Huevos</th>\n",
       "      <td>2</td>\n",
       "    </tr>\n",
       "    <tr>\n",
       "      <th>Salchichas</th>\n",
       "      <td>2</td>\n",
       "    </tr>\n",
       "    <tr>\n",
       "      <th>Harina</th>\n",
       "      <td>1</td>\n",
       "    </tr>\n",
       "    <tr>\n",
       "      <th>Mermerlada</th>\n",
       "      <td>1</td>\n",
       "    </tr>\n",
       "    <tr>\n",
       "      <th>Atun</th>\n",
       "      <td>1</td>\n",
       "    </tr>\n",
       "  </tbody>\n",
       "</table>\n",
       "</div>"
      ],
      "text/plain": [
       "             Frec_abs\n",
       "Producto             \n",
       "Leche               9\n",
       "Pan                 9\n",
       "Mantequilla         9\n",
       "Galletas            5\n",
       "Catsup              3\n",
       "Huevos              2\n",
       "Salchichas          2\n",
       "Harina              1\n",
       "Mermerlada          1\n",
       "Atun                1"
      ]
     },
     "execution_count": 8,
     "metadata": {},
     "output_type": "execute_result"
    }
   ],
   "source": [
    "frec_df=pd.DataFrame(frec)\n",
    "#Asignamos el nombre Frec_abs a la columna\n",
    "frec_df.columns = [\"Frec_abs\"]\n",
    "frec_df"
   ]
  },
  {
   "cell_type": "code",
   "execution_count": 11,
   "metadata": {},
   "outputs": [
    {
     "data": {
      "text/html": [
       "<div>\n",
       "<style scoped>\n",
       "    .dataframe tbody tr th:only-of-type {\n",
       "        vertical-align: middle;\n",
       "    }\n",
       "\n",
       "    .dataframe tbody tr th {\n",
       "        vertical-align: top;\n",
       "    }\n",
       "\n",
       "    .dataframe thead th {\n",
       "        text-align: right;\n",
       "    }\n",
       "</style>\n",
       "<table border=\"1\" class=\"dataframe\">\n",
       "  <thead>\n",
       "    <tr style=\"text-align: right;\">\n",
       "      <th></th>\n",
       "      <th>Frec_abs</th>\n",
       "      <th>Frec_real_%</th>\n",
       "    </tr>\n",
       "    <tr>\n",
       "      <th>Producto</th>\n",
       "      <th></th>\n",
       "      <th></th>\n",
       "    </tr>\n",
       "  </thead>\n",
       "  <tbody>\n",
       "    <tr>\n",
       "      <th>Leche</th>\n",
       "      <td>9</td>\n",
       "      <td>21.428571</td>\n",
       "    </tr>\n",
       "    <tr>\n",
       "      <th>Pan</th>\n",
       "      <td>9</td>\n",
       "      <td>21.428571</td>\n",
       "    </tr>\n",
       "    <tr>\n",
       "      <th>Mantequilla</th>\n",
       "      <td>9</td>\n",
       "      <td>21.428571</td>\n",
       "    </tr>\n",
       "    <tr>\n",
       "      <th>Galletas</th>\n",
       "      <td>5</td>\n",
       "      <td>11.904762</td>\n",
       "    </tr>\n",
       "    <tr>\n",
       "      <th>Catsup</th>\n",
       "      <td>3</td>\n",
       "      <td>7.142857</td>\n",
       "    </tr>\n",
       "    <tr>\n",
       "      <th>Huevos</th>\n",
       "      <td>2</td>\n",
       "      <td>4.761905</td>\n",
       "    </tr>\n",
       "    <tr>\n",
       "      <th>Salchichas</th>\n",
       "      <td>2</td>\n",
       "      <td>4.761905</td>\n",
       "    </tr>\n",
       "    <tr>\n",
       "      <th>Harina</th>\n",
       "      <td>1</td>\n",
       "      <td>2.380952</td>\n",
       "    </tr>\n",
       "    <tr>\n",
       "      <th>Mermerlada</th>\n",
       "      <td>1</td>\n",
       "      <td>2.380952</td>\n",
       "    </tr>\n",
       "    <tr>\n",
       "      <th>Atun</th>\n",
       "      <td>1</td>\n",
       "      <td>2.380952</td>\n",
       "    </tr>\n",
       "  </tbody>\n",
       "</table>\n",
       "</div>"
      ],
      "text/plain": [
       "             Frec_abs  Frec_real_%\n",
       "Producto                          \n",
       "Leche               9    21.428571\n",
       "Pan                 9    21.428571\n",
       "Mantequilla         9    21.428571\n",
       "Galletas            5    11.904762\n",
       "Catsup              3     7.142857\n",
       "Huevos              2     4.761905\n",
       "Salchichas          2     4.761905\n",
       "Harina              1     2.380952\n",
       "Mermerlada          1     2.380952\n",
       "Atun                1     2.380952"
      ]
     },
     "execution_count": 11,
     "metadata": {},
     "output_type": "execute_result"
    }
   ],
   "source": [
    "#calculamos la frecuencia relativa en porcentaje\n",
    "frec_df[\"Frec_real_%\"]=100*frec_df[\"Frec_abs\"]/len(df_compras)\n",
    "frec_df"
   ]
  },
  {
   "cell_type": "code",
   "execution_count": 13,
   "metadata": {},
   "outputs": [
    {
     "data": {
      "text/html": [
       "<div>\n",
       "<style scoped>\n",
       "    .dataframe tbody tr th:only-of-type {\n",
       "        vertical-align: middle;\n",
       "    }\n",
       "\n",
       "    .dataframe tbody tr th {\n",
       "        vertical-align: top;\n",
       "    }\n",
       "\n",
       "    .dataframe thead th {\n",
       "        text-align: right;\n",
       "    }\n",
       "</style>\n",
       "<table border=\"1\" class=\"dataframe\">\n",
       "  <thead>\n",
       "    <tr style=\"text-align: right;\">\n",
       "      <th></th>\n",
       "      <th>Frec_abs</th>\n",
       "      <th>Frec_real_%</th>\n",
       "      <th>Frec_real_%_acum</th>\n",
       "    </tr>\n",
       "    <tr>\n",
       "      <th>Producto</th>\n",
       "      <th></th>\n",
       "      <th></th>\n",
       "      <th></th>\n",
       "    </tr>\n",
       "  </thead>\n",
       "  <tbody>\n",
       "    <tr>\n",
       "      <th>Leche</th>\n",
       "      <td>9</td>\n",
       "      <td>21.428571</td>\n",
       "      <td>21.428571</td>\n",
       "    </tr>\n",
       "    <tr>\n",
       "      <th>Pan</th>\n",
       "      <td>9</td>\n",
       "      <td>21.428571</td>\n",
       "      <td>42.857143</td>\n",
       "    </tr>\n",
       "    <tr>\n",
       "      <th>Mantequilla</th>\n",
       "      <td>9</td>\n",
       "      <td>21.428571</td>\n",
       "      <td>64.285714</td>\n",
       "    </tr>\n",
       "    <tr>\n",
       "      <th>Galletas</th>\n",
       "      <td>5</td>\n",
       "      <td>11.904762</td>\n",
       "      <td>76.190476</td>\n",
       "    </tr>\n",
       "    <tr>\n",
       "      <th>Catsup</th>\n",
       "      <td>3</td>\n",
       "      <td>7.142857</td>\n",
       "      <td>83.333333</td>\n",
       "    </tr>\n",
       "    <tr>\n",
       "      <th>Huevos</th>\n",
       "      <td>2</td>\n",
       "      <td>4.761905</td>\n",
       "      <td>88.095238</td>\n",
       "    </tr>\n",
       "    <tr>\n",
       "      <th>Salchichas</th>\n",
       "      <td>2</td>\n",
       "      <td>4.761905</td>\n",
       "      <td>92.857143</td>\n",
       "    </tr>\n",
       "    <tr>\n",
       "      <th>Harina</th>\n",
       "      <td>1</td>\n",
       "      <td>2.380952</td>\n",
       "      <td>95.238095</td>\n",
       "    </tr>\n",
       "    <tr>\n",
       "      <th>Mermerlada</th>\n",
       "      <td>1</td>\n",
       "      <td>2.380952</td>\n",
       "      <td>97.619048</td>\n",
       "    </tr>\n",
       "    <tr>\n",
       "      <th>Atun</th>\n",
       "      <td>1</td>\n",
       "      <td>2.380952</td>\n",
       "      <td>100.000000</td>\n",
       "    </tr>\n",
       "  </tbody>\n",
       "</table>\n",
       "</div>"
      ],
      "text/plain": [
       "             Frec_abs  Frec_real_%  Frec_real_%_acum\n",
       "Producto                                            \n",
       "Leche               9    21.428571         21.428571\n",
       "Pan                 9    21.428571         42.857143\n",
       "Mantequilla         9    21.428571         64.285714\n",
       "Galletas            5    11.904762         76.190476\n",
       "Catsup              3     7.142857         83.333333\n",
       "Huevos              2     4.761905         88.095238\n",
       "Salchichas          2     4.761905         92.857143\n",
       "Harina              1     2.380952         95.238095\n",
       "Mermerlada          1     2.380952         97.619048\n",
       "Atun                1     2.380952        100.000000"
      ]
     },
     "execution_count": 13,
     "metadata": {},
     "output_type": "execute_result"
    }
   ],
   "source": [
    "# se calcula la Frecuencia Relativa en porcentaje Acumulada\n",
    "#Obtenemos los valors de las Frecuencias Absolutas\n",
    "Frec_rel_val = frec_df[\"Frec_real_%\"].values\n",
    "\n",
    "#Creamos una lista vacia en donde registraremos las frecuencias absolutas acumuladas\n",
    "acum = []\n",
    "\n",
    "#Iniciamos una variable en la que se guarda los valores anteriores\n",
    "valor_acum = 0\n",
    "\n",
    "#Se recorrera la lista de las frecuencias absolutas para que vaya sumando\n",
    "\n",
    "for i in Frec_rel_val:\n",
    "    valor_acum=valor_acum+ i\n",
    "    acum.append(valor_acum)\n",
    "\n",
    "frec_df[\"Frec_real_%_acum\"] = acum\n",
    "frec_df\n"
   ]
  },
  {
   "cell_type": "code",
   "execution_count": 28,
   "metadata": {},
   "outputs": [
    {
     "ename": "NameError",
     "evalue": "name 'PercentFormatter' is not defined",
     "output_type": "error",
     "traceback": [
      "\u001b[1;31m---------------------------------------------------------------------------\u001b[0m",
      "\u001b[1;31mNameError\u001b[0m                                 Traceback (most recent call last)",
      "Cell \u001b[1;32mIn[28], line 13\u001b[0m\n\u001b[0;32m     11\u001b[0m ax2 \u001b[39m=\u001b[39m ax\u001b[39m.\u001b[39mtwinx() \u001b[39m#Le indicamos que este será el nuevo eje a graficar\u001b[39;00m\n\u001b[0;32m     12\u001b[0m ax2\u001b[39m.\u001b[39mplot(frec_df\u001b[39m.\u001b[39m index, frec_df[\u001b[39m\"\u001b[39m\u001b[39mFrec_real_\u001b[39m\u001b[39m%\u001b[39m\u001b[39m_acum\u001b[39m\u001b[39m\"\u001b[39m], color\u001b[39m=\u001b[39m\u001b[39m\"\u001b[39m\u001b[39mC0\u001b[39m\u001b[39m\"\u001b[39m, marker\u001b[39m=\u001b[39m\u001b[39m\"\u001b[39m\u001b[39mD\u001b[39m\u001b[39m\"\u001b[39m, ms\u001b[39m=\u001b[39m\u001b[39m5\u001b[39m)\n\u001b[1;32m---> 13\u001b[0m ax2\u001b[39m.\u001b[39myaxis\u001b[39m.\u001b[39mset_major_formatter(PercentFormatter())\n\u001b[0;32m     14\u001b[0m \u001b[39m#Asignamos un color para las etiquetas de los ejes \"y\"\u001b[39;00m\n\u001b[0;32m     15\u001b[0m ax\u001b[39m.\u001b[39mtick_params(axis\u001b[39m=\u001b[39m\u001b[39m\"\u001b[39m\u001b[39my\u001b[39m\u001b[39m\"\u001b[39m, colors\u001b[39m=\u001b[39m\u001b[39m\"\u001b[39m\u001b[39mC0\u001b[39m\u001b[39m\"\u001b[39m)\n",
      "\u001b[1;31mNameError\u001b[0m: name 'PercentFormatter' is not defined"
     ]
    },
    {
     "data": {
      "image/png": "[encoded data removed]",
      "text/plain": [
       "<Figure size 640x480 with 2 Axes>"
      ]
     },
     "metadata": {},
     "output_type": "display_data"
    }
   ],
   "source": [
    "# Indicamos que utillizaremos un solo gráfico\n",
    "fig = plt.figure()\n",
    "ax = fig.add_subplot(1,1,1)\n",
    "#Le asionamos un titulo al gráfico\n",
    "ax.set_title('Diagrama de Pareto')\n",
    "\n",
    "#Creamos una gráfica de barras con las frecuencias absolutas\n",
    "ax.bar(frec_df. index, frec_df[\"Frec_abs\"], color=\"C0\")\n",
    "\n",
    "#Graficamos los valores de la Frecuencia Relativa Acumulada\n",
    "ax2 = ax.twinx() #Le indicamos que este será el nuevo eje a graficar\n",
    "ax2.plot(frec_df. index, frec_df[\"Frec_real_%_acum\"], color=\"C0\", marker=\"D\", ms=5)\n",
    "ax2.yaxis.set_major_formatter(PercentFormatter())\n",
    "#Asignamos un color para las etiquetas de los ejes \"y\"\n",
    "ax.tick_params(axis=\"y\", colors=\"C0\")\n",
    "ax2.tick_params(axis=\"y\", colors=\"C0\")\n",
    "#Rotamos las etiquetas del eje de las x's\n",
    "ax.set_xticklabels(frec_df. index, rotation=75)\n",
    "plt.show()"
   ]
  },
  {
   "attachments": {},
   "cell_type": "markdown",
   "metadata": {},
   "source": [
    "Version corregida"
   ]
  },
  {
   "cell_type": "code",
   "execution_count": 29,
   "metadata": {},
   "outputs": [
    {
     "name": "stderr",
     "output_type": "stream",
     "text": [
      "C:\\Users\\sao\\AppData\\Local\\Temp\\ipykernel_11688\\2584987966.py:30: UserWarning: FixedFormatter should only be used together with FixedLocator\n",
      "  ax.set_xticklabels(frec_df.index, rotation=75)\n"
     ]
    },
    {
     "data": {
      "image/png": "[encoded data removed]",
      "text/plain": [
       "<Figure size 640x480 with 2 Axes>"
      ]
     },
     "metadata": {},
     "output_type": "display_data"
    }
   ],
   "source": [
    "import matplotlib.pyplot as plt\n",
    "import matplotlib.ticker as mtick\n",
    "\n",
    "# Indicamos que utilizaremos un solo gráfico\n",
    "fig = plt.figure()\n",
    "ax = fig.add_subplot(1, 1, 1)\n",
    "\n",
    "# Le asignamos un título al gráfico\n",
    "ax.set_title('Diagrama de Pareto')\n",
    "\n",
    "# Creamos una gráfica de barras con las frecuencias absolutas\n",
    "ax.bar(frec_df.index, frec_df[\"Frec_abs\"], color=\"C0\")\n",
    "\n",
    "# Graficamos los valores de la Frecuencia Relativa Acumulada\n",
    "ax2 = ax.twinx()  # Le indicamos que este será el nuevo eje a graficar\n",
    "ax2.plot(frec_df.index, frec_df[\"Frec_real_%_acum\"], color=\"C0\", marker=\"D\", ms=5)\n",
    "\n",
    "# Función para formatear el eje y con porcentajes\n",
    "def format_percent(x, pos):\n",
    "    return f\"{x:.0f}%\"\n",
    "\n",
    "# Aplicamos la función de formateo al eje y\n",
    "ax2.yaxis.set_major_formatter(mtick.FuncFormatter(format_percent))\n",
    "\n",
    "# Asignamos un color para las etiquetas de los ejes \"y\"\n",
    "ax.tick_params(axis=\"y\", colors=\"C0\")\n",
    "ax2.tick_params(axis=\"y\", colors=\"C0\")\n",
    "\n",
    "# Rotamos las etiquetas del eje x\n",
    "ax.set_xticklabels(frec_df.index, rotation=75)\n",
    "\n",
    "plt.show()\n"
   ]
  }
 ],
 "metadata": {
  "kernelspec": {
   "display_name": "Python 3",
   "language": "python",
   "name": "python3"
  },
  "language_info": {
   "codemirror_mode": {
    "name": "ipython",
    "version": 3
   },
   "file_extension": ".py",
   "mimetype": "text/x-python",
   "name": "python",
   "nbconvert_exporter": "python",
   "pygments_lexer": "ipython3",
   "version": "3.11.3"
  },
  "orig_nbformat": 4
 },
 "nbformat": 4,
 "nbformat_minor": 2
}
