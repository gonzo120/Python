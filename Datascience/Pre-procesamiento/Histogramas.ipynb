{
 "cells": [
  {
   "cell_type": "code",
   "execution_count": 13,
   "metadata": {},
   "outputs": [],
   "source": [
    "import pandas as pd\n",
    "import matplotlib.pyplot as plt\n",
    "import seaborn as sns"
   ]
  },
  {
   "cell_type": "code",
   "execution_count": 7,
   "metadata": {},
   "outputs": [
    {
     "name": "stdout",
     "output_type": "stream",
     "text": [
      "<class 'pandas.core.frame.DataFrame'>\n",
      "Index: 1000 entries, 3475 to 8527\n",
      "Data columns (total 6 columns):\n",
      " #   Column     Non-Null Count  Dtype  \n",
      "---  ------     --------------  -----  \n",
      " 0   Lugar      1000 non-null   int64  \n",
      " 1   Genero     1000 non-null   object \n",
      " 2   Edad       1000 non-null   int64  \n",
      " 3   Pais       999 non-null    object \n",
      " 4   Tiempo     1000 non-null   float64\n",
      " 5   Velocidad  1000 non-null   object \n",
      "dtypes: float64(1), int64(2), object(3)\n",
      "memory usage: 54.7+ KB\n"
     ]
    }
   ],
   "source": [
    "df_atletas = pd.read_csv('C:/Users/sao/Desktop/Python/Datascience/datasets/categorias de corredores.csv', index_col=0)\n",
    "df_atletas.info()"
   ]
  },
  {
   "cell_type": "code",
   "execution_count": 8,
   "metadata": {},
   "outputs": [
    {
     "data": {
      "text/plain": [
       "(array([ 14.,  66., 159., 233., 220., 147.,  86.,  33.,  14.,  12.,   8.,\n",
       "          4.,   3.,   0.,   1.]),\n",
       " array([147.3333333 , 175.29666663, 203.25999997, 231.2233333 ,\n",
       "        259.18666663, 287.14999997, 315.1133333 , 343.07666663,\n",
       "        371.03999997, 399.0033333 , 426.96666663, 454.92999997,\n",
       "        482.8933333 , 510.85666663, 538.81999997, 566.7833333 ]),\n",
       " <BarContainer object of 15 artists>)"
      ]
     },
     "execution_count": 8,
     "metadata": {},
     "output_type": "execute_result"
    },
    {
     "data": {
      "image/png": "[encoded data removed]",
      "text/plain": [
       "<Figure size 640x480 with 1 Axes>"
      ]
     },
     "metadata": {},
     "output_type": "display_data"
    }
   ],
   "source": [
    "plt.hist(df_atletas['Tiempo'], 15, color=\"Yellow\", ec=\"black\")\n",
    "#.hist(dataframe,#de intervamos, color de las barras, color de limitacion de las barras)\n"
   ]
  },
  {
   "attachments": {},
   "cell_type": "markdown",
   "metadata": {},
   "source": [
    "si fuera una variable categorica y seaborn incluye graficos adicionales\n"
   ]
  },
  {
   "cell_type": "code",
   "execution_count": 9,
   "metadata": {},
   "outputs": [
    {
     "data": {
      "text/html": [
       "<div>\n",
       "<style scoped>\n",
       "    .dataframe tbody tr th:only-of-type {\n",
       "        vertical-align: middle;\n",
       "    }\n",
       "\n",
       "    .dataframe tbody tr th {\n",
       "        vertical-align: top;\n",
       "    }\n",
       "\n",
       "    .dataframe thead th {\n",
       "        text-align: right;\n",
       "    }\n",
       "</style>\n",
       "<table border=\"1\" class=\"dataframe\">\n",
       "  <thead>\n",
       "    <tr style=\"text-align: right;\">\n",
       "      <th></th>\n",
       "      <th>Lugar</th>\n",
       "      <th>Genero</th>\n",
       "      <th>Edad</th>\n",
       "      <th>Pais</th>\n",
       "      <th>Tiempo</th>\n",
       "      <th>Velocidad</th>\n",
       "    </tr>\n",
       "    <tr>\n",
       "      <th>Corredor</th>\n",
       "      <th></th>\n",
       "      <th></th>\n",
       "      <th></th>\n",
       "      <th></th>\n",
       "      <th></th>\n",
       "      <th></th>\n",
       "    </tr>\n",
       "  </thead>\n",
       "  <tbody>\n",
       "    <tr>\n",
       "      <th>3475</th>\n",
       "      <td>3592</td>\n",
       "      <td>Male</td>\n",
       "      <td>52</td>\n",
       "      <td>GBR</td>\n",
       "      <td>217.483333</td>\n",
       "      <td>Regular</td>\n",
       "    </tr>\n",
       "    <tr>\n",
       "      <th>13594</th>\n",
       "      <td>13853</td>\n",
       "      <td>Female</td>\n",
       "      <td>40</td>\n",
       "      <td>NY</td>\n",
       "      <td>272.550000</td>\n",
       "      <td>Regular</td>\n",
       "    </tr>\n",
       "    <tr>\n",
       "      <th>12012</th>\n",
       "      <td>12256</td>\n",
       "      <td>Male</td>\n",
       "      <td>31</td>\n",
       "      <td>FRA</td>\n",
       "      <td>265.283333</td>\n",
       "      <td>Regular</td>\n",
       "    </tr>\n",
       "    <tr>\n",
       "      <th>10236</th>\n",
       "      <td>10457</td>\n",
       "      <td>Female</td>\n",
       "      <td>33</td>\n",
       "      <td>MI</td>\n",
       "      <td>256.150000</td>\n",
       "      <td>Regular</td>\n",
       "    </tr>\n",
       "    <tr>\n",
       "      <th>9476</th>\n",
       "      <td>9686</td>\n",
       "      <td>Male</td>\n",
       "      <td>33</td>\n",
       "      <td>NY</td>\n",
       "      <td>252.250000</td>\n",
       "      <td>Regular</td>\n",
       "    </tr>\n",
       "    <tr>\n",
       "      <th>...</th>\n",
       "      <td>...</td>\n",
       "      <td>...</td>\n",
       "      <td>...</td>\n",
       "      <td>...</td>\n",
       "      <td>...</td>\n",
       "      <td>...</td>\n",
       "    </tr>\n",
       "    <tr>\n",
       "      <th>15972</th>\n",
       "      <td>16261</td>\n",
       "      <td>Male</td>\n",
       "      <td>61</td>\n",
       "      <td>FRA</td>\n",
       "      <td>285.883333</td>\n",
       "      <td>Regular</td>\n",
       "    </tr>\n",
       "    <tr>\n",
       "      <th>1090</th>\n",
       "      <td>1131</td>\n",
       "      <td>Male</td>\n",
       "      <td>37</td>\n",
       "      <td>GBR</td>\n",
       "      <td>191.916667</td>\n",
       "      <td>Veloz</td>\n",
       "    </tr>\n",
       "    <tr>\n",
       "      <th>16419</th>\n",
       "      <td>16713</td>\n",
       "      <td>Female</td>\n",
       "      <td>53</td>\n",
       "      <td>IRL</td>\n",
       "      <td>289.016667</td>\n",
       "      <td>Regular</td>\n",
       "    </tr>\n",
       "    <tr>\n",
       "      <th>13977</th>\n",
       "      <td>14241</td>\n",
       "      <td>Female</td>\n",
       "      <td>21</td>\n",
       "      <td>NY</td>\n",
       "      <td>276.050000</td>\n",
       "      <td>Regular</td>\n",
       "    </tr>\n",
       "    <tr>\n",
       "      <th>8527</th>\n",
       "      <td>8726</td>\n",
       "      <td>Male</td>\n",
       "      <td>55</td>\n",
       "      <td>GER</td>\n",
       "      <td>240.966667</td>\n",
       "      <td>Regular</td>\n",
       "    </tr>\n",
       "  </tbody>\n",
       "</table>\n",
       "<p>1000 rows × 6 columns</p>\n",
       "</div>"
      ],
      "text/plain": [
       "          Lugar  Genero  Edad Pais      Tiempo Velocidad\n",
       "Corredor                                                \n",
       "3475       3592    Male    52  GBR  217.483333   Regular\n",
       "13594     13853  Female    40   NY  272.550000   Regular\n",
       "12012     12256    Male    31  FRA  265.283333   Regular\n",
       "10236     10457  Female    33   MI  256.150000   Regular\n",
       "9476       9686    Male    33   NY  252.250000   Regular\n",
       "...         ...     ...   ...  ...         ...       ...\n",
       "15972     16261    Male    61  FRA  285.883333   Regular\n",
       "1090       1131    Male    37  GBR  191.916667     Veloz\n",
       "16419     16713  Female    53  IRL  289.016667   Regular\n",
       "13977     14241  Female    21   NY  276.050000   Regular\n",
       "8527       8726    Male    55  GER  240.966667   Regular\n",
       "\n",
       "[1000 rows x 6 columns]"
      ]
     },
     "execution_count": 9,
     "metadata": {},
     "output_type": "execute_result"
    }
   ],
   "source": [
    "df_atletas"
   ]
  },
  {
   "cell_type": "code",
   "execution_count": 15,
   "metadata": {},
   "outputs": [
    {
     "name": "stdout",
     "output_type": "stream",
     "text": [
      "Index(['Lugar', 'Genero', 'Edad', 'Pais', 'Tiempo', 'Velocidad'], dtype='object')\n"
     ]
    },
    {
     "data": {
      "text/plain": [
       "<Axes: xlabel='Velocidad', ylabel='count'>"
      ]
     },
     "execution_count": 15,
     "metadata": {},
     "output_type": "execute_result"
    },
    {
     "data": {
      "image/png": "[encoded data removed]",
      "text/plain": [
       "<Figure size 640x480 with 1 Axes>"
      ]
     },
     "metadata": {},
     "output_type": "display_data"
    }
   ],
   "source": [
    "# Verificar los nombres de las columnas del DataFrame\n",
    "print(df_atletas.columns)\n",
    "\n",
    "# Crear el gráfico de conteo de la columna 'Velocidad'\n",
    "sns.countplot(data=df_atletas, x='Velocidad', palette='ocean')"
   ]
  },
  {
   "cell_type": "code",
   "execution_count": 17,
   "metadata": {},
   "outputs": [
    {
     "data": {
      "image/png": "[encoded data removed]",
      "text/plain": [
       "<Figure size 640x480 with 1 Axes>"
      ]
     },
     "metadata": {},
     "output_type": "display_data"
    }
   ],
   "source": [
    "\n",
    " #velocidades en hombres y en mujeres\n",
    "\n",
    "grafico = sns.countplot(x ='Genero', hue='Velocidad', palette='hot_r', data=df_atletas)\n",
    "grafico.set(title='Velocidades por Género', xlabel = 'Género', ylabel = 'Total')\n",
    "plt.show()"
   ]
  },
  {
   "cell_type": "code",
   "execution_count": null,
   "metadata": {},
   "outputs": [],
   "source": []
  }
 ],
 "metadata": {
  "kernelspec": {
   "display_name": "Python 3",
   "language": "python",
   "name": "python3"
  },
  "language_info": {
   "codemirror_mode": {
    "name": "ipython",
    "version": 3
   },
   "file_extension": ".py",
   "mimetype": "text/x-python",
   "name": "python",
   "nbconvert_exporter": "python",
   "pygments_lexer": "ipython3",
   "version": "3.11.3"
  },
  "orig_nbformat": 4
 },
 "nbformat": 4,
 "nbformat_minor": 2
}
