{
 "cells": [
  {
   "cell_type": "code",
   "execution_count": 1,
   "metadata": {},
   "outputs": [
    {
     "data": {
      "text/plain": [
       "[4, 1, 2, 'Escritorio', 'Borrador', 50]"
      ]
     },
     "execution_count": 1,
     "metadata": {},
     "output_type": "execute_result"
    }
   ],
   "source": [
    "#Creacion de una lista\n",
    "datos = [4,1,2,\"Escritorio\",\"Borrador\",50]\n",
    "datos"
   ]
  },
  {
   "cell_type": "code",
   "execution_count": 2,
   "metadata": {},
   "outputs": [
    {
     "data": {
      "text/plain": [
       "list"
      ]
     },
     "execution_count": 2,
     "metadata": {},
     "output_type": "execute_result"
    }
   ],
   "source": [
    "#Nos muestre el tipo de objeto\n",
    "type(datos)"
   ]
  },
  {
   "cell_type": "code",
   "execution_count": 3,
   "metadata": {},
   "outputs": [
    {
     "data": {
      "text/plain": [
       "4"
      ]
     },
     "execution_count": 3,
     "metadata": {},
     "output_type": "execute_result"
    }
   ],
   "source": [
    "#Obtener el elemento que se eencuentra en la primera posicion\n",
    "datos[0]"
   ]
  },
  {
   "cell_type": "code",
   "execution_count": 4,
   "metadata": {},
   "outputs": [
    {
     "data": {
      "text/plain": [
       "[2, 'Escritorio', 'Borrador']"
      ]
     },
     "execution_count": 4,
     "metadata": {},
     "output_type": "execute_result"
    }
   ],
   "source": [
    "datos[2:5] #Toca colocar 1 mas \n"
   ]
  },
  {
   "cell_type": "code",
   "execution_count": 11,
   "metadata": {},
   "outputs": [
    {
     "data": {
      "text/plain": [
       "50"
      ]
     },
     "execution_count": 11,
     "metadata": {},
     "output_type": "execute_result"
    }
   ],
   "source": [
    "#Mostrar el penultimoo elemento\n",
    "datos[-2]"
   ]
  },
  {
   "cell_type": "code",
   "execution_count": 17,
   "metadata": {},
   "outputs": [
    {
     "data": {
      "text/plain": [
       "[4, 1, 2, 'Escritorio', 'Silla', 50, 'nelson']"
      ]
     },
     "execution_count": 17,
     "metadata": {},
     "output_type": "execute_result"
    }
   ],
   "source": [
    "#Sustituir elementos de una lista\n",
    "datos[4]=\"Silla\"\n",
    "\n",
    "datos"
   ]
  },
  {
   "cell_type": "code",
   "execution_count": 18,
   "metadata": {},
   "outputs": [
    {
     "data": {
      "text/plain": [
       "[4, 1, 2, 'Escritorio', 'Silla', 50, 'nelson', 75, 'pluma', 'lapiz']"
      ]
     },
     "execution_count": 18,
     "metadata": {},
     "output_type": "execute_result"
    }
   ],
   "source": [
    "#Concatenacion de lista\n",
    "\n",
    "datos=datos+[75,\"pluma\",\"lapiz\"]\n",
    "datos"
   ]
  },
  {
   "cell_type": "code",
   "execution_count": 20,
   "metadata": {},
   "outputs": [
    {
     "data": {
      "text/plain": [
       "[100, 300]"
      ]
     },
     "execution_count": 20,
     "metadata": {},
     "output_type": "execute_result"
    }
   ],
   "source": [
    "datos_2=[100,300]\n",
    "datos_2"
   ]
  },
  {
   "cell_type": "code",
   "execution_count": 22,
   "metadata": {},
   "outputs": [
    {
     "data": {
      "text/plain": [
       "[4, 1, 2, 'Escritorio', 'Silla', 50, 'nelson', 75, 'pluma', 'lapiz', 100, 300]"
      ]
     },
     "execution_count": 22,
     "metadata": {},
     "output_type": "execute_result"
    }
   ],
   "source": [
    "datos_3=datos+datos_2\n",
    "datos_3"
   ]
  },
  {
   "attachments": {},
   "cell_type": "markdown",
   "metadata": {},
   "source": [
    "# metodos que se pueden utilizar en una lista\n",
    "\n",
    "1. append()\n",
    "2. extend()\n",
    "3. insert()\n",
    "4. remove()\n",
    "5. pop()\n",
    "6. index()\n",
    "7. count()\n",
    "8. reverse()"
   ]
  },
  {
   "cell_type": "code",
   "execution_count": 24,
   "metadata": {},
   "outputs": [
    {
     "data": {
      "text/plain": [
       "[4,\n",
       " 1,\n",
       " 2,\n",
       " 'Escritorio',\n",
       " 'Silla',\n",
       " 50,\n",
       " 'nelson',\n",
       " 75,\n",
       " 'pluma',\n",
       " 'lapiz',\n",
       " 40,\n",
       " 'Gonzalez',\n",
       " 42,\n",
       " 40,\n",
       " 'Gonzalez',\n",
       " 42]"
      ]
     },
     "execution_count": 24,
     "metadata": {},
     "output_type": "execute_result"
    }
   ],
   "source": [
    "#.append() sirve para agregar un elemento a la lista\n",
    "#agregar los elementos de una lista a otra lista con extend()\n",
    "datos.extend([40,\"Gonzalez\",42])\n",
    "datos"
   ]
  },
  {
   "cell_type": "code",
   "execution_count": 25,
   "metadata": {},
   "outputs": [],
   "source": [
    "#Insertar un elemento dentro de una posicion especifica con insert()\n",
    "\n",
    "datos.insert(3, \"Carpeta\")\n",
    "\n"
   ]
  },
  {
   "cell_type": "code",
   "execution_count": 26,
   "metadata": {},
   "outputs": [
    {
     "data": {
      "text/plain": [
       "[4,\n",
       " 1,\n",
       " 2,\n",
       " 'Carpeta',\n",
       " 'Escritorio',\n",
       " 'Silla',\n",
       " 50,\n",
       " 'nelson',\n",
       " 75,\n",
       " 'pluma',\n",
       " 'lapiz',\n",
       " 40,\n",
       " 'Gonzalez',\n",
       " 42,\n",
       " 40,\n",
       " 'Gonzalez',\n",
       " 42]"
      ]
     },
     "execution_count": 26,
     "metadata": {},
     "output_type": "execute_result"
    }
   ],
   "source": [
    "datos"
   ]
  },
  {
   "attachments": {},
   "cell_type": "markdown",
   "metadata": {},
   "source": [
    "Elimnar un elemento de la lista con remove()"
   ]
  },
  {
   "cell_type": "code",
   "execution_count": 29,
   "metadata": {},
   "outputs": [],
   "source": [
    "datos.remove(42)"
   ]
  },
  {
   "cell_type": "code",
   "execution_count": 30,
   "metadata": {},
   "outputs": [
    {
     "data": {
      "text/plain": [
       "[4,\n",
       " 1,\n",
       " 2,\n",
       " 'Carpeta',\n",
       " 'Escritorio',\n",
       " 'Silla',\n",
       " 50,\n",
       " 'nelson',\n",
       " 75,\n",
       " 'pluma',\n",
       " 'lapiz',\n",
       " 40,\n",
       " 'Gonzalez',\n",
       " 40,\n",
       " 'Gonzalez']"
      ]
     },
     "execution_count": 30,
     "metadata": {},
     "output_type": "execute_result"
    }
   ],
   "source": [
    "datos"
   ]
  },
  {
   "cell_type": "code",
   "execution_count": 31,
   "metadata": {},
   "outputs": [
    {
     "data": {
      "text/plain": [
       "'Gonzalez'"
      ]
     },
     "execution_count": 31,
     "metadata": {},
     "output_type": "execute_result"
    }
   ],
   "source": [
    "#eliminar el ultimo elemento de la lista pop()\n",
    "datos.pop()"
   ]
  },
  {
   "cell_type": "code",
   "execution_count": 32,
   "metadata": {},
   "outputs": [
    {
     "data": {
      "text/plain": [
       "[4,\n",
       " 1,\n",
       " 2,\n",
       " 'Carpeta',\n",
       " 'Escritorio',\n",
       " 'Silla',\n",
       " 50,\n",
       " 'nelson',\n",
       " 75,\n",
       " 'pluma',\n",
       " 'lapiz',\n",
       " 40,\n",
       " 'Gonzalez',\n",
       " 40]"
      ]
     },
     "execution_count": 32,
     "metadata": {},
     "output_type": "execute_result"
    }
   ],
   "source": [
    "datos"
   ]
  },
  {
   "cell_type": "code",
   "execution_count": 33,
   "metadata": {},
   "outputs": [
    {
     "data": {
      "text/plain": [
       "12"
      ]
     },
     "execution_count": 33,
     "metadata": {},
     "output_type": "execute_result"
    }
   ],
   "source": [
    "#Obtener la posicion de un elemento en una lista con index()\n",
    "\n",
    "datos.index(\"Gonzalez\")"
   ]
  },
  {
   "cell_type": "code",
   "execution_count": 34,
   "metadata": {},
   "outputs": [
    {
     "data": {
      "text/plain": [
       "2"
      ]
     },
     "execution_count": 34,
     "metadata": {},
     "output_type": "execute_result"
    }
   ],
   "source": [
    "#Obtener la cantidad de veces que se encuentra en una lista con count()\n",
    "datos.count(40)"
   ]
  },
  {
   "cell_type": "code",
   "execution_count": 35,
   "metadata": {},
   "outputs": [],
   "source": [
    "#invertir el orden de los elementos en una lista con reverse()\n",
    "datos.reverse()"
   ]
  },
  {
   "cell_type": "code",
   "execution_count": 36,
   "metadata": {},
   "outputs": [
    {
     "data": {
      "text/plain": [
       "[40,\n",
       " 'Gonzalez',\n",
       " 40,\n",
       " 'lapiz',\n",
       " 'pluma',\n",
       " 75,\n",
       " 'nelson',\n",
       " 50,\n",
       " 'Silla',\n",
       " 'Escritorio',\n",
       " 'Carpeta',\n",
       " 2,\n",
       " 1,\n",
       " 4]"
      ]
     },
     "execution_count": 36,
     "metadata": {},
     "output_type": "execute_result"
    }
   ],
   "source": [
    "datos"
   ]
  },
  {
   "cell_type": "code",
   "execution_count": 38,
   "metadata": {},
   "outputs": [
    {
     "data": {
      "text/plain": [
       "True"
      ]
     },
     "execution_count": 38,
     "metadata": {},
     "output_type": "execute_result"
    }
   ],
   "source": [
    "#buscar un elemento en una lista\n",
    "'Gonzalez' in datos"
   ]
  },
  {
   "attachments": {},
   "cell_type": "markdown",
   "metadata": {},
   "source": [
    "# Recorrer una lista"
   ]
  },
  {
   "cell_type": "code",
   "execution_count": 39,
   "metadata": {},
   "outputs": [
    {
     "name": "stdout",
     "output_type": "stream",
     "text": [
      "10\n",
      "25\n",
      "33\n",
      "49\n",
      "52\n",
      "63\n"
     ]
    }
   ],
   "source": [
    "numeros =[10,25,33,49,52,63]\n",
    "\n",
    "for i in numeros:\n",
    "    print(i)"
   ]
  },
  {
   "cell_type": "code",
   "execution_count": 40,
   "metadata": {},
   "outputs": [
    {
     "name": "stdout",
     "output_type": "stream",
     "text": [
      " en el indice 0 se encuentra el numero 10\n",
      " en el indice 1 se encuentra el numero 25\n",
      " en el indice 2 se encuentra el numero 33\n"
     ]
    }
   ],
   "source": [
    "# Utilizando un range en una lista\n",
    "\n",
    "for i in range(3):\n",
    "    print(f' en el indice {i} se encuentra el numero {numeros[i]}')"
   ]
  },
  {
   "cell_type": "code",
   "execution_count": 42,
   "metadata": {},
   "outputs": [
    {
     "name": "stdout",
     "output_type": "stream",
     "text": [
      " en el indice 2 se encuentra el numero 33\n",
      " en el indice 3 se encuentra el numero 49\n",
      " en el indice 4 se encuentra el numero 52\n"
     ]
    }
   ],
   "source": [
    "for j in range(2,5):\n",
    "    print(f' en el indice {j} se encuentra el numero {numeros[j]}')\n"
   ]
  },
  {
   "cell_type": "code",
   "execution_count": 43,
   "metadata": {},
   "outputs": [
    {
     "name": "stdout",
     "output_type": "stream",
     "text": [
      "(0, 10)\n",
      "(1, 25)\n",
      "(2, 33)\n",
      "(3, 49)\n",
      "(4, 52)\n",
      "(5, 63)\n"
     ]
    }
   ],
   "source": [
    "#Utilizando for con la funcion enumerate\n",
    "for i in enumerate(numeros):\n",
    "    print(i)"
   ]
  }
 ],
 "metadata": {
  "kernelspec": {
   "display_name": "Python 3",
   "language": "python",
   "name": "python3"
  },
  "language_info": {
   "codemirror_mode": {
    "name": "ipython",
    "version": 3
   },
   "file_extension": ".py",
   "mimetype": "text/x-python",
   "name": "python",
   "nbconvert_exporter": "python",
   "pygments_lexer": "ipython3",
   "version": "3.11.3"
  },
  "orig_nbformat": 4
 },
 "nbformat": 4,
 "nbformat_minor": 2
}
