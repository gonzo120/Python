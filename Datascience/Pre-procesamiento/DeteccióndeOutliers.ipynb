{
 "cells": [
  {
   "cell_type": "code",
   "execution_count": 3,
   "metadata": {},
   "outputs": [],
   "source": [
    "import numpy as np #calculos cientificos\n",
    "import pandas as pd #procesamiento de datos\n",
    "import matplotlib.pyplot as plt\n",
    "\n",
    " "
   ]
  },
  {
   "cell_type": "code",
   "execution_count": 4,
   "metadata": {},
   "outputs": [
    {
     "data": {
      "text/html": [
       "<div>\n",
       "<style scoped>\n",
       "    .dataframe tbody tr th:only-of-type {\n",
       "        vertical-align: middle;\n",
       "    }\n",
       "\n",
       "    .dataframe tbody tr th {\n",
       "        vertical-align: top;\n",
       "    }\n",
       "\n",
       "    .dataframe thead th {\n",
       "        text-align: right;\n",
       "    }\n",
       "</style>\n",
       "<table border=\"1\" class=\"dataframe\">\n",
       "  <thead>\n",
       "    <tr style=\"text-align: right;\">\n",
       "      <th></th>\n",
       "      <th>Millas</th>\n",
       "    </tr>\n",
       "    <tr>\n",
       "      <th>Rio</th>\n",
       "      <th></th>\n",
       "    </tr>\n",
       "  </thead>\n",
       "  <tbody>\n",
       "    <tr>\n",
       "      <th>1</th>\n",
       "      <td>735</td>\n",
       "    </tr>\n",
       "    <tr>\n",
       "      <th>2</th>\n",
       "      <td>320</td>\n",
       "    </tr>\n",
       "    <tr>\n",
       "      <th>3</th>\n",
       "      <td>325</td>\n",
       "    </tr>\n",
       "    <tr>\n",
       "      <th>4</th>\n",
       "      <td>392</td>\n",
       "    </tr>\n",
       "    <tr>\n",
       "      <th>5</th>\n",
       "      <td>524</td>\n",
       "    </tr>\n",
       "    <tr>\n",
       "      <th>...</th>\n",
       "      <td>...</td>\n",
       "    </tr>\n",
       "    <tr>\n",
       "      <th>137</th>\n",
       "      <td>720</td>\n",
       "    </tr>\n",
       "    <tr>\n",
       "      <th>138</th>\n",
       "      <td>270</td>\n",
       "    </tr>\n",
       "    <tr>\n",
       "      <th>139</th>\n",
       "      <td>430</td>\n",
       "    </tr>\n",
       "    <tr>\n",
       "      <th>140</th>\n",
       "      <td>671</td>\n",
       "    </tr>\n",
       "    <tr>\n",
       "      <th>141</th>\n",
       "      <td>1770</td>\n",
       "    </tr>\n",
       "  </tbody>\n",
       "</table>\n",
       "<p>141 rows × 1 columns</p>\n",
       "</div>"
      ],
      "text/plain": [
       "     Millas\n",
       "Rio        \n",
       "1       735\n",
       "2       320\n",
       "3       325\n",
       "4       392\n",
       "5       524\n",
       "..      ...\n",
       "137     720\n",
       "138     270\n",
       "139     430\n",
       "140     671\n",
       "141    1770\n",
       "\n",
       "[141 rows x 1 columns]"
      ]
     },
     "execution_count": 4,
     "metadata": {},
     "output_type": "execute_result"
    }
   ],
   "source": [
    "df = pd.read_csv('C:/Users/sao/Desktop/Python/Datascience/datasets/Rios.csv', index_col=0)\n",
    "df"
   ]
  },
  {
   "cell_type": "code",
   "execution_count": 5,
   "metadata": {},
   "outputs": [
    {
     "data": {
      "image/png": "[encoded data removed]",
      "text/plain": [
       "<Figure size 640x480 with 1 Axes>"
      ]
     },
     "metadata": {},
     "output_type": "display_data"
    }
   ],
   "source": [
    "#Generaremos un histograma para ver como estan distribuidos\n",
    "plt.title('Rios')\n",
    "plt.hist(df['Millas'], edgecolor = 'black', linewidth=1)\n",
    "plt.show()"
   ]
  },
  {
   "cell_type": "code",
   "execution_count": 6,
   "metadata": {},
   "outputs": [
    {
     "data": {
      "image/png": "[encoded data removed]",
      "text/plain": [
       "<Figure size 640x480 with 1 Axes>"
      ]
     },
     "metadata": {},
     "output_type": "display_data"
    }
   ],
   "source": [
    "#Hacemos un grafico de caja y bigotes para ver los outliers\n",
    "plt.boxplot(df['Millas'], vert=False)\n",
    "plt.show()"
   ]
  },
  {
   "cell_type": "code",
   "execution_count": 7,
   "metadata": {},
   "outputs": [
    {
     "name": "stdout",
     "output_type": "stream",
     "text": [
      "Primer Cuartil 310.0\n",
      "Tercer Cuartil 680.0\n",
      "Rango Intercuartil 370.0\n",
      "Mediana 425.0\n",
      "Valor Minimo 135\n",
      "Valor Maximo 3710\n"
     ]
    }
   ],
   "source": [
    "#Obtenemos el primer tercer cuartil del conjunto de valores de la columna Millas del objeto rios\n",
    "Q1 = df['Millas'].quantile(0.25)\n",
    "print(\"Primer Cuartil\", Q1) # es el primer valor que esta por debajo del 25% de los datos\n",
    "\n",
    "Q3 = df['Millas'].quantile(0.75)\n",
    "print(\"Tercer Cuartil\", Q3) # es el tercer valor que esta por debajo del 75% de los datos\n",
    "#extremo derecho\n",
    "\n",
    "IQR = Q3 - Q1\n",
    "print(\"Rango Intercuartil\", IQR) #Sera importante para saber cuales son outliers y cuales no\n",
    "\n",
    "Mediana = df['Millas'].median()\n",
    "print(\"Mediana\", Mediana)\n",
    "\n",
    "Valor_Minimo = df['Millas'].min()\n",
    "print(\"Valor Minimo\", Valor_Minimo)\n",
    "\n",
    "Valor_Maximo = df['Millas'].max()\n",
    "print(\"Valor Maximo\", Valor_Maximo) "
   ]
  },
  {
   "cell_type": "code",
   "execution_count": 8,
   "metadata": {},
   "outputs": [
    {
     "name": "stdout",
     "output_type": "stream",
     "text": [
      "BI_Calculado  -245.0\n",
      "BS_Calculado  1235.0\n"
     ]
    }
   ],
   "source": [
    "BI_calculado = (Q1 - 1.5 * IQR) #Calculo del bigote inferior\n",
    "print(\"BI_Calculado \", BI_calculado) #si el valor min es mayor que el BI se dejara en el valor min  \n",
    "\n",
    "BS_calculado = (Q3 + 1.5 * IQR)#Calculo del bigote superior\n",
    "print(\"BS_Calculado \", BS_calculado) #el bigote superior se grafica en 1235"
   ]
  },
  {
   "cell_type": "code",
   "execution_count": 9,
   "metadata": {},
   "outputs": [
    {
     "name": "stdout",
     "output_type": "stream",
     "text": [
      "Ubicacion de los Outliers Rio\n",
      "1      False\n",
      "2      False\n",
      "3      False\n",
      "4      False\n",
      "5      False\n",
      "       ...  \n",
      "137    False\n",
      "138    False\n",
      "139    False\n",
      "140    False\n",
      "141     True\n",
      "Name: Millas, Length: 141, dtype: bool\n"
     ]
    },
    {
     "data": {
      "text/plain": [
       "Millas\n",
       "False    0.921986\n",
       "True     0.078014\n",
       "Name: proportion, dtype: float64"
      ]
     },
     "execution_count": 9,
     "metadata": {},
     "output_type": "execute_result"
    }
   ],
   "source": [
    "#Unicamos las filas en las que se encuentran los outliers\n",
    "ubicacion_outliers = (df['Millas']<BI_calculado) | (df['Millas']>BS_calculado)\n",
    "print(\"Ubicacion de los Outliers\", ubicacion_outliers)\n",
    "ubicacion_outliers.value_counts(True)"
   ]
  },
  {
   "cell_type": "code",
   "execution_count": 10,
   "metadata": {},
   "outputs": [
    {
     "name": "stdout",
     "output_type": "stream",
     "text": [
      "Lista de Outliers      Millas\n",
      "Rio        \n",
      "7      1459\n",
      "23     1450\n",
      "25     1243\n",
      "66     2348\n",
      "68     3710\n",
      "69     2315\n",
      "70     2533\n",
      "83     1306\n",
      "98     1270\n",
      "101    1885\n",
      "141    1770\n"
     ]
    }
   ],
   "source": [
    "outliers = df[ubicacion_outliers]\n",
    "print(\"Lista de Outliers\", outliers)"
   ]
  },
  {
   "cell_type": "code",
   "execution_count": 11,
   "metadata": {},
   "outputs": [
    {
     "data": {
      "text/html": [
       "<div>\n",
       "<style scoped>\n",
       "    .dataframe tbody tr th:only-of-type {\n",
       "        vertical-align: middle;\n",
       "    }\n",
       "\n",
       "    .dataframe tbody tr th {\n",
       "        vertical-align: top;\n",
       "    }\n",
       "\n",
       "    .dataframe thead th {\n",
       "        text-align: right;\n",
       "    }\n",
       "</style>\n",
       "<table border=\"1\" class=\"dataframe\">\n",
       "  <thead>\n",
       "    <tr style=\"text-align: right;\">\n",
       "      <th></th>\n",
       "      <th>Millas</th>\n",
       "    </tr>\n",
       "    <tr>\n",
       "      <th>Rio</th>\n",
       "      <th></th>\n",
       "    </tr>\n",
       "  </thead>\n",
       "  <tbody>\n",
       "    <tr>\n",
       "      <th>25</th>\n",
       "      <td>1243</td>\n",
       "    </tr>\n",
       "    <tr>\n",
       "      <th>98</th>\n",
       "      <td>1270</td>\n",
       "    </tr>\n",
       "    <tr>\n",
       "      <th>83</th>\n",
       "      <td>1306</td>\n",
       "    </tr>\n",
       "    <tr>\n",
       "      <th>23</th>\n",
       "      <td>1450</td>\n",
       "    </tr>\n",
       "    <tr>\n",
       "      <th>7</th>\n",
       "      <td>1459</td>\n",
       "    </tr>\n",
       "    <tr>\n",
       "      <th>141</th>\n",
       "      <td>1770</td>\n",
       "    </tr>\n",
       "    <tr>\n",
       "      <th>101</th>\n",
       "      <td>1885</td>\n",
       "    </tr>\n",
       "    <tr>\n",
       "      <th>69</th>\n",
       "      <td>2315</td>\n",
       "    </tr>\n",
       "    <tr>\n",
       "      <th>66</th>\n",
       "      <td>2348</td>\n",
       "    </tr>\n",
       "    <tr>\n",
       "      <th>70</th>\n",
       "      <td>2533</td>\n",
       "    </tr>\n",
       "    <tr>\n",
       "      <th>68</th>\n",
       "      <td>3710</td>\n",
       "    </tr>\n",
       "  </tbody>\n",
       "</table>\n",
       "</div>"
      ],
      "text/plain": [
       "     Millas\n",
       "Rio        \n",
       "25     1243\n",
       "98     1270\n",
       "83     1306\n",
       "23     1450\n",
       "7      1459\n",
       "141    1770\n",
       "101    1885\n",
       "69     2315\n",
       "66     2348\n",
       "70     2533\n",
       "68     3710"
      ]
     },
     "execution_count": 11,
     "metadata": {},
     "output_type": "execute_result"
    }
   ],
   "source": [
    "Outliers_Ordenados = outliers.sort_values(\"Millas\")\n",
    "Outliers_Ordenados #Menor a mayor"
   ]
  },
  {
   "cell_type": "code",
   "execution_count": 12,
   "metadata": {},
   "outputs": [
    {
     "data": {
      "text/html": [
       "<div>\n",
       "<style scoped>\n",
       "    .dataframe tbody tr th:only-of-type {\n",
       "        vertical-align: middle;\n",
       "    }\n",
       "\n",
       "    .dataframe tbody tr th {\n",
       "        vertical-align: top;\n",
       "    }\n",
       "\n",
       "    .dataframe thead th {\n",
       "        text-align: right;\n",
       "    }\n",
       "</style>\n",
       "<table border=\"1\" class=\"dataframe\">\n",
       "  <thead>\n",
       "    <tr style=\"text-align: right;\">\n",
       "      <th></th>\n",
       "      <th>Millas</th>\n",
       "    </tr>\n",
       "    <tr>\n",
       "      <th>Rio</th>\n",
       "      <th></th>\n",
       "    </tr>\n",
       "  </thead>\n",
       "  <tbody>\n",
       "    <tr>\n",
       "      <th>1</th>\n",
       "      <td>735</td>\n",
       "    </tr>\n",
       "    <tr>\n",
       "      <th>2</th>\n",
       "      <td>320</td>\n",
       "    </tr>\n",
       "    <tr>\n",
       "      <th>3</th>\n",
       "      <td>325</td>\n",
       "    </tr>\n",
       "    <tr>\n",
       "      <th>4</th>\n",
       "      <td>392</td>\n",
       "    </tr>\n",
       "    <tr>\n",
       "      <th>5</th>\n",
       "      <td>524</td>\n",
       "    </tr>\n",
       "    <tr>\n",
       "      <th>...</th>\n",
       "      <td>...</td>\n",
       "    </tr>\n",
       "    <tr>\n",
       "      <th>136</th>\n",
       "      <td>500</td>\n",
       "    </tr>\n",
       "    <tr>\n",
       "      <th>137</th>\n",
       "      <td>720</td>\n",
       "    </tr>\n",
       "    <tr>\n",
       "      <th>138</th>\n",
       "      <td>270</td>\n",
       "    </tr>\n",
       "    <tr>\n",
       "      <th>139</th>\n",
       "      <td>430</td>\n",
       "    </tr>\n",
       "    <tr>\n",
       "      <th>140</th>\n",
       "      <td>671</td>\n",
       "    </tr>\n",
       "  </tbody>\n",
       "</table>\n",
       "<p>130 rows × 1 columns</p>\n",
       "</div>"
      ],
      "text/plain": [
       "     Millas\n",
       "Rio        \n",
       "1       735\n",
       "2       320\n",
       "3       325\n",
       "4       392\n",
       "5       524\n",
       "..      ...\n",
       "136     500\n",
       "137     720\n",
       "138     270\n",
       "139     430\n",
       "140     671\n",
       "\n",
       "[130 rows x 1 columns]"
      ]
     },
     "execution_count": 12,
     "metadata": {},
     "output_type": "execute_result"
    }
   ],
   "source": [
    "#Nos quedamos con los valores que no son Outliers\n",
    "\n",
    "ubicacion_sin_out = (df['Millas'] >= BI_calculado) & (df['Millas'] <= BS_calculado)\n",
    "sin_outliers = df[ubicacion_sin_out]\n",
    "sin_outliers"
   ]
  },
  {
   "cell_type": "code",
   "execution_count": 13,
   "metadata": {},
   "outputs": [
    {
     "data": {
      "image/png": "[encoded data removed]",
      "text/plain": [
       "<Figure size 640x480 with 1 Axes>"
      ]
     },
     "metadata": {},
     "output_type": "display_data"
    }
   ],
   "source": [
    "#Hacemos el grafico de caja y bigotes para ver si el objeto \"sin_outliers\" ya no tiene outliers\n",
    "plt.title(\"sin_outliers\")\n",
    "plt.boxplot(sin_outliers[\"Millas\"], vert = False)\n",
    "plt.show()"
   ]
  },
  {
   "cell_type": "code",
   "execution_count": 14,
   "metadata": {},
   "outputs": [
    {
     "name": "stdout",
     "output_type": "stream",
     "text": [
      "Primer Cuartil 302.25\n",
      "Tercer Cuartil 603.75\n",
      "Rango Intercuartil 301.5\n",
      "Mediana 408.5\n",
      "Valor Minimo 135\n",
      "Valor Maximo 1205\n"
     ]
    }
   ],
   "source": [
    "#Obtenemos el primer tercer cuartil del conjunto de valores de la columna Millas del objeto rios\n",
    "Q_1 = sin_outliers['Millas'].quantile(0.25)\n",
    "print(\"Primer Cuartil\", Q_1) # es el primer valor que esta por debajo del 25% de los datos\n",
    "\n",
    "Q_3 = sin_outliers['Millas'].quantile(0.75)\n",
    "print(\"Tercer Cuartil\", Q_3) # es el tercer valor que esta por debajo del 75% de los datos\n",
    "#extremo derecho\n",
    "\n",
    "IQ_R = Q_3 - Q_1\n",
    "print(\"Rango Intercuartil\", IQ_R) #Sera importante para saber cuales son outliers y cuales no\n",
    "\n",
    "Mediana1 = sin_outliers['Millas'].median()\n",
    "print(\"Mediana\", Mediana1)\n",
    "\n",
    "Valor_Minimo1 = sin_outliers['Millas'].min()\n",
    "print(\"Valor Minimo\", Valor_Minimo1)\n",
    "\n",
    "Valor_Maximo1 = sin_outliers['Millas'].max()\n",
    "print(\"Valor Maximo\", Valor_Maximo1) "
   ]
  },
  {
   "cell_type": "code",
   "execution_count": 15,
   "metadata": {},
   "outputs": [
    {
     "name": "stdout",
     "output_type": "stream",
     "text": [
      "BI_Calculado  -150.0\n",
      "BS_Calculado  1056.0\n"
     ]
    }
   ],
   "source": [
    "BI_calculado1 = (Q_1 - 1.5 * IQ_R) #Calculo del bigote inferior\n",
    "print(\"BI_Calculado \", BI_calculado1) #si el valor min es mayor que el BI se dejara en el valor min  \n",
    "\n",
    "BS_calculado1 = (Q_3 + 1.5 * IQ_R)#Calculo del bigote superior\n",
    "print(\"BS_Calculado \", BS_calculado1) #el bigote superior se grafica en 1235"
   ]
  },
  {
   "cell_type": "code",
   "execution_count": 16,
   "metadata": {},
   "outputs": [
    {
     "name": "stdout",
     "output_type": "stream",
     "text": [
      "Ubicacion de los Outliers Rio\n",
      "1      False\n",
      "2      False\n",
      "3      False\n",
      "4      False\n",
      "5      False\n",
      "       ...  \n",
      "136    False\n",
      "137    False\n",
      "138    False\n",
      "139    False\n",
      "140    False\n",
      "Name: Millas, Length: 130, dtype: bool\n"
     ]
    }
   ],
   "source": [
    "#Unicamos las filas en las que se encuentran los outliers\n",
    "ubicacion_outliers1 = (sin_outliers['Millas']<BI_calculado1) | (sin_outliers['Millas']>=BS_calculado1)\n",
    "print(\"Ubicacion de los Outliers\", ubicacion_outliers1)\n"
   ]
  },
  {
   "cell_type": "code",
   "execution_count": 17,
   "metadata": {},
   "outputs": [
    {
     "name": "stdout",
     "output_type": "stream",
     "text": [
      "Lista de Outliers      Millas\n",
      "Rio        \n",
      "67     1171\n",
      "114    1100\n",
      "115    1205\n"
     ]
    }
   ],
   "source": [
    "outliers1 = sin_outliers[ubicacion_outliers1]\n",
    "print(\"Lista de Outliers\", outliers1)"
   ]
  },
  {
   "cell_type": "code",
   "execution_count": 18,
   "metadata": {},
   "outputs": [
    {
     "data": {
      "text/html": [
       "<div>\n",
       "<style scoped>\n",
       "    .dataframe tbody tr th:only-of-type {\n",
       "        vertical-align: middle;\n",
       "    }\n",
       "\n",
       "    .dataframe tbody tr th {\n",
       "        vertical-align: top;\n",
       "    }\n",
       "\n",
       "    .dataframe thead th {\n",
       "        text-align: right;\n",
       "    }\n",
       "</style>\n",
       "<table border=\"1\" class=\"dataframe\">\n",
       "  <thead>\n",
       "    <tr style=\"text-align: right;\">\n",
       "      <th></th>\n",
       "      <th>Millas</th>\n",
       "    </tr>\n",
       "    <tr>\n",
       "      <th>Rio</th>\n",
       "      <th></th>\n",
       "    </tr>\n",
       "  </thead>\n",
       "  <tbody>\n",
       "    <tr>\n",
       "      <th>114</th>\n",
       "      <td>1100</td>\n",
       "    </tr>\n",
       "    <tr>\n",
       "      <th>67</th>\n",
       "      <td>1171</td>\n",
       "    </tr>\n",
       "    <tr>\n",
       "      <th>115</th>\n",
       "      <td>1205</td>\n",
       "    </tr>\n",
       "  </tbody>\n",
       "</table>\n",
       "</div>"
      ],
      "text/plain": [
       "     Millas\n",
       "Rio        \n",
       "114    1100\n",
       "67     1171\n",
       "115    1205"
      ]
     },
     "execution_count": 18,
     "metadata": {},
     "output_type": "execute_result"
    }
   ],
   "source": [
    "Outliers_Ordenados1 = outliers1.sort_values(\"Millas\")\n",
    "Outliers_Ordenados1 #Menor a mayor"
   ]
  },
  {
   "cell_type": "code",
   "execution_count": 19,
   "metadata": {},
   "outputs": [
    {
     "data": {
      "text/html": [
       "<div>\n",
       "<style scoped>\n",
       "    .dataframe tbody tr th:only-of-type {\n",
       "        vertical-align: middle;\n",
       "    }\n",
       "\n",
       "    .dataframe tbody tr th {\n",
       "        vertical-align: top;\n",
       "    }\n",
       "\n",
       "    .dataframe thead th {\n",
       "        text-align: right;\n",
       "    }\n",
       "</style>\n",
       "<table border=\"1\" class=\"dataframe\">\n",
       "  <thead>\n",
       "    <tr style=\"text-align: right;\">\n",
       "      <th></th>\n",
       "      <th>Millas</th>\n",
       "    </tr>\n",
       "    <tr>\n",
       "      <th>Rio</th>\n",
       "      <th></th>\n",
       "    </tr>\n",
       "  </thead>\n",
       "  <tbody>\n",
       "    <tr>\n",
       "      <th>1</th>\n",
       "      <td>735</td>\n",
       "    </tr>\n",
       "    <tr>\n",
       "      <th>2</th>\n",
       "      <td>320</td>\n",
       "    </tr>\n",
       "    <tr>\n",
       "      <th>3</th>\n",
       "      <td>325</td>\n",
       "    </tr>\n",
       "    <tr>\n",
       "      <th>4</th>\n",
       "      <td>392</td>\n",
       "    </tr>\n",
       "    <tr>\n",
       "      <th>5</th>\n",
       "      <td>524</td>\n",
       "    </tr>\n",
       "    <tr>\n",
       "      <th>...</th>\n",
       "      <td>...</td>\n",
       "    </tr>\n",
       "    <tr>\n",
       "      <th>136</th>\n",
       "      <td>500</td>\n",
       "    </tr>\n",
       "    <tr>\n",
       "      <th>137</th>\n",
       "      <td>720</td>\n",
       "    </tr>\n",
       "    <tr>\n",
       "      <th>138</th>\n",
       "      <td>270</td>\n",
       "    </tr>\n",
       "    <tr>\n",
       "      <th>139</th>\n",
       "      <td>430</td>\n",
       "    </tr>\n",
       "    <tr>\n",
       "      <th>140</th>\n",
       "      <td>671</td>\n",
       "    </tr>\n",
       "  </tbody>\n",
       "</table>\n",
       "<p>127 rows × 1 columns</p>\n",
       "</div>"
      ],
      "text/plain": [
       "     Millas\n",
       "Rio        \n",
       "1       735\n",
       "2       320\n",
       "3       325\n",
       "4       392\n",
       "5       524\n",
       "..      ...\n",
       "136     500\n",
       "137     720\n",
       "138     270\n",
       "139     430\n",
       "140     671\n",
       "\n",
       "[127 rows x 1 columns]"
      ]
     },
     "execution_count": 19,
     "metadata": {},
     "output_type": "execute_result"
    }
   ],
   "source": [
    "ubicacion_sin_out1 = (sin_outliers['Millas'] >= BI_calculado1) & (sin_outliers['Millas'] <  BS_calculado1)\n",
    "sin_outliers_Definitivo = sin_outliers[ubicacion_sin_out1]\n",
    "sin_outliers_Definitivo"
   ]
  },
  {
   "cell_type": "code",
   "execution_count": 20,
   "metadata": {},
   "outputs": [
    {
     "data": {
      "image/png": "[encoded data removed]",
      "text/plain": [
       "<Figure size 640x480 with 1 Axes>"
      ]
     },
     "metadata": {},
     "output_type": "display_data"
    }
   ],
   "source": [
    "plt.title(\"Sin_outliers_definitivo\")\n",
    "plt.boxplot(sin_outliers_Definitivo,vert=False)\n",
    "plt.show()"
   ]
  },
  {
   "cell_type": "code",
   "execution_count": 21,
   "metadata": {},
   "outputs": [
    {
     "data": {
      "text/plain": [
       "Millas    215\n",
       "Name: 129, dtype: int64"
      ]
     },
     "execution_count": 21,
     "metadata": {},
     "output_type": "execute_result"
    }
   ],
   "source": [
    "sin_outliers_Definitivo.iloc[115]"
   ]
  },
  {
   "cell_type": "code",
   "execution_count": null,
   "metadata": {},
   "outputs": [],
   "source": []
  }
 ],
 "metadata": {
  "kernelspec": {
   "display_name": "Python 3",
   "language": "python",
   "name": "python3"
  },
  "language_info": {
   "codemirror_mode": {
    "name": "ipython",
    "version": 3
   },
   "file_extension": ".py",
   "mimetype": "text/x-python",
   "name": "python",
   "nbconvert_exporter": "python",
   "pygments_lexer": "ipython3",
   "version": "3.11.3"
  },
  "orig_nbformat": 4
 },
 "nbformat": 4,
 "nbformat_minor": 2
}
