{
  "cells": [
    {
      "cell_type": "markdown",
      "metadata": {
        "id": "view-in-github",
        "colab_type": "text"
      },
      "source": [
        "<a href=\"https://colab.research.google.com/github/gonzo120/Python/blob/main/IntroduccionDS_PreprocesadoInformacion.ipynb\" target=\"_parent\"><img src=\"https://colab.research.google.com/assets/colab-badge.svg\" alt=\"Open In Colab\"/></a>"
      ]
    },
    {
      "cell_type": "markdown",
      "id": "34eae0bc",
      "metadata": {
        "id": "34eae0bc"
      },
      "source": [
        "\n",
        "# Preprocesado de la información\n",
        "\n",
        "\n",
        "**Nelson Gonzalez**\n",
        "\n",
        "Curso Introducción a Data Science\n",
        ""
      ]
    },
    {
      "cell_type": "markdown",
      "id": "ca561817",
      "metadata": {
        "id": "ca561817"
      },
      "source": [
        "Los datos han sido obtenidos del siguiente [enlace](https://github.com/datadista/datasets/tree/master/COVID%2019)."
      ]
    },
    {
      "cell_type": "code",
      "execution_count": 1,
      "id": "35b4f01b",
      "metadata": {
        "id": "35b4f01b"
      },
      "outputs": [],
      "source": [
        "import pandas as pd\n",
        "import numpy as np\n",
        "import matplotlib.pyplot as plt\n",
        "import seaborn as sns"
      ]
    },
    {
      "cell_type": "markdown",
      "id": "RiQnYy92o3Mx",
      "metadata": {
        "id": "RiQnYy92o3Mx"
      },
      "source": [
        "Ejecutamos las siguientes líneas para poder conectarnos con nuestros documentos de Drive."
      ]
    },
    {
      "cell_type": "code",
      "execution_count": 2,
      "id": "LmfHaZdno2la",
      "metadata": {
        "colab": {
          "base_uri": "https://localhost:8080/"
        },
        "id": "LmfHaZdno2la",
        "outputId": "9bb0e187-d14f-407a-f762-45d67c818941"
      },
      "outputs": [
        {
          "output_type": "stream",
          "name": "stdout",
          "text": [
            "Mounted at /content/drive\n"
          ]
        }
      ],
      "source": [
        "from google.colab import drive\n",
        "drive.mount('/content/drive', force_remount=True)"
      ]
    },
    {
      "cell_type": "code",
      "source": [
        "%cd drive/My Drive/"
      ],
      "metadata": {
        "colab": {
          "base_uri": "https://localhost:8080/"
        },
        "id": "aAUuvLOKUqBk",
        "outputId": "452cf16c-c213-45c9-a5b6-6c024e20fe85"
      },
      "id": "aAUuvLOKUqBk",
      "execution_count": 3,
      "outputs": [
        {
          "output_type": "stream",
          "name": "stdout",
          "text": [
            "/content/drive/My Drive\n"
          ]
        }
      ]
    },
    {
      "cell_type": "code",
      "source": [
        "csv_file('C:/Users/sao/Downloads/new_ccaa_covid19_datos_sanidad_nueva_serie.csv')"
      ],
      "metadata": {
        "colab": {
          "base_uri": "https://localhost:8080/",
          "height": 172
        },
        "id": "AdBeAfPoSyfN",
        "outputId": "ee9bf6a1-a970-428d-be4c-8b1381c9d62f"
      },
      "id": "AdBeAfPoSyfN",
      "execution_count": 4,
      "outputs": [
        {
          "output_type": "error",
          "ename": "NameError",
          "evalue": "ignored",
          "traceback": [
            "\u001b[0;31m---------------------------------------------------------------------------\u001b[0m",
            "\u001b[0;31mNameError\u001b[0m                                 Traceback (most recent call last)",
            "\u001b[0;32m<ipython-input-4-3198ed65bb89>\u001b[0m in \u001b[0;36m<cell line: 1>\u001b[0;34m()\u001b[0m\n\u001b[0;32m----> 1\u001b[0;31m \u001b[0mcsv_file\u001b[0m\u001b[0;34m(\u001b[0m\u001b[0;34m'C:/Users/sao/Downloads/new_ccaa_covid19_datos_sanidad_nueva_serie.csv'\u001b[0m\u001b[0;34m)\u001b[0m\u001b[0;34m\u001b[0m\u001b[0;34m\u001b[0m\u001b[0m\n\u001b[0m",
            "\u001b[0;31mNameError\u001b[0m: name 'csv_file' is not defined"
          ]
        }
      ]
    },
    {
      "cell_type": "code",
      "execution_count": null,
      "id": "c907cbfd",
      "metadata": {
        "id": "c907cbfd",
        "colab": {
          "base_uri": "https://localhost:8080/",
          "height": 53
        },
        "outputId": "58fcc5d7-1fdf-4a27-aef4-e2b314c8ceb7"
      },
      "outputs": [
        {
          "output_type": "execute_result",
          "data": {
            "text/plain": [
              "\"df = pd.read_csv('Ejemplos/data/new_ccaa_covid19_datos_sanidad_nueva_serie.csv')\""
            ],
            "application/vnd.google.colaboratory.intrinsic+json": {
              "type": "string"
            }
          },
          "metadata": {},
          "execution_count": 45
        }
      ],
      "source": [
        "\"df = pd.read_csv('Ejemplos/data/new_ccaa_covid19_datos_sanidad_nueva_serie.csv')\"\n"
      ]
    },
    {
      "cell_type": "code",
      "execution_count": null,
      "id": "c08c50d1",
      "metadata": {
        "colab": {
          "base_uri": "https://localhost:8080/",
          "height": 35
        },
        "id": "c08c50d1",
        "outputId": "31cae251-408f-4802-a090-fc090d993514"
      },
      "outputs": [
        {
          "output_type": "execute_result",
          "data": {
            "text/plain": [
              "'df'"
            ],
            "application/vnd.google.colaboratory.intrinsic+json": {
              "type": "string"
            }
          },
          "metadata": {},
          "execution_count": 47
        }
      ],
      "source": [
        "'df'"
      ]
    },
    {
      "cell_type": "markdown",
      "id": "68fd63a2",
      "metadata": {
        "id": "68fd63a2"
      },
      "source": [
        "<font color='#d64040'>**¡CUIDADO!**</font> Hay que indicar el separador utilizado en el set de datos para leerlo correctamente."
      ]
    },
    {
      "cell_type": "markdown",
      "source": [
        "si los datos estan separados por algun signo se debe colocar con sep=';'"
      ],
      "metadata": {
        "id": "GPh4WiDHBLjm"
      },
      "id": "GPh4WiDHBLjm"
    },
    {
      "cell_type": "code",
      "execution_count": 5,
      "id": "f01e067e",
      "metadata": {
        "id": "f01e067e",
        "colab": {
          "base_uri": "https://localhost:8080/",
          "height": 36
        },
        "outputId": "082070e5-28ab-4754-8a7e-23bb004269cf"
      },
      "outputs": [
        {
          "output_type": "execute_result",
          "data": {
            "text/plain": [
              "\"df = pd.read_csv('Ejemplos/data/new_ccaa_covid19_datos_sanidad_nueva_serie.csv', sep=';')\""
            ],
            "application/vnd.google.colaboratory.intrinsic+json": {
              "type": "string"
            }
          },
          "metadata": {},
          "execution_count": 5
        }
      ],
      "source": [
        "\"df = pd.read_csv('Ejemplos/data/new_ccaa_covid19_datos_sanidad_nueva_serie.csv', sep=';')\""
      ]
    },
    {
      "cell_type": "code",
      "execution_count": 6,
      "id": "9195df4c",
      "metadata": {
        "colab": {
          "base_uri": "https://localhost:8080/",
          "height": 36
        },
        "id": "9195df4c",
        "outputId": "a05415c1-906d-4aad-a221-840d61bc7bbd"
      },
      "outputs": [
        {
          "output_type": "execute_result",
          "data": {
            "text/plain": [
              "'df'"
            ],
            "application/vnd.google.colaboratory.intrinsic+json": {
              "type": "string"
            }
          },
          "metadata": {},
          "execution_count": 6
        }
      ],
      "source": [
        "\"df\""
      ]
    },
    {
      "cell_type": "markdown",
      "id": "b62e2bb0",
      "metadata": {
        "id": "b62e2bb0"
      },
      "source": [
        "Comprobamos las dimensiones de nuestro set de datos."
      ]
    },
    {
      "cell_type": "code",
      "source": [
        "\"df.columns\"\n"
      ],
      "metadata": {
        "colab": {
          "base_uri": "https://localhost:8080/",
          "height": 36
        },
        "id": "dajRrDfsD4gw",
        "outputId": "0d0cdc0c-8cdb-4dc3-8d3b-39275412e112"
      },
      "id": "dajRrDfsD4gw",
      "execution_count": 7,
      "outputs": [
        {
          "output_type": "execute_result",
          "data": {
            "text/plain": [
              "'df.columns'"
            ],
            "application/vnd.google.colaboratory.intrinsic+json": {
              "type": "string"
            }
          },
          "metadata": {},
          "execution_count": 7
        }
      ]
    },
    {
      "cell_type": "code",
      "execution_count": null,
      "id": "14910872",
      "metadata": {
        "colab": {
          "base_uri": "https://localhost:8080/",
          "height": 35
        },
        "id": "14910872",
        "outputId": "a701cc6a-be84-4ed4-ca40-d976bd9187be"
      },
      "outputs": [
        {
          "output_type": "execute_result",
          "data": {
            "text/plain": [
              "'df.shape'"
            ],
            "application/vnd.google.colaboratory.intrinsic+json": {
              "type": "string"
            }
          },
          "metadata": {},
          "execution_count": 2
        }
      ],
      "source": [
        "\"df.shape\""
      ]
    },
    {
      "cell_type": "markdown",
      "id": "309b0cd8",
      "metadata": {
        "id": "309b0cd8"
      },
      "source": [
        "Para cada variable, obtenemos sus estadísticos."
      ]
    },
    {
      "cell_type": "code",
      "execution_count": null,
      "id": "098ea51c",
      "metadata": {
        "colab": {
          "base_uri": "https://localhost:8080/",
          "height": 35
        },
        "id": "098ea51c",
        "outputId": "d23b4b85-5ba5-4a9f-991a-fb303a380255"
      },
      "outputs": [
        {
          "output_type": "execute_result",
          "data": {
            "text/plain": [
              "'df.describe()'"
            ],
            "application/vnd.google.colaboratory.intrinsic+json": {
              "type": "string"
            }
          },
          "metadata": {},
          "execution_count": 49
        }
      ],
      "source": [
        "\"df.describe()\""
      ]
    },
    {
      "cell_type": "markdown",
      "id": "ed1414ae",
      "metadata": {
        "id": "ed1414ae"
      },
      "source": [
        "Detectamos que la variable UCI contiene algunos missings values, comprobamos que esto es cierto."
      ]
    },
    {
      "cell_type": "markdown",
      "id": "45c37bab",
      "metadata": {
        "id": "45c37bab"
      },
      "source": [
        "### Missing values"
      ]
    },
    {
      "cell_type": "code",
      "execution_count": null,
      "id": "3812e283",
      "metadata": {
        "colab": {
          "base_uri": "https://localhost:8080/"
        },
        "id": "3812e283",
        "outputId": "d47f49e7-e51a-4863-8ca1-99df1c9a7d42"
      },
      "outputs": [
        {
          "output_type": "execute_result",
          "data": {
            "text/plain": [
              "Fecha             0\n",
              "cod_ine           0\n",
              "CCAA              0\n",
              "Casos             0\n",
              "Fallecidos        0\n",
              "Hospitalizados    0\n",
              "UCI               3\n",
              "dtype: int64"
            ]
          },
          "metadata": {},
          "execution_count": 11
        }
      ],
      "source": [
        "df.isna().sum()"
      ]
    },
    {
      "cell_type": "markdown",
      "id": "f1dea906",
      "metadata": {
        "id": "f1dea906"
      },
      "source": [
        "Comprobamos que, efectivamente, tres de los registros de la variable UCI contienen missing values.\n",
        "\n",
        "Podemos eliminarlos o imputarlos."
      ]
    },
    {
      "cell_type": "code",
      "execution_count": null,
      "id": "a61c0816",
      "metadata": {
        "colab": {
          "base_uri": "https://localhost:8080/",
          "height": 143
        },
        "id": "a61c0816",
        "outputId": "ad017b3a-4943-4533-d447-0cc359c7dd78"
      },
      "outputs": [
        {
          "output_type": "execute_result",
          "data": {
            "text/plain": [
              "           Fecha  cod_ine                CCAA  Casos  Fallecidos  \\\n",
              "4     2020-01-01        4            Baleares      0           0   \n",
              "65    2020-01-04        5            Canarias      0           0   \n",
              "1068  2020-02-23        8  Castilla La Mancha      0           0   \n",
              "\n",
              "      Hospitalizados  UCI  \n",
              "4                  0  NaN  \n",
              "65                 0  NaN  \n",
              "1068               0  NaN  "
            ],
            "text/html": [
              "\n",
              "  <div id=\"df-52ccdec9-72b9-476e-bf38-6bf7efa328e0\">\n",
              "    <div class=\"colab-df-container\">\n",
              "      <div>\n",
              "<style scoped>\n",
              "    .dataframe tbody tr th:only-of-type {\n",
              "        vertical-align: middle;\n",
              "    }\n",
              "\n",
              "    .dataframe tbody tr th {\n",
              "        vertical-align: top;\n",
              "    }\n",
              "\n",
              "    .dataframe thead th {\n",
              "        text-align: right;\n",
              "    }\n",
              "</style>\n",
              "<table border=\"1\" class=\"dataframe\">\n",
              "  <thead>\n",
              "    <tr style=\"text-align: right;\">\n",
              "      <th></th>\n",
              "      <th>Fecha</th>\n",
              "      <th>cod_ine</th>\n",
              "      <th>CCAA</th>\n",
              "      <th>Casos</th>\n",
              "      <th>Fallecidos</th>\n",
              "      <th>Hospitalizados</th>\n",
              "      <th>UCI</th>\n",
              "    </tr>\n",
              "  </thead>\n",
              "  <tbody>\n",
              "    <tr>\n",
              "      <th>4</th>\n",
              "      <td>2020-01-01</td>\n",
              "      <td>4</td>\n",
              "      <td>Baleares</td>\n",
              "      <td>0</td>\n",
              "      <td>0</td>\n",
              "      <td>0</td>\n",
              "      <td>NaN</td>\n",
              "    </tr>\n",
              "    <tr>\n",
              "      <th>65</th>\n",
              "      <td>2020-01-04</td>\n",
              "      <td>5</td>\n",
              "      <td>Canarias</td>\n",
              "      <td>0</td>\n",
              "      <td>0</td>\n",
              "      <td>0</td>\n",
              "      <td>NaN</td>\n",
              "    </tr>\n",
              "    <tr>\n",
              "      <th>1068</th>\n",
              "      <td>2020-02-23</td>\n",
              "      <td>8</td>\n",
              "      <td>Castilla La Mancha</td>\n",
              "      <td>0</td>\n",
              "      <td>0</td>\n",
              "      <td>0</td>\n",
              "      <td>NaN</td>\n",
              "    </tr>\n",
              "  </tbody>\n",
              "</table>\n",
              "</div>\n",
              "      <button class=\"colab-df-convert\" onclick=\"convertToInteractive('df-52ccdec9-72b9-476e-bf38-6bf7efa328e0')\"\n",
              "              title=\"Convert this dataframe to an interactive table.\"\n",
              "              style=\"display:none;\">\n",
              "        \n",
              "  <svg xmlns=\"http://www.w3.org/2000/svg\" height=\"24px\"viewBox=\"0 0 24 24\"\n",
              "       width=\"24px\">\n",
              "    <path d=\"M0 0h24v24H0V0z\" fill=\"none\"/>\n",
              "    <path d=\"M18.56 5.44l.94 2.06.94-2.06 2.06-.94-2.06-.94-.94-2.06-.94 2.06-2.06.94zm-11 1L8.5 8.5l.94-2.06 2.06-.94-2.06-.94L8.5 2.5l-.94 2.06-2.06.94zm10 10l.94 2.06.94-2.06 2.06-.94-2.06-.94-.94-2.06-.94 2.06-2.06.94z\"/><path d=\"M17.41 7.96l-1.37-1.37c-.4-.4-.92-.59-1.43-.59-.52 0-1.04.2-1.43.59L10.3 9.45l-7.72 7.72c-.78.78-.78 2.05 0 2.83L4 21.41c.39.39.9.59 1.41.59.51 0 1.02-.2 1.41-.59l7.78-7.78 2.81-2.81c.8-.78.8-2.07 0-2.86zM5.41 20L4 18.59l7.72-7.72 1.47 1.35L5.41 20z\"/>\n",
              "  </svg>\n",
              "      </button>\n",
              "      \n",
              "  <style>\n",
              "    .colab-df-container {\n",
              "      display:flex;\n",
              "      flex-wrap:wrap;\n",
              "      gap: 12px;\n",
              "    }\n",
              "\n",
              "    .colab-df-convert {\n",
              "      background-color: #E8F0FE;\n",
              "      border: none;\n",
              "      border-radius: 50%;\n",
              "      cursor: pointer;\n",
              "      display: none;\n",
              "      fill: #1967D2;\n",
              "      height: 32px;\n",
              "      padding: 0 0 0 0;\n",
              "      width: 32px;\n",
              "    }\n",
              "\n",
              "    .colab-df-convert:hover {\n",
              "      background-color: #E2EBFA;\n",
              "      box-shadow: 0px 1px 2px rgba(60, 64, 67, 0.3), 0px 1px 3px 1px rgba(60, 64, 67, 0.15);\n",
              "      fill: #174EA6;\n",
              "    }\n",
              "\n",
              "    [theme=dark] .colab-df-convert {\n",
              "      background-color: #3B4455;\n",
              "      fill: #D2E3FC;\n",
              "    }\n",
              "\n",
              "    [theme=dark] .colab-df-convert:hover {\n",
              "      background-color: #434B5C;\n",
              "      box-shadow: 0px 1px 3px 1px rgba(0, 0, 0, 0.15);\n",
              "      filter: drop-shadow(0px 1px 2px rgba(0, 0, 0, 0.3));\n",
              "      fill: #FFFFFF;\n",
              "    }\n",
              "  </style>\n",
              "\n",
              "      <script>\n",
              "        const buttonEl =\n",
              "          document.querySelector('#df-52ccdec9-72b9-476e-bf38-6bf7efa328e0 button.colab-df-convert');\n",
              "        buttonEl.style.display =\n",
              "          google.colab.kernel.accessAllowed ? 'block' : 'none';\n",
              "\n",
              "        async function convertToInteractive(key) {\n",
              "          const element = document.querySelector('#df-52ccdec9-72b9-476e-bf38-6bf7efa328e0');\n",
              "          const dataTable =\n",
              "            await google.colab.kernel.invokeFunction('convertToInteractive',\n",
              "                                                     [key], {});\n",
              "          if (!dataTable) return;\n",
              "\n",
              "          const docLinkHtml = 'Like what you see? Visit the ' +\n",
              "            '<a target=\"_blank\" href=https://colab.research.google.com/notebooks/data_table.ipynb>data table notebook</a>'\n",
              "            + ' to learn more about interactive tables.';\n",
              "          element.innerHTML = '';\n",
              "          dataTable['output_type'] = 'display_data';\n",
              "          await google.colab.output.renderOutput(dataTable, element);\n",
              "          const docLink = document.createElement('div');\n",
              "          docLink.innerHTML = docLinkHtml;\n",
              "          element.appendChild(docLink);\n",
              "        }\n",
              "      </script>\n",
              "    </div>\n",
              "  </div>\n",
              "  "
            ]
          },
          "metadata": {},
          "execution_count": 12
        }
      ],
      "source": [
        "df[df.UCI.isna()]"
      ]
    },
    {
      "cell_type": "markdown",
      "id": "3ded2de7",
      "metadata": {
        "id": "3ded2de7"
      },
      "source": [
        "Para no perder registros, decidimos imputar a 0 los valores missing."
      ]
    },
    {
      "cell_type": "code",
      "execution_count": null,
      "id": "925ab844",
      "metadata": {
        "id": "925ab844"
      },
      "outputs": [],
      "source": [
        "df['UCI'] = df['UCI'].fillna(0)"
      ]
    },
    {
      "cell_type": "markdown",
      "id": "4bc5d624",
      "metadata": {
        "id": "4bc5d624"
      },
      "source": [
        "Comprobamos que hemos eliminado los missings."
      ]
    },
    {
      "cell_type": "code",
      "execution_count": null,
      "id": "9d137c6a",
      "metadata": {
        "colab": {
          "base_uri": "https://localhost:8080/"
        },
        "id": "9d137c6a",
        "outputId": "c0fdd437-0a49-47d0-d2d1-8d66d4c2d04a"
      },
      "outputs": [
        {
          "output_type": "execute_result",
          "data": {
            "text/plain": [
              "Fecha             0\n",
              "cod_ine           0\n",
              "CCAA              0\n",
              "Casos             0\n",
              "Fallecidos        0\n",
              "Hospitalizados    0\n",
              "UCI               0\n",
              "dtype: int64"
            ]
          },
          "metadata": {},
          "execution_count": 14
        }
      ],
      "source": [
        "df.isna().sum()"
      ]
    },
    {
      "cell_type": "markdown",
      "id": "948c754f",
      "metadata": {
        "id": "948c754f"
      },
      "source": [
        "### Outliers"
      ]
    },
    {
      "cell_type": "code",
      "execution_count": null,
      "id": "da51c2e4",
      "metadata": {
        "colab": {
          "base_uri": "https://localhost:8080/"
        },
        "id": "da51c2e4",
        "outputId": "0bd90640-a419-4674-a6bf-409ad0f5ad7d"
      },
      "outputs": [
        {
          "output_type": "execute_result",
          "data": {
            "text/plain": [
              "Index(['Fecha', 'cod_ine', 'CCAA', 'Casos', 'Fallecidos', 'Hospitalizados',\n",
              "       'UCI'],\n",
              "      dtype='object')"
            ]
          },
          "metadata": {},
          "execution_count": 15
        }
      ],
      "source": [
        "df.columns"
      ]
    },
    {
      "cell_type": "code",
      "execution_count": null,
      "id": "e39a733a",
      "metadata": {
        "id": "e39a733a"
      },
      "outputs": [],
      "source": [
        "num_cols = ['Casos', 'Fallecidos', 'Hospitalizados','UCI']"
      ]
    },
    {
      "cell_type": "code",
      "execution_count": null,
      "id": "9471af73",
      "metadata": {
        "colab": {
          "base_uri": "https://localhost:8080/",
          "height": 558
        },
        "id": "9471af73",
        "outputId": "acb050a8-88b5-47e9-e9a6-ecafe6f66f3f"
      },
      "outputs": [
        {
          "output_type": "display_data",
          "data": {
            "text/plain": [
              "<Figure size 1296x648 with 1 Axes>"
            ],
            "image/png": "[encoded data removed]"
          },
          "metadata": {
            "needs_background": "light"
          }
        }
      ],
      "source": [
        "plt.figure(figsize=(18,9))\n",
        "df[num_cols].boxplot()\n",
        "plt.title(\"Variables numéricas\", fontsize=20)\n",
        "plt.show()"
      ]
    },
    {
      "cell_type": "markdown",
      "id": "3059c5f1",
      "metadata": {
        "id": "3059c5f1"
      },
      "source": [
        "Observamos que la variable 'Casos' tiene bastantes valores anómalos, comprobamos de cuántos registros se trata y si tiene sentido en nuestro problema."
      ]
    },
    {
      "cell_type": "code",
      "execution_count": null,
      "id": "5df173cf",
      "metadata": {
        "colab": {
          "base_uri": "https://localhost:8080/",
          "height": 424
        },
        "id": "5df173cf",
        "outputId": "a19c0bf0-27db-4156-d47d-7252f6a747cf"
      },
      "outputs": [
        {
          "output_type": "execute_result",
          "data": {
            "text/plain": [
              "            Fecha  cod_ine         CCAA  Casos  Fallecidos  Hospitalizados  \\\n",
              "1393   2020-03-10       13       Madrid    660          25             411   \n",
              "1413   2020-03-11       13       Madrid    836          25             548   \n",
              "1433   2020-03-12       13       Madrid    975          39             584   \n",
              "1453   2020-03-13       13       Madrid    889          48             586   \n",
              "1473   2020-03-14       13       Madrid    899          64             637   \n",
              "...           ...      ...          ...    ...         ...             ...   \n",
              "16211  2022-03-21       11  Extremadura    870           0               3   \n",
              "16212  2022-03-21       12      Galicia   1231           0              37   \n",
              "16213  2022-03-21       13       Madrid   1800           0              24   \n",
              "16214  2022-03-21       14       Murcia    550           3               1   \n",
              "16216  2022-03-21       16   País Vasco    923           0               0   \n",
              "\n",
              "        UCI  \n",
              "1393   34.0  \n",
              "1413   47.0  \n",
              "1433   51.0  \n",
              "1453   76.0  \n",
              "1473   66.0  \n",
              "...     ...  \n",
              "16211   0.0  \n",
              "16212   0.0  \n",
              "16213   1.0  \n",
              "16214   0.0  \n",
              "16216   0.0  \n",
              "\n",
              "[4054 rows x 7 columns]"
            ],
            "text/html": [
              "\n",
              "  <div id=\"df-f4de2229-61cf-43b8-a1d5-a529c83e0349\">\n",
              "    <div class=\"colab-df-container\">\n",
              "      <div>\n",
              "<style scoped>\n",
              "    .dataframe tbody tr th:only-of-type {\n",
              "        vertical-align: middle;\n",
              "    }\n",
              "\n",
              "    .dataframe tbody tr th {\n",
              "        vertical-align: top;\n",
              "    }\n",
              "\n",
              "    .dataframe thead th {\n",
              "        text-align: right;\n",
              "    }\n",
              "</style>\n",
              "<table border=\"1\" class=\"dataframe\">\n",
              "  <thead>\n",
              "    <tr style=\"text-align: right;\">\n",
              "      <th></th>\n",
              "      <th>Fecha</th>\n",
              "      <th>cod_ine</th>\n",
              "      <th>CCAA</th>\n",
              "      <th>Casos</th>\n",
              "      <th>Fallecidos</th>\n",
              "      <th>Hospitalizados</th>\n",
              "      <th>UCI</th>\n",
              "    </tr>\n",
              "  </thead>\n",
              "  <tbody>\n",
              "    <tr>\n",
              "      <th>1393</th>\n",
              "      <td>2020-03-10</td>\n",
              "      <td>13</td>\n",
              "      <td>Madrid</td>\n",
              "      <td>660</td>\n",
              "      <td>25</td>\n",
              "      <td>411</td>\n",
              "      <td>34.0</td>\n",
              "    </tr>\n",
              "    <tr>\n",
              "      <th>1413</th>\n",
              "      <td>2020-03-11</td>\n",
              "      <td>13</td>\n",
              "      <td>Madrid</td>\n",
              "      <td>836</td>\n",
              "      <td>25</td>\n",
              "      <td>548</td>\n",
              "      <td>47.0</td>\n",
              "    </tr>\n",
              "    <tr>\n",
              "      <th>1433</th>\n",
              "      <td>2020-03-12</td>\n",
              "      <td>13</td>\n",
              "      <td>Madrid</td>\n",
              "      <td>975</td>\n",
              "      <td>39</td>\n",
              "      <td>584</td>\n",
              "      <td>51.0</td>\n",
              "    </tr>\n",
              "    <tr>\n",
              "      <th>1453</th>\n",
              "      <td>2020-03-13</td>\n",
              "      <td>13</td>\n",
              "      <td>Madrid</td>\n",
              "      <td>889</td>\n",
              "      <td>48</td>\n",
              "      <td>586</td>\n",
              "      <td>76.0</td>\n",
              "    </tr>\n",
              "    <tr>\n",
              "      <th>1473</th>\n",
              "      <td>2020-03-14</td>\n",
              "      <td>13</td>\n",
              "      <td>Madrid</td>\n",
              "      <td>899</td>\n",
              "      <td>64</td>\n",
              "      <td>637</td>\n",
              "      <td>66.0</td>\n",
              "    </tr>\n",
              "    <tr>\n",
              "      <th>...</th>\n",
              "      <td>...</td>\n",
              "      <td>...</td>\n",
              "      <td>...</td>\n",
              "      <td>...</td>\n",
              "      <td>...</td>\n",
              "      <td>...</td>\n",
              "      <td>...</td>\n",
              "    </tr>\n",
              "    <tr>\n",
              "      <th>16211</th>\n",
              "      <td>2022-03-21</td>\n",
              "      <td>11</td>\n",
              "      <td>Extremadura</td>\n",
              "      <td>870</td>\n",
              "      <td>0</td>\n",
              "      <td>3</td>\n",
              "      <td>0.0</td>\n",
              "    </tr>\n",
              "    <tr>\n",
              "      <th>16212</th>\n",
              "      <td>2022-03-21</td>\n",
              "      <td>12</td>\n",
              "      <td>Galicia</td>\n",
              "      <td>1231</td>\n",
              "      <td>0</td>\n",
              "      <td>37</td>\n",
              "      <td>0.0</td>\n",
              "    </tr>\n",
              "    <tr>\n",
              "      <th>16213</th>\n",
              "      <td>2022-03-21</td>\n",
              "      <td>13</td>\n",
              "      <td>Madrid</td>\n",
              "      <td>1800</td>\n",
              "      <td>0</td>\n",
              "      <td>24</td>\n",
              "      <td>1.0</td>\n",
              "    </tr>\n",
              "    <tr>\n",
              "      <th>16214</th>\n",
              "      <td>2022-03-21</td>\n",
              "      <td>14</td>\n",
              "      <td>Murcia</td>\n",
              "      <td>550</td>\n",
              "      <td>3</td>\n",
              "      <td>1</td>\n",
              "      <td>0.0</td>\n",
              "    </tr>\n",
              "    <tr>\n",
              "      <th>16216</th>\n",
              "      <td>2022-03-21</td>\n",
              "      <td>16</td>\n",
              "      <td>País Vasco</td>\n",
              "      <td>923</td>\n",
              "      <td>0</td>\n",
              "      <td>0</td>\n",
              "      <td>0.0</td>\n",
              "    </tr>\n",
              "  </tbody>\n",
              "</table>\n",
              "<p>4054 rows × 7 columns</p>\n",
              "</div>\n",
              "      <button class=\"colab-df-convert\" onclick=\"convertToInteractive('df-f4de2229-61cf-43b8-a1d5-a529c83e0349')\"\n",
              "              title=\"Convert this dataframe to an interactive table.\"\n",
              "              style=\"display:none;\">\n",
              "        \n",
              "  <svg xmlns=\"http://www.w3.org/2000/svg\" height=\"24px\"viewBox=\"0 0 24 24\"\n",
              "       width=\"24px\">\n",
              "    <path d=\"M0 0h24v24H0V0z\" fill=\"none\"/>\n",
              "    <path d=\"M18.56 5.44l.94 2.06.94-2.06 2.06-.94-2.06-.94-.94-2.06-.94 2.06-2.06.94zm-11 1L8.5 8.5l.94-2.06 2.06-.94-2.06-.94L8.5 2.5l-.94 2.06-2.06.94zm10 10l.94 2.06.94-2.06 2.06-.94-2.06-.94-.94-2.06-.94 2.06-2.06.94z\"/><path d=\"M17.41 7.96l-1.37-1.37c-.4-.4-.92-.59-1.43-.59-.52 0-1.04.2-1.43.59L10.3 9.45l-7.72 7.72c-.78.78-.78 2.05 0 2.83L4 21.41c.39.39.9.59 1.41.59.51 0 1.02-.2 1.41-.59l7.78-7.78 2.81-2.81c.8-.78.8-2.07 0-2.86zM5.41 20L4 18.59l7.72-7.72 1.47 1.35L5.41 20z\"/>\n",
              "  </svg>\n",
              "      </button>\n",
              "      \n",
              "  <style>\n",
              "    .colab-df-container {\n",
              "      display:flex;\n",
              "      flex-wrap:wrap;\n",
              "      gap: 12px;\n",
              "    }\n",
              "\n",
              "    .colab-df-convert {\n",
              "      background-color: #E8F0FE;\n",
              "      border: none;\n",
              "      border-radius: 50%;\n",
              "      cursor: pointer;\n",
              "      display: none;\n",
              "      fill: #1967D2;\n",
              "      height: 32px;\n",
              "      padding: 0 0 0 0;\n",
              "      width: 32px;\n",
              "    }\n",
              "\n",
              "    .colab-df-convert:hover {\n",
              "      background-color: #E2EBFA;\n",
              "      box-shadow: 0px 1px 2px rgba(60, 64, 67, 0.3), 0px 1px 3px 1px rgba(60, 64, 67, 0.15);\n",
              "      fill: #174EA6;\n",
              "    }\n",
              "\n",
              "    [theme=dark] .colab-df-convert {\n",
              "      background-color: #3B4455;\n",
              "      fill: #D2E3FC;\n",
              "    }\n",
              "\n",
              "    [theme=dark] .colab-df-convert:hover {\n",
              "      background-color: #434B5C;\n",
              "      box-shadow: 0px 1px 3px 1px rgba(0, 0, 0, 0.15);\n",
              "      filter: drop-shadow(0px 1px 2px rgba(0, 0, 0, 0.3));\n",
              "      fill: #FFFFFF;\n",
              "    }\n",
              "  </style>\n",
              "\n",
              "      <script>\n",
              "        const buttonEl =\n",
              "          document.querySelector('#df-f4de2229-61cf-43b8-a1d5-a529c83e0349 button.colab-df-convert');\n",
              "        buttonEl.style.display =\n",
              "          google.colab.kernel.accessAllowed ? 'block' : 'none';\n",
              "\n",
              "        async function convertToInteractive(key) {\n",
              "          const element = document.querySelector('#df-f4de2229-61cf-43b8-a1d5-a529c83e0349');\n",
              "          const dataTable =\n",
              "            await google.colab.kernel.invokeFunction('convertToInteractive',\n",
              "                                                     [key], {});\n",
              "          if (!dataTable) return;\n",
              "\n",
              "          const docLinkHtml = 'Like what you see? Visit the ' +\n",
              "            '<a target=\"_blank\" href=https://colab.research.google.com/notebooks/data_table.ipynb>data table notebook</a>'\n",
              "            + ' to learn more about interactive tables.';\n",
              "          element.innerHTML = '';\n",
              "          dataTable['output_type'] = 'display_data';\n",
              "          await google.colab.output.renderOutput(dataTable, element);\n",
              "          const docLink = document.createElement('div');\n",
              "          docLink.innerHTML = docLinkHtml;\n",
              "          element.appendChild(docLink);\n",
              "        }\n",
              "      </script>\n",
              "    </div>\n",
              "  </div>\n",
              "  "
            ]
          },
          "metadata": {},
          "execution_count": 18
        }
      ],
      "source": [
        "df[df['Casos'] > 500]"
      ]
    },
    {
      "cell_type": "markdown",
      "id": "6793e46b",
      "metadata": {
        "id": "6793e46b"
      },
      "source": [
        "Comprobamos que se trata de registros válidos, pese a ser outliers, por lo que no hacemos modificaciones ni transformaciones."
      ]
    },
    {
      "cell_type": "markdown",
      "id": "06ff807f",
      "metadata": {
        "id": "06ff807f"
      },
      "source": [
        "### Transformación de variables"
      ]
    },
    {
      "cell_type": "code",
      "execution_count": null,
      "id": "b1c33288",
      "metadata": {
        "colab": {
          "base_uri": "https://localhost:8080/"
        },
        "id": "b1c33288",
        "outputId": "95be2f8b-33bf-41d6-a70a-dd61c46de1ee"
      },
      "outputs": [
        {
          "output_type": "execute_result",
          "data": {
            "text/plain": [
              "Fecha              object\n",
              "cod_ine             int64\n",
              "CCAA               object\n",
              "Casos               int64\n",
              "Fallecidos          int64\n",
              "Hospitalizados      int64\n",
              "UCI               float64\n",
              "dtype: object"
            ]
          },
          "metadata": {},
          "execution_count": 19
        }
      ],
      "source": [
        "df.dtypes"
      ]
    },
    {
      "cell_type": "markdown",
      "id": "08c6095f",
      "metadata": {
        "id": "08c6095f"
      },
      "source": [
        "La variable *Fecha* es de tipo string, debemos cambiarla a tipo datetime. De manera análoga ocurre con *cod_ine*, la identifica como de tipo entero, pero debería ser un string, ya que se trata de un código identificador."
      ]
    },
    {
      "cell_type": "code",
      "execution_count": null,
      "id": "5dd58577",
      "metadata": {
        "id": "5dd58577"
      },
      "outputs": [],
      "source": [
        "df['Fecha'] = pd.to_datetime(df['Fecha'])"
      ]
    },
    {
      "cell_type": "code",
      "execution_count": null,
      "id": "fc5cedcf",
      "metadata": {
        "id": "fc5cedcf"
      },
      "outputs": [],
      "source": [
        "df['cod_ine'] = df['cod_ine'].astype(str)"
      ]
    },
    {
      "cell_type": "code",
      "execution_count": null,
      "id": "3cb469b1",
      "metadata": {
        "colab": {
          "base_uri": "https://localhost:8080/"
        },
        "id": "3cb469b1",
        "outputId": "ab9e90f7-b8d1-424c-faac-a0055bee7229"
      },
      "outputs": [
        {
          "output_type": "execute_result",
          "data": {
            "text/plain": [
              "Fecha             datetime64[ns]\n",
              "cod_ine                   object\n",
              "CCAA                      object\n",
              "Casos                      int64\n",
              "Fallecidos                 int64\n",
              "Hospitalizados             int64\n",
              "UCI                      float64\n",
              "dtype: object"
            ]
          },
          "metadata": {},
          "execution_count": 22
        }
      ],
      "source": [
        "df.dtypes"
      ]
    },
    {
      "cell_type": "code",
      "execution_count": null,
      "id": "da3e7e87",
      "metadata": {
        "colab": {
          "base_uri": "https://localhost:8080/",
          "height": 206
        },
        "id": "da3e7e87",
        "outputId": "33a9454b-5868-42a5-b98e-565df21ad15d"
      },
      "outputs": [
        {
          "output_type": "execute_result",
          "data": {
            "text/plain": [
              "       Fecha cod_ine       CCAA  Casos  Fallecidos  Hospitalizados  UCI\n",
              "0 2020-01-01       0  No consta      0           0               0  0.0\n",
              "1 2020-01-01       1  Andalucía      0           0               3  0.0\n",
              "2 2020-01-01       2     Aragón      0           0               0  0.0\n",
              "3 2020-01-01       3   Asturias      0           0               0  0.0\n",
              "4 2020-01-01       4   Baleares      0           0               0  0.0"
            ],
            "text/html": [
              "\n",
              "  <div id=\"df-e2e4f28e-6f64-4c34-aa23-ece2eb75c46c\">\n",
              "    <div class=\"colab-df-container\">\n",
              "      <div>\n",
              "<style scoped>\n",
              "    .dataframe tbody tr th:only-of-type {\n",
              "        vertical-align: middle;\n",
              "    }\n",
              "\n",
              "    .dataframe tbody tr th {\n",
              "        vertical-align: top;\n",
              "    }\n",
              "\n",
              "    .dataframe thead th {\n",
              "        text-align: right;\n",
              "    }\n",
              "</style>\n",
              "<table border=\"1\" class=\"dataframe\">\n",
              "  <thead>\n",
              "    <tr style=\"text-align: right;\">\n",
              "      <th></th>\n",
              "      <th>Fecha</th>\n",
              "      <th>cod_ine</th>\n",
              "      <th>CCAA</th>\n",
              "      <th>Casos</th>\n",
              "      <th>Fallecidos</th>\n",
              "      <th>Hospitalizados</th>\n",
              "      <th>UCI</th>\n",
              "    </tr>\n",
              "  </thead>\n",
              "  <tbody>\n",
              "    <tr>\n",
              "      <th>0</th>\n",
              "      <td>2020-01-01</td>\n",
              "      <td>0</td>\n",
              "      <td>No consta</td>\n",
              "      <td>0</td>\n",
              "      <td>0</td>\n",
              "      <td>0</td>\n",
              "      <td>0.0</td>\n",
              "    </tr>\n",
              "    <tr>\n",
              "      <th>1</th>\n",
              "      <td>2020-01-01</td>\n",
              "      <td>1</td>\n",
              "      <td>Andalucía</td>\n",
              "      <td>0</td>\n",
              "      <td>0</td>\n",
              "      <td>3</td>\n",
              "      <td>0.0</td>\n",
              "    </tr>\n",
              "    <tr>\n",
              "      <th>2</th>\n",
              "      <td>2020-01-01</td>\n",
              "      <td>2</td>\n",
              "      <td>Aragón</td>\n",
              "      <td>0</td>\n",
              "      <td>0</td>\n",
              "      <td>0</td>\n",
              "      <td>0.0</td>\n",
              "    </tr>\n",
              "    <tr>\n",
              "      <th>3</th>\n",
              "      <td>2020-01-01</td>\n",
              "      <td>3</td>\n",
              "      <td>Asturias</td>\n",
              "      <td>0</td>\n",
              "      <td>0</td>\n",
              "      <td>0</td>\n",
              "      <td>0.0</td>\n",
              "    </tr>\n",
              "    <tr>\n",
              "      <th>4</th>\n",
              "      <td>2020-01-01</td>\n",
              "      <td>4</td>\n",
              "      <td>Baleares</td>\n",
              "      <td>0</td>\n",
              "      <td>0</td>\n",
              "      <td>0</td>\n",
              "      <td>0.0</td>\n",
              "    </tr>\n",
              "  </tbody>\n",
              "</table>\n",
              "</div>\n",
              "      <button class=\"colab-df-convert\" onclick=\"convertToInteractive('df-e2e4f28e-6f64-4c34-aa23-ece2eb75c46c')\"\n",
              "              title=\"Convert this dataframe to an interactive table.\"\n",
              "              style=\"display:none;\">\n",
              "        \n",
              "  <svg xmlns=\"http://www.w3.org/2000/svg\" height=\"24px\"viewBox=\"0 0 24 24\"\n",
              "       width=\"24px\">\n",
              "    <path d=\"M0 0h24v24H0V0z\" fill=\"none\"/>\n",
              "    <path d=\"M18.56 5.44l.94 2.06.94-2.06 2.06-.94-2.06-.94-.94-2.06-.94 2.06-2.06.94zm-11 1L8.5 8.5l.94-2.06 2.06-.94-2.06-.94L8.5 2.5l-.94 2.06-2.06.94zm10 10l.94 2.06.94-2.06 2.06-.94-2.06-.94-.94-2.06-.94 2.06-2.06.94z\"/><path d=\"M17.41 7.96l-1.37-1.37c-.4-.4-.92-.59-1.43-.59-.52 0-1.04.2-1.43.59L10.3 9.45l-7.72 7.72c-.78.78-.78 2.05 0 2.83L4 21.41c.39.39.9.59 1.41.59.51 0 1.02-.2 1.41-.59l7.78-7.78 2.81-2.81c.8-.78.8-2.07 0-2.86zM5.41 20L4 18.59l7.72-7.72 1.47 1.35L5.41 20z\"/>\n",
              "  </svg>\n",
              "      </button>\n",
              "      \n",
              "  <style>\n",
              "    .colab-df-container {\n",
              "      display:flex;\n",
              "      flex-wrap:wrap;\n",
              "      gap: 12px;\n",
              "    }\n",
              "\n",
              "    .colab-df-convert {\n",
              "      background-color: #E8F0FE;\n",
              "      border: none;\n",
              "      border-radius: 50%;\n",
              "      cursor: pointer;\n",
              "      display: none;\n",
              "      fill: #1967D2;\n",
              "      height: 32px;\n",
              "      padding: 0 0 0 0;\n",
              "      width: 32px;\n",
              "    }\n",
              "\n",
              "    .colab-df-convert:hover {\n",
              "      background-color: #E2EBFA;\n",
              "      box-shadow: 0px 1px 2px rgba(60, 64, 67, 0.3), 0px 1px 3px 1px rgba(60, 64, 67, 0.15);\n",
              "      fill: #174EA6;\n",
              "    }\n",
              "\n",
              "    [theme=dark] .colab-df-convert {\n",
              "      background-color: #3B4455;\n",
              "      fill: #D2E3FC;\n",
              "    }\n",
              "\n",
              "    [theme=dark] .colab-df-convert:hover {\n",
              "      background-color: #434B5C;\n",
              "      box-shadow: 0px 1px 3px 1px rgba(0, 0, 0, 0.15);\n",
              "      filter: drop-shadow(0px 1px 2px rgba(0, 0, 0, 0.3));\n",
              "      fill: #FFFFFF;\n",
              "    }\n",
              "  </style>\n",
              "\n",
              "      <script>\n",
              "        const buttonEl =\n",
              "          document.querySelector('#df-e2e4f28e-6f64-4c34-aa23-ece2eb75c46c button.colab-df-convert');\n",
              "        buttonEl.style.display =\n",
              "          google.colab.kernel.accessAllowed ? 'block' : 'none';\n",
              "\n",
              "        async function convertToInteractive(key) {\n",
              "          const element = document.querySelector('#df-e2e4f28e-6f64-4c34-aa23-ece2eb75c46c');\n",
              "          const dataTable =\n",
              "            await google.colab.kernel.invokeFunction('convertToInteractive',\n",
              "                                                     [key], {});\n",
              "          if (!dataTable) return;\n",
              "\n",
              "          const docLinkHtml = 'Like what you see? Visit the ' +\n",
              "            '<a target=\"_blank\" href=https://colab.research.google.com/notebooks/data_table.ipynb>data table notebook</a>'\n",
              "            + ' to learn more about interactive tables.';\n",
              "          element.innerHTML = '';\n",
              "          dataTable['output_type'] = 'display_data';\n",
              "          await google.colab.output.renderOutput(dataTable, element);\n",
              "          const docLink = document.createElement('div');\n",
              "          docLink.innerHTML = docLinkHtml;\n",
              "          element.appendChild(docLink);\n",
              "        }\n",
              "      </script>\n",
              "    </div>\n",
              "  </div>\n",
              "  "
            ]
          },
          "metadata": {},
          "execution_count": 23
        }
      ],
      "source": [
        "df.head()"
      ]
    },
    {
      "cell_type": "markdown",
      "id": "6b822e96",
      "metadata": {
        "id": "6b822e96"
      },
      "source": [
        "Comprobamos si tenemos todas las Comunidades Autónomas."
      ]
    },
    {
      "cell_type": "code",
      "execution_count": null,
      "id": "9a371122",
      "metadata": {
        "colab": {
          "base_uri": "https://localhost:8080/"
        },
        "id": "9a371122",
        "outputId": "b39f351b-35c4-445c-8837-57adc648692b"
      },
      "outputs": [
        {
          "output_type": "execute_result",
          "data": {
            "text/plain": [
              "array(['No consta', 'Andalucía', 'Aragón', 'Asturias', 'Baleares',\n",
              "       'Canarias', 'Cantabria', 'Castilla y León', 'Castilla La Mancha',\n",
              "       'Cataluña', 'C. Valenciana', 'Extremadura', 'Galicia', 'Madrid',\n",
              "       'Murcia', 'Navarra', 'País Vasco', 'La Rioja', 'Ceuta', 'Melilla'],\n",
              "      dtype=object)"
            ]
          },
          "metadata": {},
          "execution_count": 24
        }
      ],
      "source": [
        "pd.unique(df['CCAA'])"
      ]
    },
    {
      "cell_type": "code",
      "execution_count": null,
      "id": "e6d9c7d5",
      "metadata": {
        "colab": {
          "base_uri": "https://localhost:8080/"
        },
        "id": "e6d9c7d5",
        "outputId": "fdb5fa95-09aa-45c1-a454-940f74927017"
      },
      "outputs": [
        {
          "output_type": "execute_result",
          "data": {
            "text/plain": [
              "20"
            ]
          },
          "metadata": {},
          "execution_count": 25
        }
      ],
      "source": [
        "len(pd.unique(df['CCAA']))"
      ]
    },
    {
      "cell_type": "markdown",
      "id": "9627ac58",
      "metadata": {
        "id": "9627ac58"
      },
      "source": [
        "Eliminamos aquellos registros en los que no tenemos información de Comunidad Autónoma, es decir, aquellos etiquetados como 'No consta'."
      ]
    },
    {
      "cell_type": "code",
      "execution_count": null,
      "id": "69fabe3d",
      "metadata": {
        "colab": {
          "base_uri": "https://localhost:8080/",
          "height": 424
        },
        "id": "69fabe3d",
        "outputId": "cb142ad6-5b7c-4bea-8674-a11c43c94e9e"
      },
      "outputs": [
        {
          "output_type": "execute_result",
          "data": {
            "text/plain": [
              "           Fecha cod_ine        CCAA  Casos  Fallecidos  Hospitalizados  UCI\n",
              "1     2020-01-01       1   Andalucía      0           0               3  0.0\n",
              "2     2020-01-01       2      Aragón      0           0               0  0.0\n",
              "3     2020-01-01       3    Asturias      0           0               0  0.0\n",
              "4     2020-01-01       4    Baleares      0           0               0  0.0\n",
              "5     2020-01-01       5    Canarias      0           0               0  0.0\n",
              "...          ...     ...         ...    ...         ...             ...  ...\n",
              "16235 2022-03-22      15     Navarra      0           0               0  0.0\n",
              "16236 2022-03-22      16  País Vasco     41           0               0  0.0\n",
              "16237 2022-03-22      17    La Rioja      0           0               0  0.0\n",
              "16238 2022-03-22      18       Ceuta      6           0               0  0.0\n",
              "16239 2022-03-22      19     Melilla      0           0               0  0.0\n",
              "\n",
              "[15428 rows x 7 columns]"
            ],
            "text/html": [
              "\n",
              "  <div id=\"df-acf7c7bc-4051-4052-965e-cb2e5aae50bb\">\n",
              "    <div class=\"colab-df-container\">\n",
              "      <div>\n",
              "<style scoped>\n",
              "    .dataframe tbody tr th:only-of-type {\n",
              "        vertical-align: middle;\n",
              "    }\n",
              "\n",
              "    .dataframe tbody tr th {\n",
              "        vertical-align: top;\n",
              "    }\n",
              "\n",
              "    .dataframe thead th {\n",
              "        text-align: right;\n",
              "    }\n",
              "</style>\n",
              "<table border=\"1\" class=\"dataframe\">\n",
              "  <thead>\n",
              "    <tr style=\"text-align: right;\">\n",
              "      <th></th>\n",
              "      <th>Fecha</th>\n",
              "      <th>cod_ine</th>\n",
              "      <th>CCAA</th>\n",
              "      <th>Casos</th>\n",
              "      <th>Fallecidos</th>\n",
              "      <th>Hospitalizados</th>\n",
              "      <th>UCI</th>\n",
              "    </tr>\n",
              "  </thead>\n",
              "  <tbody>\n",
              "    <tr>\n",
              "      <th>1</th>\n",
              "      <td>2020-01-01</td>\n",
              "      <td>1</td>\n",
              "      <td>Andalucía</td>\n",
              "      <td>0</td>\n",
              "      <td>0</td>\n",
              "      <td>3</td>\n",
              "      <td>0.0</td>\n",
              "    </tr>\n",
              "    <tr>\n",
              "      <th>2</th>\n",
              "      <td>2020-01-01</td>\n",
              "      <td>2</td>\n",
              "      <td>Aragón</td>\n",
              "      <td>0</td>\n",
              "      <td>0</td>\n",
              "      <td>0</td>\n",
              "      <td>0.0</td>\n",
              "    </tr>\n",
              "    <tr>\n",
              "      <th>3</th>\n",
              "      <td>2020-01-01</td>\n",
              "      <td>3</td>\n",
              "      <td>Asturias</td>\n",
              "      <td>0</td>\n",
              "      <td>0</td>\n",
              "      <td>0</td>\n",
              "      <td>0.0</td>\n",
              "    </tr>\n",
              "    <tr>\n",
              "      <th>4</th>\n",
              "      <td>2020-01-01</td>\n",
              "      <td>4</td>\n",
              "      <td>Baleares</td>\n",
              "      <td>0</td>\n",
              "      <td>0</td>\n",
              "      <td>0</td>\n",
              "      <td>0.0</td>\n",
              "    </tr>\n",
              "    <tr>\n",
              "      <th>5</th>\n",
              "      <td>2020-01-01</td>\n",
              "      <td>5</td>\n",
              "      <td>Canarias</td>\n",
              "      <td>0</td>\n",
              "      <td>0</td>\n",
              "      <td>0</td>\n",
              "      <td>0.0</td>\n",
              "    </tr>\n",
              "    <tr>\n",
              "      <th>...</th>\n",
              "      <td>...</td>\n",
              "      <td>...</td>\n",
              "      <td>...</td>\n",
              "      <td>...</td>\n",
              "      <td>...</td>\n",
              "      <td>...</td>\n",
              "      <td>...</td>\n",
              "    </tr>\n",
              "    <tr>\n",
              "      <th>16235</th>\n",
              "      <td>2022-03-22</td>\n",
              "      <td>15</td>\n",
              "      <td>Navarra</td>\n",
              "      <td>0</td>\n",
              "      <td>0</td>\n",
              "      <td>0</td>\n",
              "      <td>0.0</td>\n",
              "    </tr>\n",
              "    <tr>\n",
              "      <th>16236</th>\n",
              "      <td>2022-03-22</td>\n",
              "      <td>16</td>\n",
              "      <td>País Vasco</td>\n",
              "      <td>41</td>\n",
              "      <td>0</td>\n",
              "      <td>0</td>\n",
              "      <td>0.0</td>\n",
              "    </tr>\n",
              "    <tr>\n",
              "      <th>16237</th>\n",
              "      <td>2022-03-22</td>\n",
              "      <td>17</td>\n",
              "      <td>La Rioja</td>\n",
              "      <td>0</td>\n",
              "      <td>0</td>\n",
              "      <td>0</td>\n",
              "      <td>0.0</td>\n",
              "    </tr>\n",
              "    <tr>\n",
              "      <th>16238</th>\n",
              "      <td>2022-03-22</td>\n",
              "      <td>18</td>\n",
              "      <td>Ceuta</td>\n",
              "      <td>6</td>\n",
              "      <td>0</td>\n",
              "      <td>0</td>\n",
              "      <td>0.0</td>\n",
              "    </tr>\n",
              "    <tr>\n",
              "      <th>16239</th>\n",
              "      <td>2022-03-22</td>\n",
              "      <td>19</td>\n",
              "      <td>Melilla</td>\n",
              "      <td>0</td>\n",
              "      <td>0</td>\n",
              "      <td>0</td>\n",
              "      <td>0.0</td>\n",
              "    </tr>\n",
              "  </tbody>\n",
              "</table>\n",
              "<p>15428 rows × 7 columns</p>\n",
              "</div>\n",
              "      <button class=\"colab-df-convert\" onclick=\"convertToInteractive('df-acf7c7bc-4051-4052-965e-cb2e5aae50bb')\"\n",
              "              title=\"Convert this dataframe to an interactive table.\"\n",
              "              style=\"display:none;\">\n",
              "        \n",
              "  <svg xmlns=\"http://www.w3.org/2000/svg\" height=\"24px\"viewBox=\"0 0 24 24\"\n",
              "       width=\"24px\">\n",
              "    <path d=\"M0 0h24v24H0V0z\" fill=\"none\"/>\n",
              "    <path d=\"M18.56 5.44l.94 2.06.94-2.06 2.06-.94-2.06-.94-.94-2.06-.94 2.06-2.06.94zm-11 1L8.5 8.5l.94-2.06 2.06-.94-2.06-.94L8.5 2.5l-.94 2.06-2.06.94zm10 10l.94 2.06.94-2.06 2.06-.94-2.06-.94-.94-2.06-.94 2.06-2.06.94z\"/><path d=\"M17.41 7.96l-1.37-1.37c-.4-.4-.92-.59-1.43-.59-.52 0-1.04.2-1.43.59L10.3 9.45l-7.72 7.72c-.78.78-.78 2.05 0 2.83L4 21.41c.39.39.9.59 1.41.59.51 0 1.02-.2 1.41-.59l7.78-7.78 2.81-2.81c.8-.78.8-2.07 0-2.86zM5.41 20L4 18.59l7.72-7.72 1.47 1.35L5.41 20z\"/>\n",
              "  </svg>\n",
              "      </button>\n",
              "      \n",
              "  <style>\n",
              "    .colab-df-container {\n",
              "      display:flex;\n",
              "      flex-wrap:wrap;\n",
              "      gap: 12px;\n",
              "    }\n",
              "\n",
              "    .colab-df-convert {\n",
              "      background-color: #E8F0FE;\n",
              "      border: none;\n",
              "      border-radius: 50%;\n",
              "      cursor: pointer;\n",
              "      display: none;\n",
              "      fill: #1967D2;\n",
              "      height: 32px;\n",
              "      padding: 0 0 0 0;\n",
              "      width: 32px;\n",
              "    }\n",
              "\n",
              "    .colab-df-convert:hover {\n",
              "      background-color: #E2EBFA;\n",
              "      box-shadow: 0px 1px 2px rgba(60, 64, 67, 0.3), 0px 1px 3px 1px rgba(60, 64, 67, 0.15);\n",
              "      fill: #174EA6;\n",
              "    }\n",
              "\n",
              "    [theme=dark] .colab-df-convert {\n",
              "      background-color: #3B4455;\n",
              "      fill: #D2E3FC;\n",
              "    }\n",
              "\n",
              "    [theme=dark] .colab-df-convert:hover {\n",
              "      background-color: #434B5C;\n",
              "      box-shadow: 0px 1px 3px 1px rgba(0, 0, 0, 0.15);\n",
              "      filter: drop-shadow(0px 1px 2px rgba(0, 0, 0, 0.3));\n",
              "      fill: #FFFFFF;\n",
              "    }\n",
              "  </style>\n",
              "\n",
              "      <script>\n",
              "        const buttonEl =\n",
              "          document.querySelector('#df-acf7c7bc-4051-4052-965e-cb2e5aae50bb button.colab-df-convert');\n",
              "        buttonEl.style.display =\n",
              "          google.colab.kernel.accessAllowed ? 'block' : 'none';\n",
              "\n",
              "        async function convertToInteractive(key) {\n",
              "          const element = document.querySelector('#df-acf7c7bc-4051-4052-965e-cb2e5aae50bb');\n",
              "          const dataTable =\n",
              "            await google.colab.kernel.invokeFunction('convertToInteractive',\n",
              "                                                     [key], {});\n",
              "          if (!dataTable) return;\n",
              "\n",
              "          const docLinkHtml = 'Like what you see? Visit the ' +\n",
              "            '<a target=\"_blank\" href=https://colab.research.google.com/notebooks/data_table.ipynb>data table notebook</a>'\n",
              "            + ' to learn more about interactive tables.';\n",
              "          element.innerHTML = '';\n",
              "          dataTable['output_type'] = 'display_data';\n",
              "          await google.colab.output.renderOutput(dataTable, element);\n",
              "          const docLink = document.createElement('div');\n",
              "          docLink.innerHTML = docLinkHtml;\n",
              "          element.appendChild(docLink);\n",
              "        }\n",
              "      </script>\n",
              "    </div>\n",
              "  </div>\n",
              "  "
            ]
          },
          "metadata": {},
          "execution_count": 26
        }
      ],
      "source": [
        "df = df[df['CCAA'] != 'No consta']\n",
        "df"
      ]
    },
    {
      "cell_type": "code",
      "execution_count": null,
      "id": "06454f61",
      "metadata": {
        "colab": {
          "base_uri": "https://localhost:8080/"
        },
        "id": "06454f61",
        "outputId": "5926a0e9-e4a4-4b0e-9622-0abede3717a0"
      },
      "outputs": [
        {
          "output_type": "execute_result",
          "data": {
            "text/plain": [
              "array(['Andalucía', 'Aragón', 'Asturias', 'Baleares', 'Canarias',\n",
              "       'Cantabria', 'Castilla y León', 'Castilla La Mancha', 'Cataluña',\n",
              "       'C. Valenciana', 'Extremadura', 'Galicia', 'Madrid', 'Murcia',\n",
              "       'Navarra', 'País Vasco', 'La Rioja', 'Ceuta', 'Melilla'],\n",
              "      dtype=object)"
            ]
          },
          "metadata": {},
          "execution_count": 27
        }
      ],
      "source": [
        "pd.unique(df['CCAA'])"
      ]
    },
    {
      "cell_type": "markdown",
      "id": "fff40e24",
      "metadata": {
        "id": "fff40e24"
      },
      "source": [
        "Para tener una visión de los datos que tenemos por Comunidad Autónoma, realizamos un contador de valores."
      ]
    },
    {
      "cell_type": "code",
      "execution_count": null,
      "id": "7d725c3a",
      "metadata": {
        "colab": {
          "base_uri": "https://localhost:8080/"
        },
        "id": "7d725c3a",
        "outputId": "f45fd663-dadd-4dd3-be84-5cfa1a1cb7c7"
      },
      "outputs": [
        {
          "output_type": "execute_result",
          "data": {
            "text/plain": [
              "Andalucía             812\n",
              "Extremadura           812\n",
              "Ceuta                 812\n",
              "La Rioja              812\n",
              "País Vasco            812\n",
              "Navarra               812\n",
              "Murcia                812\n",
              "Madrid                812\n",
              "Galicia               812\n",
              "C. Valenciana         812\n",
              "Aragón                812\n",
              "Cataluña              812\n",
              "Castilla La Mancha    812\n",
              "Castilla y León       812\n",
              "Cantabria             812\n",
              "Canarias              812\n",
              "Baleares              812\n",
              "Asturias              812\n",
              "Melilla               812\n",
              "Name: CCAA, dtype: int64"
            ]
          },
          "metadata": {},
          "execution_count": 28
        }
      ],
      "source": [
        "df['CCAA'].value_counts()"
      ]
    },
    {
      "cell_type": "markdown",
      "id": "5cc89bc0",
      "metadata": {
        "id": "5cc89bc0"
      },
      "source": [
        "### Correlación"
      ]
    },
    {
      "cell_type": "code",
      "execution_count": null,
      "id": "f67bbf8f",
      "metadata": {
        "colab": {
          "base_uri": "https://localhost:8080/",
          "height": 175
        },
        "id": "f67bbf8f",
        "outputId": "4c79dc4c-2609-4969-bd9e-5448ec82a154"
      },
      "outputs": [
        {
          "output_type": "execute_result",
          "data": {
            "text/plain": [
              "                   Casos  Fallecidos  Hospitalizados       UCI\n",
              "Casos           1.000000    0.255770        0.354454  0.292915\n",
              "Fallecidos      0.255770    1.000000        0.831016  0.758757\n",
              "Hospitalizados  0.354454    0.831016        1.000000  0.927339\n",
              "UCI             0.292915    0.758757        0.927339  1.000000"
            ],
            "text/html": [
              "\n",
              "  <div id=\"df-10f40332-9040-4cd9-99f8-1cb044e5b2d8\">\n",
              "    <div class=\"colab-df-container\">\n",
              "      <div>\n",
              "<style scoped>\n",
              "    .dataframe tbody tr th:only-of-type {\n",
              "        vertical-align: middle;\n",
              "    }\n",
              "\n",
              "    .dataframe tbody tr th {\n",
              "        vertical-align: top;\n",
              "    }\n",
              "\n",
              "    .dataframe thead th {\n",
              "        text-align: right;\n",
              "    }\n",
              "</style>\n",
              "<table border=\"1\" class=\"dataframe\">\n",
              "  <thead>\n",
              "    <tr style=\"text-align: right;\">\n",
              "      <th></th>\n",
              "      <th>Casos</th>\n",
              "      <th>Fallecidos</th>\n",
              "      <th>Hospitalizados</th>\n",
              "      <th>UCI</th>\n",
              "    </tr>\n",
              "  </thead>\n",
              "  <tbody>\n",
              "    <tr>\n",
              "      <th>Casos</th>\n",
              "      <td>1.000000</td>\n",
              "      <td>0.255770</td>\n",
              "      <td>0.354454</td>\n",
              "      <td>0.292915</td>\n",
              "    </tr>\n",
              "    <tr>\n",
              "      <th>Fallecidos</th>\n",
              "      <td>0.255770</td>\n",
              "      <td>1.000000</td>\n",
              "      <td>0.831016</td>\n",
              "      <td>0.758757</td>\n",
              "    </tr>\n",
              "    <tr>\n",
              "      <th>Hospitalizados</th>\n",
              "      <td>0.354454</td>\n",
              "      <td>0.831016</td>\n",
              "      <td>1.000000</td>\n",
              "      <td>0.927339</td>\n",
              "    </tr>\n",
              "    <tr>\n",
              "      <th>UCI</th>\n",
              "      <td>0.292915</td>\n",
              "      <td>0.758757</td>\n",
              "      <td>0.927339</td>\n",
              "      <td>1.000000</td>\n",
              "    </tr>\n",
              "  </tbody>\n",
              "</table>\n",
              "</div>\n",
              "      <button class=\"colab-df-convert\" onclick=\"convertToInteractive('df-10f40332-9040-4cd9-99f8-1cb044e5b2d8')\"\n",
              "              title=\"Convert this dataframe to an interactive table.\"\n",
              "              style=\"display:none;\">\n",
              "        \n",
              "  <svg xmlns=\"http://www.w3.org/2000/svg\" height=\"24px\"viewBox=\"0 0 24 24\"\n",
              "       width=\"24px\">\n",
              "    <path d=\"M0 0h24v24H0V0z\" fill=\"none\"/>\n",
              "    <path d=\"M18.56 5.44l.94 2.06.94-2.06 2.06-.94-2.06-.94-.94-2.06-.94 2.06-2.06.94zm-11 1L8.5 8.5l.94-2.06 2.06-.94-2.06-.94L8.5 2.5l-.94 2.06-2.06.94zm10 10l.94 2.06.94-2.06 2.06-.94-2.06-.94-.94-2.06-.94 2.06-2.06.94z\"/><path d=\"M17.41 7.96l-1.37-1.37c-.4-.4-.92-.59-1.43-.59-.52 0-1.04.2-1.43.59L10.3 9.45l-7.72 7.72c-.78.78-.78 2.05 0 2.83L4 21.41c.39.39.9.59 1.41.59.51 0 1.02-.2 1.41-.59l7.78-7.78 2.81-2.81c.8-.78.8-2.07 0-2.86zM5.41 20L4 18.59l7.72-7.72 1.47 1.35L5.41 20z\"/>\n",
              "  </svg>\n",
              "      </button>\n",
              "      \n",
              "  <style>\n",
              "    .colab-df-container {\n",
              "      display:flex;\n",
              "      flex-wrap:wrap;\n",
              "      gap: 12px;\n",
              "    }\n",
              "\n",
              "    .colab-df-convert {\n",
              "      background-color: #E8F0FE;\n",
              "      border: none;\n",
              "      border-radius: 50%;\n",
              "      cursor: pointer;\n",
              "      display: none;\n",
              "      fill: #1967D2;\n",
              "      height: 32px;\n",
              "      padding: 0 0 0 0;\n",
              "      width: 32px;\n",
              "    }\n",
              "\n",
              "    .colab-df-convert:hover {\n",
              "      background-color: #E2EBFA;\n",
              "      box-shadow: 0px 1px 2px rgba(60, 64, 67, 0.3), 0px 1px 3px 1px rgba(60, 64, 67, 0.15);\n",
              "      fill: #174EA6;\n",
              "    }\n",
              "\n",
              "    [theme=dark] .colab-df-convert {\n",
              "      background-color: #3B4455;\n",
              "      fill: #D2E3FC;\n",
              "    }\n",
              "\n",
              "    [theme=dark] .colab-df-convert:hover {\n",
              "      background-color: #434B5C;\n",
              "      box-shadow: 0px 1px 3px 1px rgba(0, 0, 0, 0.15);\n",
              "      filter: drop-shadow(0px 1px 2px rgba(0, 0, 0, 0.3));\n",
              "      fill: #FFFFFF;\n",
              "    }\n",
              "  </style>\n",
              "\n",
              "      <script>\n",
              "        const buttonEl =\n",
              "          document.querySelector('#df-10f40332-9040-4cd9-99f8-1cb044e5b2d8 button.colab-df-convert');\n",
              "        buttonEl.style.display =\n",
              "          google.colab.kernel.accessAllowed ? 'block' : 'none';\n",
              "\n",
              "        async function convertToInteractive(key) {\n",
              "          const element = document.querySelector('#df-10f40332-9040-4cd9-99f8-1cb044e5b2d8');\n",
              "          const dataTable =\n",
              "            await google.colab.kernel.invokeFunction('convertToInteractive',\n",
              "                                                     [key], {});\n",
              "          if (!dataTable) return;\n",
              "\n",
              "          const docLinkHtml = 'Like what you see? Visit the ' +\n",
              "            '<a target=\"_blank\" href=https://colab.research.google.com/notebooks/data_table.ipynb>data table notebook</a>'\n",
              "            + ' to learn more about interactive tables.';\n",
              "          element.innerHTML = '';\n",
              "          dataTable['output_type'] = 'display_data';\n",
              "          await google.colab.output.renderOutput(dataTable, element);\n",
              "          const docLink = document.createElement('div');\n",
              "          docLink.innerHTML = docLinkHtml;\n",
              "          element.appendChild(docLink);\n",
              "        }\n",
              "      </script>\n",
              "    </div>\n",
              "  </div>\n",
              "  "
            ]
          },
          "metadata": {},
          "execution_count": 29
        }
      ],
      "source": [
        "df.corr()"
      ]
    },
    {
      "cell_type": "code",
      "execution_count": null,
      "id": "c1762353",
      "metadata": {
        "colab": {
          "base_uri": "https://localhost:8080/",
          "height": 269
        },
        "id": "c1762353",
        "outputId": "773a0c67-aedd-4c04-f587-b1ecff0a5620"
      },
      "outputs": [
        {
          "data": {
            "image/png": "[encoded data removed]",
            "text/plain": [
              "<Figure size 432x288 with 2 Axes>"
            ]
          },
          "metadata": {
            "needs_background": "light"
          },
          "output_type": "display_data"
        }
      ],
      "source": [
        "sns.heatmap(df.corr(), annot = True, cmap=\"YlGnBu\")\n",
        "plt.show()"
      ]
    },
    {
      "cell_type": "code",
      "execution_count": null,
      "id": "ed72aeb0",
      "metadata": {
        "id": "ed72aeb0"
      },
      "outputs": [],
      "source": []
    }
  ],
  "metadata": {
    "colab": {
      "provenance": [],
      "include_colab_link": true
    },
    "kernelspec": {
      "display_name": "Python 3",
      "language": "python",
      "name": "python3"
    },
    "language_info": {
      "codemirror_mode": {
        "name": "ipython",
        "version": 3
      },
      "file_extension": ".py",
      "mimetype": "text/x-python",
      "name": "python",
      "nbconvert_exporter": "python",
      "pygments_lexer": "ipython3",
      "version": "3.8.8"
    }
  },
  "nbformat": 4,
  "nbformat_minor": 5
}