{
 "cells": [
  {
   "cell_type": "code",
   "execution_count": 2,
   "metadata": {},
   "outputs": [],
   "source": [
    "from bs4 import BeautifulSoup\n",
    "import requests\n",
    "import pandas as pd"
   ]
  },
  {
   "cell_type": "code",
   "execution_count": 3,
   "metadata": {},
   "outputs": [],
   "source": [
    "#Extraer la data de todos los mundiales jugados a la fecha\n",
    "\n",
    "years = [1930, 1934, 1938, 1950, 1954, 1958, 1962, 1966, 1970, 1974,\n",
    "         1978, 1982, 1986, 1990, 1994, 1998, 2002, 2006, 2010, 2014,\n",
    "         2018]"
   ]
  },
  {
   "cell_type": "code",
   "execution_count": 4,
   "metadata": {},
   "outputs": [
    {
     "name": "stdout",
     "output_type": "stream",
     "text": [
      "            home         score          away  year\n",
      "0        Brazil            3–1       Croatia  2014\n",
      "1        Mexico            1–0      Cameroon  2014\n",
      "2        Brazil            0–0        Mexico  2014\n",
      "3      Cameroon            0–4       Croatia  2014\n",
      "4      Cameroon            1–4        Brazil  2014\n",
      "..           ...           ...           ...   ...\n",
      "59  Netherlands   0–0 (a.e.t.)    Costa Rica  2014\n",
      "60       Brazil            1–7       Germany  2014\n",
      "61  Netherlands   0–0 (a.e.t.)     Argentina  2014\n",
      "62       Brazil            0–3   Netherlands  2014\n",
      "63      Germany   1–0 (a.e.t.)     Argentina  2014\n",
      "\n",
      "[64 rows x 4 columns]\n"
     ]
    }
   ],
   "source": [
    "##OBTENEMOS LA DATA DEL MUNDIAL DEL 2014\n",
    "#Obtenemos el contenido de la URL\n",
    "web = 'https://en.wikipedia.org/wiki/2014_FIFA_World_Cup'\n",
    "response = requests.get(web)\n",
    "content = response.text\n",
    "soup = BeautifulSoup(content, 'lxml')\n",
    "#Extraemos la Data\n",
    "#buscamos varios elementos con el mismo nombre de tag y el nombre de clase\n",
    "matches = soup.find_all('div', class_='footballbox')\n",
    "#creamos un dataframe\n",
    "home = []\n",
    "score = []\n",
    "away = []\n",
    "#para colocar la data dentro de las listas utilizamos el metodo append() \n",
    "for match in matches:\n",
    "    #nos ayuda a conseguir el nombre del equipo local\n",
    "    home.append(match.find('th', class_='fhome').get_text())\n",
    "    score.append(match.find('th', class_='fscore').get_text())\n",
    "    away.append(match.find('th', class_='faway').get_text())\n",
    "# con la data almacenada, ahora crearemos un diccionario\n",
    "dict_football = {'home': home, 'score' : score, 'away':away }\n",
    "# creamos el data frame\n",
    "df_football = pd.DataFrame(dict_football)\n",
    "#Le agregamos una columna\n",
    "df_football['year'] = '2014'\n",
    "print(df_football)\n"
   ]
  },
  {
   "cell_type": "code",
   "execution_count": 5,
   "metadata": {},
   "outputs": [],
   "source": [
    "#Obtenemos la data de todos los años mencionados al inicio\n",
    "\n",
    "def get_matches(year):\n",
    "    #Obtenemos el contenido de la URL y modificamos el año en una variable\n",
    "    #la cadena f nos ayuda a tener variables en la cadena de texto\n",
    "    #la web sera dinamica\n",
    "    web = f'https://en.wikipedia.org/wiki/{year} _FIFA_World_Cup'\n",
    "    response = requests.get(web)\n",
    "    content = response.text\n",
    "    soup = BeautifulSoup(content, 'lxml')\n",
    "    #Extraemos la Data\n",
    "    #buscamos varios elementos con el mismo nombre de tag y el nombre de clase\n",
    "    matches = soup.find_all('div', class_='footballbox')\n",
    "    #creamos un dataframe\n",
    "    home = []\n",
    "    score = []\n",
    "    away = []\n",
    "    #para colocar la data dentro de las listas utilizamos el metodo append() \n",
    "    for match in matches:\n",
    "        #nos ayuda a conseguir el nombre del equipo local\n",
    "        home.append(match.find('th', class_='fhome').get_text())\n",
    "        score.append(match.find('th', class_='fscore').get_text())\n",
    "        away.append(match.find('th', class_='faway').get_text())\n",
    "    # con la data almacenada, ahora crearemos un diccionario\n",
    "    dict_football = {'home': home, 'score' : score, 'away':away }\n",
    "    # creamos el data frame\n",
    "    df_football = pd.DataFrame(dict_football)\n",
    "    #Le agregamos una columna\n",
    "    df_football['year'] = year\n",
    "    return df_football\n",
    "    print(df_football) \n",
    "#Crearemos un bucle for en base en lo que se hizo\n",
    "\n",
    "fifa = [get_matches(year) for year in years]\n",
    "# como se tiene toda la data de los años\n",
    "dataFINAL = pd.concat(fifa, ignore_index=True)\n",
    "# el data frame con todos los dataframes lo guardamos en un archivo CSV\n",
    "dataFINAL.to_csv('fifa_worldcup_historical_data.csv', index =False)\n",
    "\n",
    "#Extraemos el Feature 2022\n",
    "\n",
    "df_fixture = get_matches('2022')\n",
    "\n",
    "df_fixture.to_csv('fifa_worldcup_fixture.csv', index =False)\n"
   ]
  },
  {
   "cell_type": "code",
   "execution_count": 10,
   "metadata": {},
   "outputs": [
    {
     "name": "stdout",
     "output_type": "stream",
     "text": [
      "                home     score              away  year\n",
      "0             Qatar    Match 1           Ecuador  2022\n",
      "1           Senegal    Match 2       Netherlands  2022\n",
      "2             Qatar   Match 18           Senegal  2022\n",
      "3       Netherlands   Match 19           Ecuador  2022\n",
      "4           Ecuador   Match 35           Senegal  2022\n",
      "..               ...       ...               ...   ...\n",
      "59  Winners Match 51  Match 59  Winners Match 52  2022\n",
      "60  Winners Match 57  Match 61  Winners Match 58  2022\n",
      "61  Winners Match 59  Match 62  Winners Match 60  2022\n",
      "62   Losers Match 61  Match 63   Losers Match 62  2022\n",
      "63  Winners Match 61  Match 64  Winners Match 62  2022\n",
      "\n",
      "[64 rows x 4 columns]\n"
     ]
    }
   ],
   "source": [
    "\n",
    "\n",
    "\n",
    "##OBTENEMOS LA DATA DEL MUNDIAL DEL 2014\n",
    "#Obtenemos el contenido de la URL\n",
    "web = 'https://web.archive.org/web/20221115040351/https://en.wikipedia.org/wiki/2022_FIFA_World_Cup'\n",
    "response = requests.get(web)\n",
    "content = response.text\n",
    "soup = BeautifulSoup(content, 'lxml')\n",
    "#Extraemos la Data\n",
    "#buscamos varios elementos con el mismo nombre de tag y el nombre de clase\n",
    "matches = soup.find_all('div', class_='footballbox')\n",
    "#creamos un dataframe\n",
    "home = []\n",
    "score = []\n",
    "away = []\n",
    "#para colocar la data dentro de las listas utilizamos el metodo append() \n",
    "for match in matches:\n",
    "    #nos ayuda a conseguir el nombre del equipo local\n",
    "    home.append(match.find('th', class_='fhome').get_text())\n",
    "    score.append(match.find('th', class_='fscore').get_text())\n",
    "    away.append(match.find('th', class_='faway').get_text())\n",
    "# con la data almacenada, ahora crearemos un diccionario\n",
    "dict_football1 = {'home': home, 'score' : score, 'away':away }\n",
    "# creamos el data frame\n",
    "df_football1 = pd.DataFrame(dict_football)\n",
    "#Le agregamos una columna\n",
    "df_football1['year'] = '2022'\n",
    "print(df_football1)\n",
    "\n",
    "df_football1.to_csv('fifa_worldcup_fixture1.csv', index =False)\n"
   ]
  }
 ],
 "metadata": {
  "kernelspec": {
   "display_name": "Python 3",
   "language": "python",
   "name": "python3"
  },
  "language_info": {
   "codemirror_mode": {
    "name": "ipython",
    "version": 3
   },
   "file_extension": ".py",
   "mimetype": "text/x-python",
   "name": "python",
   "nbconvert_exporter": "python",
   "pygments_lexer": "ipython3",
   "version": "3.11.3"
  },
  "orig_nbformat": 4
 },
 "nbformat": 4,
 "nbformat_minor": 2
}
