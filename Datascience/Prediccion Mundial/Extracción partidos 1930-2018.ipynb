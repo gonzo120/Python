{
 "cells": [
  {
   "cell_type": "code",
   "execution_count": 1,
   "metadata": {},
   "outputs": [],
   "source": [
    "from bs4 import BeautifulSoup\n",
    "import requests\n",
    "import pandas as pd"
   ]
  },
  {
   "cell_type": "code",
   "execution_count": 1,
   "metadata": {},
   "outputs": [],
   "source": [
    "#Extraer la data de todos los mundiales jugados a la fecha\n",
    "\n",
    "years = [1930, 1934, 1938, 1950, 1954, 1958, 1962, 1966, 1970, 1974,\n",
    "         1978, 1982, 1986, 1990, 1994, 1998, 2002, 2006, 2010, 2014,\n",
    "         2018]"
   ]
  },
  {
   "cell_type": "code",
   "execution_count": 8,
   "metadata": {},
   "outputs": [],
   "source": [
    "#Obtenemos el contenido de la URL\n",
    "web = 'https://en.wikipedia.org/wiki/2014_FIFA_World_Cup'\n",
    "response = requests.get(web)\n",
    "content = response.text\n",
    "soup = BeautifulSoup(content, 'lxml')\n",
    "#Extraemos la Data\n",
    "#buscamos varios elementos con el mismo nombre de tag y el nombre de clase\n",
    "matches = soup.find_all('div', class_='footballbox')\n",
    "#creamos un dataframe\n",
    "home = []\n",
    "score = []\n",
    "away = []\n",
    "#para colocar la data dentro de las listas utilizamos el metodo append() \n",
    "for match in matches:\n",
    "    #nos ayuda a conseguir el nombre del equipo local\n",
    "    home.append(match.find('th', class_='fhome').get_text())\n",
    "    score.append(match.find('th', class_='fscore').get_text())\n",
    "    away.append(match.find('th', class_='faway').get_text())\n",
    "    \n"
   ]
  }
 ],
 "metadata": {
  "kernelspec": {
   "display_name": "Python 3",
   "language": "python",
   "name": "python3"
  },
  "language_info": {
   "codemirror_mode": {
    "name": "ipython",
    "version": 3
   },
   "file_extension": ".py",
   "mimetype": "text/x-python",
   "name": "python",
   "nbconvert_exporter": "python",
   "pygments_lexer": "ipython3",
   "version": "3.11.3"
  },
  "orig_nbformat": 4
 },
 "nbformat": 4,
 "nbformat_minor": 2
}
