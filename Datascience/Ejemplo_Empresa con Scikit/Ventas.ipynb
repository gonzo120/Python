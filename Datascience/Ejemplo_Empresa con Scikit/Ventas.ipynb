{
 "cells": [
  {
   "attachments": {},
   "cell_type": "markdown",
   "metadata": {},
   "source": [
    "# Definición del problema\n",
    " desde el departamento de marketing nos piden que les creemos un modelo para separar las opiniones con respecto al producto 1 y 2 y así el departamento de marketing poder analizar mejor la información. coches y camaras"
   ]
  },
  {
   "cell_type": "code",
   "execution_count": 1,
   "metadata": {},
   "outputs": [],
   "source": [
    "import pandas as pd\n"
   ]
  },
  {
   "cell_type": "code",
   "execution_count": 8,
   "metadata": {},
   "outputs": [
    {
     "data": {
      "text/html": [
       "<div>\n",
       "<style scoped>\n",
       "    .dataframe tbody tr th:only-of-type {\n",
       "        vertical-align: middle;\n",
       "    }\n",
       "\n",
       "    .dataframe tbody tr th {\n",
       "        vertical-align: top;\n",
       "    }\n",
       "\n",
       "    .dataframe thead th {\n",
       "        text-align: right;\n",
       "    }\n",
       "</style>\n",
       "<table border=\"1\" class=\"dataframe\">\n",
       "  <thead>\n",
       "    <tr style=\"text-align: right;\">\n",
       "      <th></th>\n",
       "      <th>class</th>\n",
       "      <th>text</th>\n",
       "    </tr>\n",
       "  </thead>\n",
       "  <tbody>\n",
       "    <tr>\n",
       "      <th>0</th>\n",
       "      <td>Auto</td>\n",
       "      <td>I have recently purchased a J30T with moderat...</td>\n",
       "    </tr>\n",
       "    <tr>\n",
       "      <th>1</th>\n",
       "      <td>Camera</td>\n",
       "      <td>I bought this product because I need instant ...</td>\n",
       "    </tr>\n",
       "    <tr>\n",
       "      <th>2</th>\n",
       "      <td>Auto</td>\n",
       "      <td>I have owned my Buick since 53000 km and I am...</td>\n",
       "    </tr>\n",
       "    <tr>\n",
       "      <th>3</th>\n",
       "      <td>Camera</td>\n",
       "      <td>This was my first Digital camera so I did qui...</td>\n",
       "    </tr>\n",
       "    <tr>\n",
       "      <th>4</th>\n",
       "      <td>Camera</td>\n",
       "      <td>Minolta DiMAGE 7Hi is in a digital SLR with 5...</td>\n",
       "    </tr>\n",
       "  </tbody>\n",
       "</table>\n",
       "</div>"
      ],
      "text/plain": [
       "    class                                               text\n",
       "0    Auto   I have recently purchased a J30T with moderat...\n",
       "1  Camera   I bought this product because I need instant ...\n",
       "2    Auto   I have owned my Buick since 53000 km and I am...\n",
       "3  Camera   This was my first Digital camera so I did qui...\n",
       "4  Camera   Minolta DiMAGE 7Hi is in a digital SLR with 5..."
      ]
     },
     "execution_count": 8,
     "metadata": {},
     "output_type": "execute_result"
    }
   ],
   "source": [
    "df = pd.read_csv('C:/Users/sao/Desktop/Python/Datascience/datasets/Eopinions.csv')\n",
    "df.head()"
   ]
  },
  {
   "cell_type": "code",
   "execution_count": 13,
   "metadata": {},
   "outputs": [
    {
     "data": {
      "text/plain": [
       "class                                                                                                                                                                                                                                                                                                                                                                                                                                                                                                                                                                                                                                                                                                                                                                                                                                                                                                                                                                                                                                                                                                                                                                                                                                                                                                                                                                                                                                                                                                                                                                                                                                                                                                                                                                                                                                                                                                                                                                                                                                                                                                                                                                                                                                                                                                                                                                                                                                                                                                                                                                                                                                                                                                                                                                                                                                                                                                      Camera\n",
       "text      I bought this product because I need instant gratification  I can t stand the torture of waiting for my photos to come back from the lab  and I don t want to pay extravagant sums for one hour developing  The Sony Mavica is the perfect solution for the click happy shutterbug who likes to take lots of photos  but doesn t have an in home darkroom or an interest in the nuances of traditional photography The great thing about the Mavica is that you can take a photo and instantly see how it turned out on the built in color LCD display  If it sucked  take it again until you get it right  Non digital cameras don t come close to offering this feature With film  you take the photo and cross your fingers  If it s a one time shot  forget it  When you re using the Sony Mavica  you can try a variety of shots  with or without flash  and look at the photos until you get what you want  You can take black and white photos or add a  quot sepia quot  effect that looks like an old tyme photo that you get at the county fair A standard high density floppy disk is your  quot film quot  and holds about a ton of standard resolution photos  great for internet use  and half that amount of high resolution pix that you can print out on your printer One criticism that I have heard about this product is that it does not produce the glossy  permanent prints that you get when you use a film camera  If you are willing to spend some extra money  you can get a decent inkjet printer for a few hundred bucks that  when used with special photo paper  prints photos that look a lot like traditional prints  If you go this route and are willing to learn some software  you will get permanent prints that are superior to those that you get from the photo lab You can correct red eye and other common problems  adjust contrast and color just as you do on your TV  and even remove your finger or the camera strap from the shot  You can print wallets and 8 quot x10 quot s to your heart s desire without paying for reprints  The newer Mavicas can store a minute long MPEG movie  complete with sound  And like I said  the photo lab people never see your photos  Start your own  ahem  website  Ooh la la The fact that this camera uses floppy disks poses a problem for some computer owners  People with Windows based PCs generally have floppy drives and can use the Sony Mavica disks  The iMacs  however  don t come with a floppy drive  You ll have to shell out some extra bucks for one if you want to use your Mavica  since I don t think you can connect USB cables like with some other digital cameras If you do consider a Mavica  take note of the useful features that you get with the higher end models  and be sure to get a decent printer and some photo quality paper to get the most out of your purchase br br  \n",
       "Name: 1, dtype: object"
      ]
     },
     "execution_count": 13,
     "metadata": {},
     "output_type": "execute_result"
    }
   ],
   "source": [
    "df.info\n",
    "'''\"Para ver una fila especifica utilizamos .loc[]\n",
    "para visualizar todo el texto utilizamos \n",
    "'''\n",
    "pd.set_option(\"display.max_colwidth\", None)\n",
    "df.loc[1]"
   ]
  },
  {
   "cell_type": "code",
   "execution_count": 14,
   "metadata": {},
   "outputs": [
    {
     "data": {
      "text/plain": [
       "0       238\n",
       "1       585\n",
       "2       301\n",
       "3       220\n",
       "4      1112\n",
       "       ... \n",
       "595     441\n",
       "596     375\n",
       "597     175\n",
       "598     472\n",
       "599     252\n",
       "Name: text, Length: 600, dtype: int64"
      ]
     },
     "execution_count": 14,
     "metadata": {},
     "output_type": "execute_result"
    }
   ],
   "source": [
    "#Aqui verificamos cuantas palabras tiene cada opinion\n",
    "#lo que hace es contar cuantos espacios tiene lo que significara cada palabra\n",
    "\n",
    "df['text'].str.count(' ')"
   ]
  },
  {
   "cell_type": "code",
   "execution_count": 19,
   "metadata": {},
   "outputs": [
    {
     "data": {
      "text/plain": [
       "0      221\n",
       "1      536\n",
       "2      278\n",
       "3      202\n",
       "4      974\n",
       "      ... \n",
       "595    408\n",
       "596    341\n",
       "597    158\n",
       "598    461\n",
       "599    237\n",
       "Name: text, Length: 600, dtype: int64"
      ]
     },
     "execution_count": 19,
     "metadata": {},
     "output_type": "execute_result"
    }
   ],
   "source": [
    "df['text'].str.split().str.len()\n",
    "\n"
   ]
  },
  {
   "cell_type": "code",
   "execution_count": 20,
   "metadata": {},
   "outputs": [
    {
     "data": {
      "text/plain": [
       "529.8733333333333"
      ]
     },
     "execution_count": 20,
     "metadata": {},
     "output_type": "execute_result"
    }
   ],
   "source": [
    "#hay una media\n",
    "df['text'].str.split().str.len().mean()"
   ]
  },
  {
   "cell_type": "code",
   "execution_count": 23,
   "metadata": {},
   "outputs": [
    {
     "data": {
      "text/plain": [
       "count     600.000000\n",
       "mean      529.873333\n",
       "std       511.702057\n",
       "min        80.000000\n",
       "25%       237.000000\n",
       "50%       372.000000\n",
       "75%       620.500000\n",
       "max      4982.000000\n",
       "Name: text, dtype: float64"
      ]
     },
     "execution_count": 23,
     "metadata": {},
     "output_type": "execute_result"
    }
   ],
   "source": [
    "#hay opiniones de 80 palabras y otras 4982\n",
    "df['text'].str.split().str.len().describe()"
   ]
  },
  {
   "cell_type": "code",
   "execution_count": 24,
   "metadata": {},
   "outputs": [
    {
     "data": {
      "text/plain": [
       "class\n",
       "Camera    350\n",
       "Auto      250\n",
       "Name: count, dtype: int64"
      ]
     },
     "execution_count": 24,
     "metadata": {},
     "output_type": "execute_result"
    }
   ],
   "source": [
    "df['class'].value_counts()"
   ]
  },
  {
   "attachments": {},
   "cell_type": "markdown",
   "metadata": {},
   "source": [
    "#  Preparamos los datos"
   ]
  },
  {
   "cell_type": "code",
   "execution_count": 25,
   "metadata": {},
   "outputs": [
    {
     "data": {
      "text/plain": [
       "False"
      ]
     },
     "execution_count": 25,
     "metadata": {},
     "output_type": "execute_result"
    }
   ],
   "source": [
    "# Verificamos si hay valores null\n",
    "\n",
    "df.isnull().values.any()"
   ]
  },
  {
   "attachments": {},
   "cell_type": "markdown",
   "metadata": {},
   "source": [
    "# Entrenamos el modelo"
   ]
  },
  {
   "cell_type": "code",
   "execution_count": 28,
   "metadata": {},
   "outputs": [],
   "source": [
    " #Utilizaremos 400 datos para entrenar el modelo y 200 para testear el modelo\n",
    "from sklearn.model_selection import train_test_split\n",
    "#nos sentraremos en modelos de clasificacion\n",
    "train, test = train_test_split(df, test_size=0.33, random_state=42)"
   ]
  },
  {
   "cell_type": "code",
   "execution_count": 29,
   "metadata": {},
   "outputs": [
    {
     "data": {
      "text/html": [
       "<div>\n",
       "<style scoped>\n",
       "    .dataframe tbody tr th:only-of-type {\n",
       "        vertical-align: middle;\n",
       "    }\n",
       "\n",
       "    .dataframe tbody tr th {\n",
       "        vertical-align: top;\n",
       "    }\n",
       "\n",
       "    .dataframe thead th {\n",
       "        text-align: right;\n",
       "    }\n",
       "</style>\n",
       "<table border=\"1\" class=\"dataframe\">\n",
       "  <thead>\n",
       "    <tr style=\"text-align: right;\">\n",
       "      <th></th>\n",
       "      <th>class</th>\n",
       "      <th>text</th>\n",
       "    </tr>\n",
       "  </thead>\n",
       "  <tbody>\n",
       "    <tr>\n",
       "      <th>509</th>\n",
       "      <td>Camera</td>\n",
       "      <td>I had been hinting at a digital camera for Christmas but was surprised when my husband actually got one  After talking to several people  both sales people and those that had digital cameras  he chose the Olympus D 490 Zoom  It s been very easy to figure out with the help of the manual  The manual itself is easy to understand and it s not difficult to find something if I have a question  The camera can be used in two different ways  You can simply open the cover and point and shoot  or you can also open the lens cover and view your subjects through the monitor  much like looking through a cam corder screen  So far the pictures have been of good quality  though I haven t tried to print one out yet  Because my main objective at this point is to email pictures to friends and family I can choose a lower resolution setting and get more pictures at a time  but if I chose to print it s very easy to change the settings to a higher resolution  I d like to have a few of the accessories but the camera works just fine without them  they would just make the download to my computer easier and faster  I have an older computer so it takes a couple of minutes to download but not so long that it gets frustrating</td>\n",
       "    </tr>\n",
       "    <tr>\n",
       "      <th>149</th>\n",
       "      <td>Camera</td>\n",
       "      <td>After looking through a plethora of digital cameras at my local CompUSA  I chose Casio s QV 8000SX  I selected this model for several major reasons  One the camera is reasonably priced  especially when compared to its ling list of features  And talking about features  the QV 8000SX has a laundry list full of them  It has a wonderful 8x zoom  color selection modes that even allow a sepia print setting  And probably the most important feature  very high picture quality  Another feature which I found particularly appealing is the screw mount on the lens  Going back to my 35mm roots  I like the idea of being able to add a filter to protect the lens proper The only feature missing from this excellent unit is an ac adapter  This has to be purchased separately  But apart from that  it s a great camera at a great price br br</td>\n",
       "    </tr>\n",
       "  </tbody>\n",
       "</table>\n",
       "</div>"
      ],
      "text/plain": [
       "      class  \\\n",
       "509  Camera   \n",
       "149  Camera   \n",
       "\n",
       "                                                                                                                                                                                                                                                                                                                                                                                                                                                                                                                                                                                                                                                                                                                                                                                                                                                                                                                                                                                                                                                                                                                                                                                                                                                                 text  \n",
       "509   I had been hinting at a digital camera for Christmas but was surprised when my husband actually got one  After talking to several people  both sales people and those that had digital cameras  he chose the Olympus D 490 Zoom  It s been very easy to figure out with the help of the manual  The manual itself is easy to understand and it s not difficult to find something if I have a question  The camera can be used in two different ways  You can simply open the cover and point and shoot  or you can also open the lens cover and view your subjects through the monitor  much like looking through a cam corder screen  So far the pictures have been of good quality  though I haven t tried to print one out yet  Because my main objective at this point is to email pictures to friends and family I can choose a lower resolution setting and get more pictures at a time  but if I chose to print it s very easy to change the settings to a higher resolution  I d like to have a few of the accessories but the camera works just fine without them  they would just make the download to my computer easier and faster  I have an older computer so it takes a couple of minutes to download but not so long that it gets frustrating    \n",
       "149                                                                                                                                                                                                                                                                                                                                                                                                    After looking through a plethora of digital cameras at my local CompUSA  I chose Casio s QV 8000SX  I selected this model for several major reasons  One the camera is reasonably priced  especially when compared to its ling list of features  And talking about features  the QV 8000SX has a laundry list full of them  It has a wonderful 8x zoom  color selection modes that even allow a sepia print setting  And probably the most important feature  very high picture quality  Another feature which I found particularly appealing is the screw mount on the lens  Going back to my 35mm roots  I like the idea of being able to add a filter to protect the lens proper The only feature missing from this excellent unit is an ac adapter  This has to be purchased separately  But apart from that  it s a great camera at a great price br br    "
      ]
     },
     "execution_count": 29,
     "metadata": {},
     "output_type": "execute_result"
    }
   ],
   "source": [
    "train.head(2)"
   ]
  },
  {
   "cell_type": "code",
   "execution_count": 30,
   "metadata": {},
   "outputs": [
    {
     "data": {
      "text/html": [
       "<div>\n",
       "<style scoped>\n",
       "    .dataframe tbody tr th:only-of-type {\n",
       "        vertical-align: middle;\n",
       "    }\n",
       "\n",
       "    .dataframe tbody tr th {\n",
       "        vertical-align: top;\n",
       "    }\n",
       "\n",
       "    .dataframe thead th {\n",
       "        text-align: right;\n",
       "    }\n",
       "</style>\n",
       "<table border=\"1\" class=\"dataframe\">\n",
       "  <thead>\n",
       "    <tr style=\"text-align: right;\">\n",
       "      <th></th>\n",
       "      <th>class</th>\n",
       "      <th>text</th>\n",
       "    </tr>\n",
       "  </thead>\n",
       "  <tbody>\n",
       "    <tr>\n",
       "      <th>110</th>\n",
       "      <td>Camera</td>\n",
       "      <td>Having looked around the Web for a digital camera I was looking at either the Z1 or the Canon EOD300 Rebel  Unfortunately the Rebel was out of my price range so I bought the Z1  Overall I made a very good choice The camera takes good pictures in the majority of circumstances  You can have full control over the aperture  exposure and focus should you wish too  The camera can take over some or all of the functions too if you wish Low light shooting is easy and there is an option for sunset preserve to keep the warmth of a picture rather than overexpose to simulate full light  Fast moving objects need good light  as you would expect  but the camera can still operate at speeds approaching 1600 ISO  the speeds are quoted in seconds and fractions so you will have to convert to ISO yourself if you are that way inclined Night shooting is an exercise in steadyness and the threaded mount is inline with the lens so tripods are easy to attach and use with the camera  The position of the trigger means taht a decent push is needed often spoiling the shot through movement on the tripod  I tended to use the time delay function after lining the shot up  since the exposur time was generally 2 seconds you wouldnt be able to take moment in time shots anyway as you would blur  however if motion blur was wanted for a set time then the lack of a remote may hinder you The flash was good with the red eye reduction setting annoying  3 distinct flashes are used rather than the usual strobe  but effective The viewfinder shows a full picture but it has an obvious border so you will get more than you see  The LCD screen shows the full picture  observed by me not scientifically proved  The viewfinder and LCD screen are served by the same mechanism and therefore cannot be activated at the same time  Long exposure shots are restricted to 10 seconds maximum  the sensor simply cannot take long exposure  I typically call long exposure at least 1 minute with traditional cameras taking maybe 30 minutes onwards  This is not a fault of the camera as most digital cameras suffer the same fate of  overheated  CCDs  Only the EOD300 can have long exposures  I have seen a 10 minute exposure picture  for a budget camera 10x optical zoom is terrific and even the autofocus at maximum zoom is quick and efficient  A certain knack needs to be adopted with the camera since the shutter trigger is a two position button  A half press will continually focus and a full press will take the picture  therefore if you simply press the button the shutter will appear to be slow since the focusing mechanism will kick in before the picture is taken  If you are anticipating a fast shot then half hold the button to activate the autofocus then the shutter can be activated quickly  Usign this methods the camer was faultless and fast I have never been a fan of megapixels to rate a camera  Rather the resolutions on offer are good and true  2048 scale very well   but dont expect many per a 128Mb card never mind the bundled 16Mb  Colour reproduction is faithful on daylight shots and average for evening shots with maybe a hint of overglow Battery life is great on rechargeables  I got 300 shots from a set of 2100 NIMH before they needed charging and I was using autofocus and zoom a lot  however if you use alkalines then expect 200 before the batteries are drained   note they wont be useless  good enough for remotes or clocks  but they have lost the edge for the drain the camera needs For negative points  the build quality is average  The mechanican shutter jammed on my only 1 week into using it  I couldnt shift between LCD and viewfinder and a heavy press was needed on the back screen to release the shutter  Not good  The battery compartment seems VERY flimsy and I worry about breaking it everytime I use it  and I charge my batteries in a smart charger not internally  No AC supply is included but the majority of people who need one will have a regulated supply to hand anyway The lack of remote function is the only noteable omission from a rather useful bargain camera</td>\n",
       "    </tr>\n",
       "    <tr>\n",
       "      <th>419</th>\n",
       "      <td>Auto</td>\n",
       "      <td>I bought a 2002 Eclipse because I had a 1992 V4 RS that I had to get rid of due to the birth of my daughter  Now that she no longer requires attention while I m having to manually shift gears  I have me another one  I found the V6 GT to be A LOT tighter than the 1992 I had  My husband and I recently went on an 1 100 mile trip in the car to far West Texas  We found ourselves repeatedly dodging deer  raccoons  jackrabbits  lizards and any other critter that happened on the road  The Eclipse hugged the curves  stayed on the road and responded quickly and this was at speeds of 80 90 miles per hour  It is also quite a bit quieter with very little road noise or engine noise  The clutch and gear shift is soft and quick  I don t have any problems with grinding  while shifting  when I skip a gear  The sound system is nice  My daughters car seat fits nicely in the back and I don t have problems getting her out  I can fit more stuff in my Eclipse than I can in my Stratus  I would recommend this car for a responsible  mature driver  I would not recommend it for a teenager  The car will flat get away from you given the chance</td>\n",
       "    </tr>\n",
       "  </tbody>\n",
       "</table>\n",
       "</div>"
      ],
      "text/plain": [
       "      class  \\\n",
       "110  Camera   \n",
       "419    Auto   \n",
       "\n",
       "                                                                                                                                                                                                                                                                                                                                                                                                                                                                                                                                                                                                                                                                                                                                                                                                                                                                                                                                                                                                                                                                                                                                                                                                                                                                                                                                                                                                                                                                                                                                                                                                                                                                                                                                                                                                                                                                                                                                                                                                                                                                                                                                                                                                                                                                                                                                                                                                                                                                                                                                                                                                                                                                                                                                                                                                                                                                                                                                                                                                                                                                                                                                                                                                                                                                                                                                                                                                                                                                                                                                                                                                                                                                                                                                                                                                                                                                                                                                                                                                                                                                                                                                                                                                                                       text  \n",
       "110   Having looked around the Web for a digital camera I was looking at either the Z1 or the Canon EOD300 Rebel  Unfortunately the Rebel was out of my price range so I bought the Z1  Overall I made a very good choice The camera takes good pictures in the majority of circumstances  You can have full control over the aperture  exposure and focus should you wish too  The camera can take over some or all of the functions too if you wish Low light shooting is easy and there is an option for sunset preserve to keep the warmth of a picture rather than overexpose to simulate full light  Fast moving objects need good light  as you would expect  but the camera can still operate at speeds approaching 1600 ISO  the speeds are quoted in seconds and fractions so you will have to convert to ISO yourself if you are that way inclined Night shooting is an exercise in steadyness and the threaded mount is inline with the lens so tripods are easy to attach and use with the camera  The position of the trigger means taht a decent push is needed often spoiling the shot through movement on the tripod  I tended to use the time delay function after lining the shot up  since the exposur time was generally 2 seconds you wouldnt be able to take moment in time shots anyway as you would blur  however if motion blur was wanted for a set time then the lack of a remote may hinder you The flash was good with the red eye reduction setting annoying  3 distinct flashes are used rather than the usual strobe  but effective The viewfinder shows a full picture but it has an obvious border so you will get more than you see  The LCD screen shows the full picture  observed by me not scientifically proved  The viewfinder and LCD screen are served by the same mechanism and therefore cannot be activated at the same time  Long exposure shots are restricted to 10 seconds maximum  the sensor simply cannot take long exposure  I typically call long exposure at least 1 minute with traditional cameras taking maybe 30 minutes onwards  This is not a fault of the camera as most digital cameras suffer the same fate of  overheated  CCDs  Only the EOD300 can have long exposures  I have seen a 10 minute exposure picture  for a budget camera 10x optical zoom is terrific and even the autofocus at maximum zoom is quick and efficient  A certain knack needs to be adopted with the camera since the shutter trigger is a two position button  A half press will continually focus and a full press will take the picture  therefore if you simply press the button the shutter will appear to be slow since the focusing mechanism will kick in before the picture is taken  If you are anticipating a fast shot then half hold the button to activate the autofocus then the shutter can be activated quickly  Usign this methods the camer was faultless and fast I have never been a fan of megapixels to rate a camera  Rather the resolutions on offer are good and true  2048 scale very well   but dont expect many per a 128Mb card never mind the bundled 16Mb  Colour reproduction is faithful on daylight shots and average for evening shots with maybe a hint of overglow Battery life is great on rechargeables  I got 300 shots from a set of 2100 NIMH before they needed charging and I was using autofocus and zoom a lot  however if you use alkalines then expect 200 before the batteries are drained   note they wont be useless  good enough for remotes or clocks  but they have lost the edge for the drain the camera needs For negative points  the build quality is average  The mechanican shutter jammed on my only 1 week into using it  I couldnt shift between LCD and viewfinder and a heavy press was needed on the back screen to release the shutter  Not good  The battery compartment seems VERY flimsy and I worry about breaking it everytime I use it  and I charge my batteries in a smart charger not internally  No AC supply is included but the majority of people who need one will have a regulated supply to hand anyway The lack of remote function is the only noteable omission from a rather useful bargain camera    \n",
       "419                                                                                                                                                                                                                                                                                                                                                                                                                                                                                                                                                                                                                                                                                                                                                                                                                                                                                                                                                                                                                                                                                                                                                                                                                                                                                                                                                                                                                                                                                                                                                                                                                                                                                                                                                                                                                                                                                                                                                                                                                                                                                                                                                                                                                                                                                                                                                                                                                                                                                                                                                                                                                                                                                                                                                                                                                                                                                                                                                                                                                                                            I bought a 2002 Eclipse because I had a 1992 V4 RS that I had to get rid of due to the birth of my daughter  Now that she no longer requires attention while I m having to manually shift gears  I have me another one  I found the V6 GT to be A LOT tighter than the 1992 I had  My husband and I recently went on an 1 100 mile trip in the car to far West Texas  We found ourselves repeatedly dodging deer  raccoons  jackrabbits  lizards and any other critter that happened on the road  The Eclipse hugged the curves  stayed on the road and responded quickly and this was at speeds of 80 90 miles per hour  It is also quite a bit quieter with very little road noise or engine noise  The clutch and gear shift is soft and quick  I don t have any problems with grinding  while shifting  when I skip a gear  The sound system is nice  My daughters car seat fits nicely in the back and I don t have problems getting her out  I can fit more stuff in my Eclipse than I can in my Stratus  I would recommend this car for a responsible  mature driver  I would not recommend it for a teenager  The car will flat get away from you given the chance    "
      ]
     },
     "execution_count": 30,
     "metadata": {},
     "output_type": "execute_result"
    }
   ],
   "source": [
    "test.head(2)"
   ]
  },
  {
   "cell_type": "code",
   "execution_count": 31,
   "metadata": {},
   "outputs": [
    {
     "data": {
      "text/plain": [
       "402"
      ]
     },
     "execution_count": 31,
     "metadata": {},
     "output_type": "execute_result"
    }
   ],
   "source": [
    "len(train)"
   ]
  },
  {
   "cell_type": "code",
   "execution_count": 32,
   "metadata": {},
   "outputs": [
    {
     "data": {
      "text/plain": [
       "198"
      ]
     },
     "execution_count": 32,
     "metadata": {},
     "output_type": "execute_result"
    }
   ],
   "source": [
    "len(test)"
   ]
  },
  {
   "cell_type": "code",
   "execution_count": 33,
   "metadata": {},
   "outputs": [],
   "source": [
    "train_x = train['text'].to_list()\n",
    "train_y = train['class'].tolist()"
   ]
  },
  {
   "cell_type": "code",
   "execution_count": 34,
   "metadata": {},
   "outputs": [],
   "source": [
    "test_x = test['text'].to_list()\n",
    "test_y = test['class'].tolist()"
   ]
  },
  {
   "attachments": {},
   "cell_type": "markdown",
   "metadata": {},
   "source": [
    "Utilizaremos un metodo de bolsa de palabras para poder contar cuantas palabras tiene cada texto\n",
    "utilizando .feature_extration.text import CountVectorizer"
   ]
  },
  {
   "cell_type": "code",
   "execution_count": 38,
   "metadata": {},
   "outputs": [],
   "source": [
    "from sklearn.feature_extraction.text import CountVectorizer\n",
    "vectorizer = CountVectorizer()"
   ]
  },
  {
   "cell_type": "code",
   "execution_count": 39,
   "metadata": {},
   "outputs": [],
   "source": [
    "train_x_vectors = vectorizer.fit_transform(train_x)"
   ]
  },
  {
   "cell_type": "code",
   "execution_count": 40,
   "metadata": {},
   "outputs": [],
   "source": [
    "#Aqui lo utilizamos sin el .fit_transform porque es el vector de palabras que\n",
    "# que se utizara para testear\n",
    "test_x_vectors = vectorizer.transform(test_x)"
   ]
  },
  {
   "cell_type": "code",
   "execution_count": 41,
   "metadata": {},
   "outputs": [
    {
     "data": {
      "text/plain": [
       "(402, 10558)"
      ]
     },
     "execution_count": 41,
     "metadata": {},
     "output_type": "execute_result"
    }
   ],
   "source": [
    "#una matris de 402, 10558 palabras\n",
    "train_x_vectors.shape"
   ]
  },
  {
   "cell_type": "code",
   "execution_count": 42,
   "metadata": {},
   "outputs": [
    {
     "name": "stdout",
     "output_type": "stream",
     "text": [
      "  (0, 4618)\t2\n",
      "  (0, 1539)\t3\n",
      "  (0, 4802)\t1\n",
      "  (0, 1322)\t3\n",
      "  (0, 3147)\t2\n",
      "  (0, 1957)\t3\n",
      "  (0, 4205)\t1\n",
      "  (0, 2191)\t1\n",
      "  (0, 1889)\t4\n",
      "  (0, 10227)\t1\n",
      "  (0, 9260)\t1\n",
      "  (0, 10321)\t1\n",
      "  (0, 6293)\t3\n",
      "  (0, 4925)\t1\n",
      "  (0, 908)\t1\n",
      "  (0, 4491)\t1\n",
      "  (0, 6595)\t2\n",
      "  (0, 999)\t1\n",
      "  (0, 9343)\t1\n",
      "  (0, 9598)\t13\n",
      "  (0, 8411)\t1\n",
      "  (0, 6913)\t2\n",
      "  (0, 1734)\t1\n",
      "  (0, 8171)\t1\n",
      "  (0, 1131)\t8\n",
      "  :\t:\n",
      "  (0, 2104)\t1\n",
      "  (0, 8404)\t1\n",
      "  (0, 4778)\t1\n",
      "  (0, 4018)\t1\n",
      "  (0, 852)\t1\n",
      "  (0, 10438)\t1\n",
      "  (0, 5386)\t2\n",
      "  (0, 4062)\t1\n",
      "  (0, 10403)\t1\n",
      "  (0, 9466)\t1\n",
      "  (0, 9479)\t1\n",
      "  (0, 10454)\t1\n",
      "  (0, 5851)\t1\n",
      "  (0, 3319)\t2\n",
      "  (0, 2463)\t2\n",
      "  (0, 3452)\t1\n",
      "  (0, 3948)\t1\n",
      "  (0, 1125)\t1\n",
      "  (0, 6578)\t1\n",
      "  (0, 9338)\t1\n",
      "  (0, 2680)\t1\n",
      "  (0, 6111)\t1\n",
      "  (0, 5725)\t1\n",
      "  (0, 4420)\t1\n",
      "  (0, 4311)\t1\n"
     ]
    }
   ],
   "source": [
    "print(train_x_vectors[0])"
   ]
  },
  {
   "cell_type": "code",
   "execution_count": 43,
   "metadata": {},
   "outputs": [
    {
     "data": {
      "text/html": [
       "<style>#sk-container-id-1 {color: black;background-color: white;}#sk-container-id-1 pre{padding: 0;}#sk-container-id-1 div.sk-toggleable {background-color: white;}#sk-container-id-1 label.sk-toggleable__label {cursor: pointer;display: block;width: 100%;margin-bottom: 0;padding: 0.3em;box-sizing: border-box;text-align: center;}#sk-container-id-1 label.sk-toggleable__label-arrow:before {content: \"▸\";float: left;margin-right: 0.25em;color: #696969;}#sk-container-id-1 label.sk-toggleable__label-arrow:hover:before {color: black;}#sk-container-id-1 div.sk-estimator:hover label.sk-toggleable__label-arrow:before {color: black;}#sk-container-id-1 div.sk-toggleable__content {max-height: 0;max-width: 0;overflow: hidden;text-align: left;background-color: #f0f8ff;}#sk-container-id-1 div.sk-toggleable__content pre {margin: 0.2em;color: black;border-radius: 0.25em;background-color: #f0f8ff;}#sk-container-id-1 input.sk-toggleable__control:checked~div.sk-toggleable__content {max-height: 200px;max-width: 100%;overflow: auto;}#sk-container-id-1 input.sk-toggleable__control:checked~label.sk-toggleable__label-arrow:before {content: \"▾\";}#sk-container-id-1 div.sk-estimator input.sk-toggleable__control:checked~label.sk-toggleable__label {background-color: #d4ebff;}#sk-container-id-1 div.sk-label input.sk-toggleable__control:checked~label.sk-toggleable__label {background-color: #d4ebff;}#sk-container-id-1 input.sk-hidden--visually {border: 0;clip: rect(1px 1px 1px 1px);clip: rect(1px, 1px, 1px, 1px);height: 1px;margin: -1px;overflow: hidden;padding: 0;position: absolute;width: 1px;}#sk-container-id-1 div.sk-estimator {font-family: monospace;background-color: #f0f8ff;border: 1px dotted black;border-radius: 0.25em;box-sizing: border-box;margin-bottom: 0.5em;}#sk-container-id-1 div.sk-estimator:hover {background-color: #d4ebff;}#sk-container-id-1 div.sk-parallel-item::after {content: \"\";width: 100%;border-bottom: 1px solid gray;flex-grow: 1;}#sk-container-id-1 div.sk-label:hover label.sk-toggleable__label {background-color: #d4ebff;}#sk-container-id-1 div.sk-serial::before {content: \"\";position: absolute;border-left: 1px solid gray;box-sizing: border-box;top: 0;bottom: 0;left: 50%;z-index: 0;}#sk-container-id-1 div.sk-serial {display: flex;flex-direction: column;align-items: center;background-color: white;padding-right: 0.2em;padding-left: 0.2em;position: relative;}#sk-container-id-1 div.sk-item {position: relative;z-index: 1;}#sk-container-id-1 div.sk-parallel {display: flex;align-items: stretch;justify-content: center;background-color: white;position: relative;}#sk-container-id-1 div.sk-item::before, #sk-container-id-1 div.sk-parallel-item::before {content: \"\";position: absolute;border-left: 1px solid gray;box-sizing: border-box;top: 0;bottom: 0;left: 50%;z-index: -1;}#sk-container-id-1 div.sk-parallel-item {display: flex;flex-direction: column;z-index: 1;position: relative;background-color: white;}#sk-container-id-1 div.sk-parallel-item:first-child::after {align-self: flex-end;width: 50%;}#sk-container-id-1 div.sk-parallel-item:last-child::after {align-self: flex-start;width: 50%;}#sk-container-id-1 div.sk-parallel-item:only-child::after {width: 0;}#sk-container-id-1 div.sk-dashed-wrapped {border: 1px dashed gray;margin: 0 0.4em 0.5em 0.4em;box-sizing: border-box;padding-bottom: 0.4em;background-color: white;}#sk-container-id-1 div.sk-label label {font-family: monospace;font-weight: bold;display: inline-block;line-height: 1.2em;}#sk-container-id-1 div.sk-label-container {text-align: center;}#sk-container-id-1 div.sk-container {/* jupyter's `normalize.less` sets `[hidden] { display: none; }` but bootstrap.min.css set `[hidden] { display: none !important; }` so we also need the `!important` here to be able to override the default hidden behavior on the sphinx rendered scikit-learn.org. See: https://github.com/scikit-learn/scikit-learn/issues/21755 */display: inline-block !important;position: relative;}#sk-container-id-1 div.sk-text-repr-fallback {display: none;}</style><div id=\"sk-container-id-1\" class=\"sk-top-container\"><div class=\"sk-text-repr-fallback\"><pre>DecisionTreeClassifier()</pre><b>In a Jupyter environment, please rerun this cell to show the HTML representation or trust the notebook. <br />On GitHub, the HTML representation is unable to render, please try loading this page with nbviewer.org.</b></div><div class=\"sk-container\" hidden><div class=\"sk-item\"><div class=\"sk-estimator sk-toggleable\"><input class=\"sk-toggleable__control sk-hidden--visually\" id=\"sk-estimator-id-1\" type=\"checkbox\" checked><label for=\"sk-estimator-id-1\" class=\"sk-toggleable__label sk-toggleable__label-arrow\">DecisionTreeClassifier</label><div class=\"sk-toggleable__content\"><pre>DecisionTreeClassifier()</pre></div></div></div></div></div>"
      ],
      "text/plain": [
       "DecisionTreeClassifier()"
      ]
     },
     "execution_count": 43,
     "metadata": {},
     "output_type": "execute_result"
    }
   ],
   "source": [
    "from sklearn.tree import DecisionTreeClassifier\n",
    "clf_decision = DecisionTreeClassifier()\n",
    "clf_decision.fit(train_x_vectors,train_y)"
   ]
  },
  {
   "cell_type": "code",
   "execution_count": 44,
   "metadata": {},
   "outputs": [
    {
     "data": {
      "text/plain": [
       "' Having looked around the Web for a digital camera I was looking at either the Z1 or the Canon EOD300 Rebel  Unfortunately the Rebel was out of my price range so I bought the Z1  Overall I made a very good choice The camera takes good pictures in the majority of circumstances  You can have full control over the aperture  exposure and focus should you wish too  The camera can take over some or all of the functions too if you wish Low light shooting is easy and there is an option for sunset preserve to keep the warmth of a picture rather than overexpose to simulate full light  Fast moving objects need good light  as you would expect  but the camera can still operate at speeds approaching 1600 ISO  the speeds are quoted in seconds and fractions so you will have to convert to ISO yourself if you are that way inclined Night shooting is an exercise in steadyness and the threaded mount is inline with the lens so tripods are easy to attach and use with the camera  The position of the trigger means taht a decent push is needed often spoiling the shot through movement on the tripod  I tended to use the time delay function after lining the shot up  since the exposur time was generally 2 seconds you wouldnt be able to take moment in time shots anyway as you would blur  however if motion blur was wanted for a set time then the lack of a remote may hinder you The flash was good with the red eye reduction setting annoying  3 distinct flashes are used rather than the usual strobe  but effective The viewfinder shows a full picture but it has an obvious border so you will get more than you see  The LCD screen shows the full picture  observed by me not scientifically proved  The viewfinder and LCD screen are served by the same mechanism and therefore cannot be activated at the same time  Long exposure shots are restricted to 10 seconds maximum  the sensor simply cannot take long exposure  I typically call long exposure at least 1 minute with traditional cameras taking maybe 30 minutes onwards  This is not a fault of the camera as most digital cameras suffer the same fate of  overheated  CCDs  Only the EOD300 can have long exposures  I have seen a 10 minute exposure picture  for a budget camera 10x optical zoom is terrific and even the autofocus at maximum zoom is quick and efficient  A certain knack needs to be adopted with the camera since the shutter trigger is a two position button  A half press will continually focus and a full press will take the picture  therefore if you simply press the button the shutter will appear to be slow since the focusing mechanism will kick in before the picture is taken  If you are anticipating a fast shot then half hold the button to activate the autofocus then the shutter can be activated quickly  Usign this methods the camer was faultless and fast I have never been a fan of megapixels to rate a camera  Rather the resolutions on offer are good and true  2048 scale very well   but dont expect many per a 128Mb card never mind the bundled 16Mb  Colour reproduction is faithful on daylight shots and average for evening shots with maybe a hint of overglow Battery life is great on rechargeables  I got 300 shots from a set of 2100 NIMH before they needed charging and I was using autofocus and zoom a lot  however if you use alkalines then expect 200 before the batteries are drained   note they wont be useless  good enough for remotes or clocks  but they have lost the edge for the drain the camera needs For negative points  the build quality is average  The mechanican shutter jammed on my only 1 week into using it  I couldnt shift between LCD and viewfinder and a heavy press was needed on the back screen to release the shutter  Not good  The battery compartment seems VERY flimsy and I worry about breaking it everytime I use it  and I charge my batteries in a smart charger not internally  No AC supply is included but the majority of people who need one will have a regulated supply to hand anyway The lack of remote function is the only noteable omission from a rather useful bargain camera  '"
      ]
     },
     "execution_count": 44,
     "metadata": {},
     "output_type": "execute_result"
    }
   ],
   "source": [
    "test_x[0]"
   ]
  },
  {
   "cell_type": "code",
   "execution_count": 45,
   "metadata": {},
   "outputs": [
    {
     "data": {
      "text/plain": [
       "array(['Camera'], dtype='<U6')"
      ]
     },
     "execution_count": 45,
     "metadata": {},
     "output_type": "execute_result"
    }
   ],
   "source": [
    "#evaluamos el modelo, aqui predecimos de que el valor de testeo es camara\n",
    "clf_decision.predict(test_x_vectors[0])"
   ]
  },
  {
   "cell_type": "code",
   "execution_count": 46,
   "metadata": {},
   "outputs": [
    {
     "data": {
      "text/plain": [
       "0.9949494949494949"
      ]
     },
     "execution_count": 46,
     "metadata": {},
     "output_type": "execute_result"
    }
   ],
   "source": [
    "clf_decision.score(test_x_vectors, test_y)\n",
    "#Obtenemos que el modelo es del 99.4% es efectivo"
   ]
  },
  {
   "attachments": {},
   "cell_type": "markdown",
   "metadata": {},
   "source": [
    "Probamos con otro metodo de entrenamiento\n"
   ]
  },
  {
   "cell_type": "code",
   "execution_count": 48,
   "metadata": {},
   "outputs": [
    {
     "data": {
      "text/plain": [
       "array([0.99428571, 0.99547511])"
      ]
     },
     "execution_count": 48,
     "metadata": {},
     "output_type": "execute_result"
    }
   ],
   "source": [
    "from sklearn.metrics import f1_score\n",
    "f1_score(test_y, clf_decision.predict(test_x_vectors), average =None)"
   ]
  },
  {
   "cell_type": "code",
   "execution_count": 51,
   "metadata": {},
   "outputs": [
    {
     "data": {
      "text/plain": [
       "array([[ 87,   0],\n",
       "       [  1, 110]], dtype=int64)"
      ]
     },
     "execution_count": 51,
     "metadata": {},
     "output_type": "execute_result"
    }
   ],
   "source": [
    "from sklearn.metrics import confusion_matrix\n",
    "confusion_matrix(test_y, clf_decision.predict(test_x_vectors))"
   ]
  },
  {
   "cell_type": "code",
   "execution_count": 52,
   "metadata": {},
   "outputs": [
    {
     "data": {
      "text/plain": [
       "array(['Camera', 'Auto'], dtype='<U6')"
      ]
     },
     "execution_count": 52,
     "metadata": {},
     "output_type": "execute_result"
    }
   ],
   "source": [
    "test_de_prueba = [ ' i like my camera', ' my car is not working']\n",
    "new_test = vectorizer.transform(test_de_prueba)\n",
    "clf_decision.predict(new_test)"
   ]
  }
 ],
 "metadata": {
  "kernelspec": {
   "display_name": "Python 3",
   "language": "python",
   "name": "python3"
  },
  "language_info": {
   "codemirror_mode": {
    "name": "ipython",
    "version": 3
   },
   "file_extension": ".py",
   "mimetype": "text/x-python",
   "name": "python",
   "nbconvert_exporter": "python",
   "pygments_lexer": "ipython3",
   "version": "3.11.3"
  },
  "orig_nbformat": 4
 },
 "nbformat": 4,
 "nbformat_minor": 2
}
