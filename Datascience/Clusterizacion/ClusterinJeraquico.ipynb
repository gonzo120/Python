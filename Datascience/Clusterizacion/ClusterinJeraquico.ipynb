{
 "cells": [
  {
   "cell_type": "code",
   "execution_count": 3,
   "metadata": {},
   "outputs": [],
   "source": [
    "import numpy as np #Util para realizar calculos avanzados\n",
    "import pandas as pd #Funciones analisis de datos\n",
    "import matplotlib.pyplot as plt # para crear graicas de buena calidad"
   ]
  },
  {
   "cell_type": "code",
   "execution_count": 6,
   "metadata": {},
   "outputs": [
    {
     "data": {
      "text/html": [
       "<div>\n",
       "<style scoped>\n",
       "    .dataframe tbody tr th:only-of-type {\n",
       "        vertical-align: middle;\n",
       "    }\n",
       "\n",
       "    .dataframe tbody tr th {\n",
       "        vertical-align: top;\n",
       "    }\n",
       "\n",
       "    .dataframe thead th {\n",
       "        text-align: right;\n",
       "    }\n",
       "</style>\n",
       "<table border=\"1\" class=\"dataframe\">\n",
       "  <thead>\n",
       "    <tr style=\"text-align: right;\">\n",
       "      <th></th>\n",
       "      <th>Matematicas</th>\n",
       "      <th>Ciencias</th>\n",
       "      <th>Espanol</th>\n",
       "      <th>Historia</th>\n",
       "      <th>Deportes</th>\n",
       "    </tr>\n",
       "    <tr>\n",
       "      <th>Estudiante</th>\n",
       "      <th></th>\n",
       "      <th></th>\n",
       "      <th></th>\n",
       "      <th></th>\n",
       "      <th></th>\n",
       "    </tr>\n",
       "  </thead>\n",
       "  <tbody>\n",
       "    <tr>\n",
       "      <th>Lucia</th>\n",
       "      <td>7.0</td>\n",
       "      <td>6.5</td>\n",
       "      <td>9.2</td>\n",
       "      <td>8.6</td>\n",
       "      <td>8.0</td>\n",
       "    </tr>\n",
       "    <tr>\n",
       "      <th>Pedro</th>\n",
       "      <td>7.5</td>\n",
       "      <td>9.4</td>\n",
       "      <td>7.3</td>\n",
       "      <td>7.0</td>\n",
       "      <td>7.0</td>\n",
       "    </tr>\n",
       "    <tr>\n",
       "      <th>Ines</th>\n",
       "      <td>7.6</td>\n",
       "      <td>9.2</td>\n",
       "      <td>8.0</td>\n",
       "      <td>8.0</td>\n",
       "      <td>7.5</td>\n",
       "    </tr>\n",
       "    <tr>\n",
       "      <th>Luis</th>\n",
       "      <td>5.0</td>\n",
       "      <td>6.5</td>\n",
       "      <td>6.5</td>\n",
       "      <td>7.0</td>\n",
       "      <td>9.0</td>\n",
       "    </tr>\n",
       "    <tr>\n",
       "      <th>Andres</th>\n",
       "      <td>6.0</td>\n",
       "      <td>6.0</td>\n",
       "      <td>7.8</td>\n",
       "      <td>8.9</td>\n",
       "      <td>7.3</td>\n",
       "    </tr>\n",
       "  </tbody>\n",
       "</table>\n",
       "</div>"
      ],
      "text/plain": [
       "            Matematicas  Ciencias  Espanol  Historia  Deportes\n",
       "Estudiante                                                    \n",
       "Lucia               7.0       6.5      9.2       8.6       8.0\n",
       "Pedro               7.5       9.4      7.3       7.0       7.0\n",
       "Ines                7.6       9.2      8.0       8.0       7.5\n",
       "Luis                5.0       6.5      6.5       7.0       9.0\n",
       "Andres              6.0       6.0      7.8       8.9       7.3"
      ]
     },
     "execution_count": 6,
     "metadata": {},
     "output_type": "execute_result"
    }
   ],
   "source": [
    "df = pd.read_csv('C:/Users/sao/Desktop/Python/Datascience/datasets/Ejemplo Estudiantes.csv', index_col=0)\n",
    "df.head()"
   ]
  },
  {
   "cell_type": "code",
   "execution_count": 7,
   "metadata": {},
   "outputs": [
    {
     "name": "stdout",
     "output_type": "stream",
     "text": [
      "<class 'pandas.core.frame.DataFrame'>\n",
      "Index: 10 entries, Lucia to Maria\n",
      "Data columns (total 5 columns):\n",
      " #   Column       Non-Null Count  Dtype  \n",
      "---  ------       --------------  -----  \n",
      " 0   Matematicas  10 non-null     float64\n",
      " 1   Ciencias     10 non-null     float64\n",
      " 2   Espanol      10 non-null     float64\n",
      " 3   Historia     10 non-null     float64\n",
      " 4   Deportes     10 non-null     float64\n",
      "dtypes: float64(5)\n",
      "memory usage: 480.0+ bytes\n"
     ]
    }
   ],
   "source": [
    "df.info()"
   ]
  },
  {
   "cell_type": "code",
   "execution_count": 9,
   "metadata": {},
   "outputs": [
    {
     "data": {
      "text/plain": [
       "array([[7. , 6.5, 9.2, 8.6, 8. ],\n",
       "       [7.5, 9.4, 7.3, 7. , 7. ],\n",
       "       [7.6, 9.2, 8. , 8. , 7.5],\n",
       "       [5. , 6.5, 6.5, 7. , 9. ],\n",
       "       [6. , 6. , 7.8, 8.9, 7.3],\n",
       "       [7.8, 9.6, 7.7, 8. , 6.5],\n",
       "       [6.3, 6.4, 8.2, 9. , 7.2],\n",
       "       [7.9, 9.7, 7.5, 8. , 6. ],\n",
       "       [6. , 6. , 6.5, 5.5, 8.7],\n",
       "       [6.8, 7.2, 8.7, 9. , 7. ]])"
      ]
     },
     "execution_count": 9,
     "metadata": {},
     "output_type": "execute_result"
    }
   ],
   "source": [
    "#Extraemos los datos de los estudiantes\n",
    "calificaciones = df.iloc[:,:].values #: le indiicamos que traiga todas las filas\n",
    "calificaciones"
   ]
  },
  {
   "cell_type": "code",
   "execution_count": null,
   "metadata": {},
   "outputs": [],
   "source": [
    "#creamos el dendograma del clustering jerarquico"
   ]
  },
  {
   "cell_type": "code",
   "execution_count": 13,
   "metadata": {},
   "outputs": [],
   "source": [
    "from scipy.cluster.hierarchy import linkage\n",
    "\n",
    "clustering_jerarquico = linkage(calificaciones, 'ward')"
   ]
  },
  {
   "cell_type": "code",
   "execution_count": 16,
   "metadata": {},
   "outputs": [
    {
     "data": {
      "text/plain": [
       "{'icoord': [[5.0, 5.0, 15.0, 15.0],\n",
       "  [25.0, 25.0, 35.0, 35.0],\n",
       "  [10.0, 10.0, 30.0, 30.0],\n",
       "  [45.0, 45.0, 55.0, 55.0],\n",
       "  [65.0, 65.0, 75.0, 75.0],\n",
       "  [85.0, 85.0, 95.0, 95.0],\n",
       "  [70.0, 70.0, 90.0, 90.0],\n",
       "  [50.0, 50.0, 80.0, 80.0],\n",
       "  [20.0, 20.0, 65.0, 65.0]],\n",
       " 'dcoord': [[0.0, 0.5567764362830023, 0.5567764362830023, 0.0],\n",
       "  [0.0, 1.3379088160259653, 1.3379088160259653, 0.0],\n",
       "  [0.5567764362830023,\n",
       "   1.7117242768623688,\n",
       "   1.7117242768623688,\n",
       "   1.3379088160259653],\n",
       "  [0.0, 1.8947295321496418, 1.8947295321496418, 0.0],\n",
       "  [0.0, 0.6557438524301998, 0.6557438524301998, 0.0],\n",
       "  [0.0, 1.392838827718412, 1.392838827718412, 0.0],\n",
       "  [0.6557438524301998,\n",
       "   1.9862024066041202,\n",
       "   1.9862024066041202,\n",
       "   1.392838827718412],\n",
       "  [1.8947295321496418,\n",
       "   6.130388785930844,\n",
       "   6.130388785930844,\n",
       "   1.9862024066041202],\n",
       "  [1.7117242768623688,\n",
       "   7.868375520609914,\n",
       "   7.868375520609914,\n",
       "   6.130388785930844]],\n",
       " 'ivl': ['5', '7', '1', '2', '3', '8', '4', '6', '0', '9'],\n",
       " 'leaves': [5, 7, 1, 2, 3, 8, 4, 6, 0, 9],\n",
       " 'color_list': ['C1', 'C1', 'C1', 'C2', 'C3', 'C3', 'C3', 'C0', 'C0'],\n",
       " 'leaves_color_list': ['C1',\n",
       "  'C1',\n",
       "  'C1',\n",
       "  'C1',\n",
       "  'C2',\n",
       "  'C2',\n",
       "  'C3',\n",
       "  'C3',\n",
       "  'C3',\n",
       "  'C3']}"
      ]
     },
     "execution_count": 16,
     "metadata": {},
     "output_type": "execute_result"
    },
    {
     "data": {
      "image/png": "[encoded data removed]",
      "text/plain": [
       "<Figure size 640x480 with 1 Axes>"
      ]
     },
     "metadata": {},
     "output_type": "display_data"
    }
   ],
   "source": [
    "from scipy.cluster.hierarchy import dendrogram\n",
    "\n",
    "dendrogram(clustering_jerarquico)\n"
   ]
  },
  {
   "cell_type": "code",
   "execution_count": 19,
   "metadata": {},
   "outputs": [],
   "source": [
    "from scipy.cluster.hierarchy import fcluster\n",
    "clusters = fcluster(clustering_jerarquico, t=2, criterion = 'distance')"
   ]
  },
  {
   "cell_type": "code",
   "execution_count": 20,
   "metadata": {},
   "outputs": [
    {
     "data": {
      "text/plain": [
       "array([3, 1, 1, 2, 3, 1, 3, 1, 2, 3], dtype=int32)"
      ]
     },
     "execution_count": 20,
     "metadata": {},
     "output_type": "execute_result"
    }
   ],
   "source": [
    "clusters"
   ]
  },
  {
   "cell_type": "code",
   "execution_count": 21,
   "metadata": {},
   "outputs": [
    {
     "data": {
      "text/html": [
       "<div>\n",
       "<style scoped>\n",
       "    .dataframe tbody tr th:only-of-type {\n",
       "        vertical-align: middle;\n",
       "    }\n",
       "\n",
       "    .dataframe tbody tr th {\n",
       "        vertical-align: top;\n",
       "    }\n",
       "\n",
       "    .dataframe thead th {\n",
       "        text-align: right;\n",
       "    }\n",
       "</style>\n",
       "<table border=\"1\" class=\"dataframe\">\n",
       "  <thead>\n",
       "    <tr style=\"text-align: right;\">\n",
       "      <th></th>\n",
       "      <th>Matematicas</th>\n",
       "      <th>Ciencias</th>\n",
       "      <th>Espanol</th>\n",
       "      <th>Historia</th>\n",
       "      <th>Deportes</th>\n",
       "      <th>Clustering jerarquico</th>\n",
       "    </tr>\n",
       "    <tr>\n",
       "      <th>Estudiante</th>\n",
       "      <th></th>\n",
       "      <th></th>\n",
       "      <th></th>\n",
       "      <th></th>\n",
       "      <th></th>\n",
       "      <th></th>\n",
       "    </tr>\n",
       "  </thead>\n",
       "  <tbody>\n",
       "    <tr>\n",
       "      <th>Lucia</th>\n",
       "      <td>7.0</td>\n",
       "      <td>6.5</td>\n",
       "      <td>9.2</td>\n",
       "      <td>8.6</td>\n",
       "      <td>8.0</td>\n",
       "      <td>3</td>\n",
       "    </tr>\n",
       "    <tr>\n",
       "      <th>Pedro</th>\n",
       "      <td>7.5</td>\n",
       "      <td>9.4</td>\n",
       "      <td>7.3</td>\n",
       "      <td>7.0</td>\n",
       "      <td>7.0</td>\n",
       "      <td>1</td>\n",
       "    </tr>\n",
       "    <tr>\n",
       "      <th>Ines</th>\n",
       "      <td>7.6</td>\n",
       "      <td>9.2</td>\n",
       "      <td>8.0</td>\n",
       "      <td>8.0</td>\n",
       "      <td>7.5</td>\n",
       "      <td>1</td>\n",
       "    </tr>\n",
       "    <tr>\n",
       "      <th>Luis</th>\n",
       "      <td>5.0</td>\n",
       "      <td>6.5</td>\n",
       "      <td>6.5</td>\n",
       "      <td>7.0</td>\n",
       "      <td>9.0</td>\n",
       "      <td>2</td>\n",
       "    </tr>\n",
       "    <tr>\n",
       "      <th>Andres</th>\n",
       "      <td>6.0</td>\n",
       "      <td>6.0</td>\n",
       "      <td>7.8</td>\n",
       "      <td>8.9</td>\n",
       "      <td>7.3</td>\n",
       "      <td>3</td>\n",
       "    </tr>\n",
       "    <tr>\n",
       "      <th>Ana</th>\n",
       "      <td>7.8</td>\n",
       "      <td>9.6</td>\n",
       "      <td>7.7</td>\n",
       "      <td>8.0</td>\n",
       "      <td>6.5</td>\n",
       "      <td>1</td>\n",
       "    </tr>\n",
       "    <tr>\n",
       "      <th>Carlos</th>\n",
       "      <td>6.3</td>\n",
       "      <td>6.4</td>\n",
       "      <td>8.2</td>\n",
       "      <td>9.0</td>\n",
       "      <td>7.2</td>\n",
       "      <td>3</td>\n",
       "    </tr>\n",
       "    <tr>\n",
       "      <th>Jose</th>\n",
       "      <td>7.9</td>\n",
       "      <td>9.7</td>\n",
       "      <td>7.5</td>\n",
       "      <td>8.0</td>\n",
       "      <td>6.0</td>\n",
       "      <td>1</td>\n",
       "    </tr>\n",
       "    <tr>\n",
       "      <th>Sonia</th>\n",
       "      <td>6.0</td>\n",
       "      <td>6.0</td>\n",
       "      <td>6.5</td>\n",
       "      <td>5.5</td>\n",
       "      <td>8.7</td>\n",
       "      <td>2</td>\n",
       "    </tr>\n",
       "    <tr>\n",
       "      <th>Maria</th>\n",
       "      <td>6.8</td>\n",
       "      <td>7.2</td>\n",
       "      <td>8.7</td>\n",
       "      <td>9.0</td>\n",
       "      <td>7.0</td>\n",
       "      <td>3</td>\n",
       "    </tr>\n",
       "  </tbody>\n",
       "</table>\n",
       "</div>"
      ],
      "text/plain": [
       "            Matematicas  Ciencias  Espanol  Historia  Deportes  \\\n",
       "Estudiante                                                       \n",
       "Lucia               7.0       6.5      9.2       8.6       8.0   \n",
       "Pedro               7.5       9.4      7.3       7.0       7.0   \n",
       "Ines                7.6       9.2      8.0       8.0       7.5   \n",
       "Luis                5.0       6.5      6.5       7.0       9.0   \n",
       "Andres              6.0       6.0      7.8       8.9       7.3   \n",
       "Ana                 7.8       9.6      7.7       8.0       6.5   \n",
       "Carlos              6.3       6.4      8.2       9.0       7.2   \n",
       "Jose                7.9       9.7      7.5       8.0       6.0   \n",
       "Sonia               6.0       6.0      6.5       5.5       8.7   \n",
       "Maria               6.8       7.2      8.7       9.0       7.0   \n",
       "\n",
       "            Clustering jerarquico  \n",
       "Estudiante                         \n",
       "Lucia                           3  \n",
       "Pedro                           1  \n",
       "Ines                            1  \n",
       "Luis                            2  \n",
       "Andres                          3  \n",
       "Ana                             1  \n",
       "Carlos                          3  \n",
       "Jose                            1  \n",
       "Sonia                           2  \n",
       "Maria                           3  "
      ]
     },
     "execution_count": 21,
     "metadata": {},
     "output_type": "execute_result"
    }
   ],
   "source": [
    "df['Clustering jerarquico'] = clusters\n",
    "df"
   ]
  }
 ],
 "metadata": {
  "kernelspec": {
   "display_name": "Python 3",
   "language": "python",
   "name": "python3"
  },
  "language_info": {
   "codemirror_mode": {
    "name": "ipython",
    "version": 3
   },
   "file_extension": ".py",
   "mimetype": "text/x-python",
   "name": "python",
   "nbconvert_exporter": "python",
   "pygments_lexer": "ipython3",
   "version": "3.11.3"
  },
  "orig_nbformat": 4
 },
 "nbformat": 4,
 "nbformat_minor": 2
}
