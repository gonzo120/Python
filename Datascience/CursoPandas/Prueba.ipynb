{
 "cells": [
  {
   "cell_type": "code",
   "execution_count": 2,
   "metadata": {},
   "outputs": [],
   "source": [
    "import pandas as pd"
   ]
  },
  {
   "cell_type": "code",
   "execution_count": 4,
   "metadata": {},
   "outputs": [
    {
     "data": {
      "text/plain": [
       "0      4\n",
       "1      9\n",
       "2      2\n",
       "3      6\n",
       "4     10\n",
       "5    200\n",
       "dtype: int64"
      ]
     },
     "execution_count": 4,
     "metadata": {},
     "output_type": "execute_result"
    }
   ],
   "source": [
    "naranjas = pd.Series([4,9,2,6,10,200])\n",
    "manzanas = pd.Series([60,22,1,79,2,8])\n",
    "naranjas"
   ]
  },
  {
   "cell_type": "code",
   "execution_count": 15,
   "metadata": {},
   "outputs": [
    {
     "data": {
      "text/plain": [
       "1        azul\n",
       "2       verde\n",
       "3      morado\n",
       "4    amarillo\n",
       "dtype: object"
      ]
     },
     "execution_count": 15,
     "metadata": {},
     "output_type": "execute_result"
    }
   ],
   "source": [
    "colores = pd.Series(['rojo','azul','verde','morado','amarillo'])\n",
    "#==========================\n",
    "#llamar los valores \n",
    "colores[1:5]\n"
   ]
  },
  {
   "attachments": {},
   "cell_type": "markdown",
   "metadata": {},
   "source": [
    "#Creacion de un Diccionario\n"
   ]
  },
  {
   "cell_type": "code",
   "execution_count": 13,
   "metadata": {},
   "outputs": [
    {
     "name": "stdout",
     "output_type": "stream",
     "text": [
      "3\n",
      "Index(['Matematicas', 'fisica', 'calculo'], dtype='object')\n",
      "int64\n"
     ]
    }
   ],
   "source": [
    "materias = pd.Series({'Matematicas':60,'fisica':30, 'calculo':10})\n",
    "#==============================\n",
    "#SIZE: devuelve el numero de elementos de la serie\n",
    "print(materias.size )\n",
    "\n",
    "#==============================\n",
    "#.index: devuelve una lista con los nombres de las filas del DataFrame\n",
    "print(materias.index)\n",
    "#==============================\n",
    "#dtype:devuelve el tipo de datos de los elementos de la serie\n",
    "print(materias.dtype)"
   ]
  },
  {
   "cell_type": "code",
   "execution_count": null,
   "metadata": {},
   "outputs": [],
   "source": []
  }
 ],
 "metadata": {
  "kernelspec": {
   "display_name": "Python 3",
   "language": "python",
   "name": "python3"
  },
  "language_info": {
   "codemirror_mode": {
    "name": "ipython",
    "version": 3
   },
   "file_extension": ".py",
   "mimetype": "text/x-python",
   "name": "python",
   "nbconvert_exporter": "python",
   "pygments_lexer": "ipython3",
   "version": "3.11.3"
  },
  "orig_nbformat": 4
 },
 "nbformat": 4,
 "nbformat_minor": 2
}
