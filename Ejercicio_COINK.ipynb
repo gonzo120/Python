{
  "nbformat": 4,
  "nbformat_minor": 0,
  "metadata": {
    "colab": {
      "provenance": [],
      "mount_file_id": "1upwSxDG4kyGZgPWK955H6J4T_dPNc6QI",
      "authorship_tag": "ABX9TyM3AQhjDhPl9RAcVcUdfUuh",
      "include_colab_link": true
    },
    "kernelspec": {
      "name": "python3",
      "display_name": "Python 3"
    },
    "language_info": {
      "name": "python"
    }
  },
  "cells": [
    {
      "cell_type": "markdown",
      "metadata": {
        "id": "view-in-github",
        "colab_type": "text"
      },
      "source": [
        "<a href=\"https://colab.research.google.com/github/gonzo120/Python/blob/main/Ejercicio_COINK.ipynb\" target=\"_parent\"><img src=\"https://colab.research.google.com/assets/colab-badge.svg\" alt=\"Open In Colab\"/></a>"
      ]
    },
    {
      "cell_type": "markdown",
      "source": [
        "Una de las labores del equipo de Data en esta empresa es la de definir métricas para evaluar\n",
        "el desempeño de la compañía. Para ello usará una base de depósitos en Oinks (depositos_oink.csv). Los Oinks\n",
        "son máquinas en los que la gente puede depositar sus ahorros. Con ella debe construir una\n",
        "métrica que evalúe qué tan buenos (bajo su propio criterio) son los usuarios de Coink y\n",
        "calificar a los usuarios contenidos en la muestra. Cualquier gráfica para aclarar su métrica es\n",
        "bienvenida (use la herramienta de visualización que mejor crea conveniente).\n",
        "\n",
        "Ejercicio realizado por **NELSON GONZALEZ**\n"
      ],
      "metadata": {
        "id": "CbdH2XjZEXKn"
      }
    },
    {
      "cell_type": "code",
      "execution_count": null,
      "metadata": {
        "id": "fOHV1bs4jfB0",
        "colab": {
          "base_uri": "https://localhost:8080/"
        },
        "outputId": "3c392934-abbf-4bfc-f981-61259d778c40"
      },
      "outputs": [
        {
          "output_type": "stream",
          "name": "stdout",
          "text": [
            "Drive already mounted at /content/drive; to attempt to forcibly remount, call drive.mount(\"/content/drive\", force_remount=True).\n"
          ]
        }
      ],
      "source": [
        "import pandas as pd\n",
        "import numpy as np\n",
        "import matplotlib.pyplot as plt\n",
        "import seaborn as sns\n",
        "from google.colab import drive\n",
        "drive.mount('/content/drive')"
      ]
    },
    {
      "cell_type": "markdown",
      "source": [
        "Leemos el dataframe"
      ],
      "metadata": {
        "id": "CxyuuKlIeIJ1"
      }
    },
    {
      "cell_type": "code",
      "source": [
        "df = pd.read_csv('/content/drive/MyDrive/depositos_oinks.csv')\n",
        "df"
      ],
      "metadata": {
        "colab": {
          "base_uri": "https://localhost:8080/",
          "height": 423
        },
        "id": "6sEO8-awoGVW",
        "outputId": "474a2e99-c7d1-470b-b511-2064cb69a136"
      },
      "execution_count": null,
      "outputs": [
        {
          "output_type": "execute_result",
          "data": {
            "text/plain": [
              "      Unnamed: 0                               user_id  operation_value  \\\n",
              "0              0  0e52d550-ae23-407a-9b1f-6e5fb1f066ab         273850.0   \n",
              "1              1  975ed41e-d891-4c23-aeba-06363019d8e3            900.0   \n",
              "2              2  f9043545-dfc2-402f-a8c7-0a61f21cb719           1800.0   \n",
              "3              3  979ca8ad-9600-4a1f-81e9-e70c2f55cdc5           6500.0   \n",
              "4              4  171db06e-2e4b-4542-a9c9-32028520fda4         150000.0   \n",
              "...          ...                                   ...              ...   \n",
              "4340        4340  c3d37131-76e8-4c4f-8e55-2778ab8817ad            850.0   \n",
              "4341        4341  40bc63c7-4ef1-420e-9e99-6c473b5fe5b1           1800.0   \n",
              "4342        4342  b99b3b89-8d45-4656-a950-c85f202897b1           3500.0   \n",
              "4343        4343  443ffd46-0b2c-4383-9462-cf4b0519b6de         126200.0   \n",
              "4344        4344  0a8bbb74-a276-4434-895c-b30a94c04dee            100.0   \n",
              "\n",
              "           operation_date                            maplocation_name  \\\n",
              "0     2022-01-14 13:07:56  CC Plaza de las Américas  - Plaza Mariposa   \n",
              "1     2022-02-06 13:11:25  CC Plaza de las Américas  - Plaza Mariposa   \n",
              "2     2022-02-23 14:01:56        Universidad de los Andes - ML Piso 5   \n",
              "3     2021-12-16 12:09:45  CC Plaza de las Américas  - Plaza Mariposa   \n",
              "4     2022-01-25 12:00:18  CC Plaza de las Américas  - Plaza Mariposa   \n",
              "...                   ...                                         ...   \n",
              "4340  2021-12-26 13:29:06       CC Los Molinos - Zona Montaña Nivel 2   \n",
              "4341  2022-01-23 14:32:37       CC Los Molinos - Zona Montaña Nivel 2   \n",
              "4342  2021-12-06 19:33:24  CC Plaza de las Américas  - Plaza Mariposa   \n",
              "4343  2022-01-24 11:03:38       CC Los Molinos - Zona Montaña Nivel 2   \n",
              "4344  2022-02-12 11:58:57  CC Plaza de las Américas  - Plaza Mariposa   \n",
              "\n",
              "                user_createddate  \n",
              "0     2022-01-09 19:23:18.332689  \n",
              "1     2022-01-10 15:19:29.419075  \n",
              "2     2021-08-25 12:44:48.524941  \n",
              "3     2021-07-17 17:11:16.766291  \n",
              "4     2022-01-11 15:59:27.651994  \n",
              "...                          ...  \n",
              "4340  2021-02-26 09:04:03.443362  \n",
              "4341  2022-01-23 14:31:03.394729  \n",
              "4342  2021-05-14 15:08:33.500127  \n",
              "4343  2021-12-19 16:03:35.472917  \n",
              "4344  2022-02-12 11:51:40.981069  \n",
              "\n",
              "[4345 rows x 6 columns]"
            ],
            "text/html": [
              "\n",
              "  <div id=\"df-509fa2f2-2d93-468f-8ed6-bb5defe478fa\">\n",
              "    <div class=\"colab-df-container\">\n",
              "      <div>\n",
              "<style scoped>\n",
              "    .dataframe tbody tr th:only-of-type {\n",
              "        vertical-align: middle;\n",
              "    }\n",
              "\n",
              "    .dataframe tbody tr th {\n",
              "        vertical-align: top;\n",
              "    }\n",
              "\n",
              "    .dataframe thead th {\n",
              "        text-align: right;\n",
              "    }\n",
              "</style>\n",
              "<table border=\"1\" class=\"dataframe\">\n",
              "  <thead>\n",
              "    <tr style=\"text-align: right;\">\n",
              "      <th></th>\n",
              "      <th>Unnamed: 0</th>\n",
              "      <th>user_id</th>\n",
              "      <th>operation_value</th>\n",
              "      <th>operation_date</th>\n",
              "      <th>maplocation_name</th>\n",
              "      <th>user_createddate</th>\n",
              "    </tr>\n",
              "  </thead>\n",
              "  <tbody>\n",
              "    <tr>\n",
              "      <th>0</th>\n",
              "      <td>0</td>\n",
              "      <td>0e52d550-ae23-407a-9b1f-6e5fb1f066ab</td>\n",
              "      <td>273850.0</td>\n",
              "      <td>2022-01-14 13:07:56</td>\n",
              "      <td>CC Plaza de las Américas  - Plaza Mariposa</td>\n",
              "      <td>2022-01-09 19:23:18.332689</td>\n",
              "    </tr>\n",
              "    <tr>\n",
              "      <th>1</th>\n",
              "      <td>1</td>\n",
              "      <td>975ed41e-d891-4c23-aeba-06363019d8e3</td>\n",
              "      <td>900.0</td>\n",
              "      <td>2022-02-06 13:11:25</td>\n",
              "      <td>CC Plaza de las Américas  - Plaza Mariposa</td>\n",
              "      <td>2022-01-10 15:19:29.419075</td>\n",
              "    </tr>\n",
              "    <tr>\n",
              "      <th>2</th>\n",
              "      <td>2</td>\n",
              "      <td>f9043545-dfc2-402f-a8c7-0a61f21cb719</td>\n",
              "      <td>1800.0</td>\n",
              "      <td>2022-02-23 14:01:56</td>\n",
              "      <td>Universidad de los Andes - ML Piso 5</td>\n",
              "      <td>2021-08-25 12:44:48.524941</td>\n",
              "    </tr>\n",
              "    <tr>\n",
              "      <th>3</th>\n",
              "      <td>3</td>\n",
              "      <td>979ca8ad-9600-4a1f-81e9-e70c2f55cdc5</td>\n",
              "      <td>6500.0</td>\n",
              "      <td>2021-12-16 12:09:45</td>\n",
              "      <td>CC Plaza de las Américas  - Plaza Mariposa</td>\n",
              "      <td>2021-07-17 17:11:16.766291</td>\n",
              "    </tr>\n",
              "    <tr>\n",
              "      <th>4</th>\n",
              "      <td>4</td>\n",
              "      <td>171db06e-2e4b-4542-a9c9-32028520fda4</td>\n",
              "      <td>150000.0</td>\n",
              "      <td>2022-01-25 12:00:18</td>\n",
              "      <td>CC Plaza de las Américas  - Plaza Mariposa</td>\n",
              "      <td>2022-01-11 15:59:27.651994</td>\n",
              "    </tr>\n",
              "    <tr>\n",
              "      <th>...</th>\n",
              "      <td>...</td>\n",
              "      <td>...</td>\n",
              "      <td>...</td>\n",
              "      <td>...</td>\n",
              "      <td>...</td>\n",
              "      <td>...</td>\n",
              "    </tr>\n",
              "    <tr>\n",
              "      <th>4340</th>\n",
              "      <td>4340</td>\n",
              "      <td>c3d37131-76e8-4c4f-8e55-2778ab8817ad</td>\n",
              "      <td>850.0</td>\n",
              "      <td>2021-12-26 13:29:06</td>\n",
              "      <td>CC Los Molinos - Zona Montaña Nivel 2</td>\n",
              "      <td>2021-02-26 09:04:03.443362</td>\n",
              "    </tr>\n",
              "    <tr>\n",
              "      <th>4341</th>\n",
              "      <td>4341</td>\n",
              "      <td>40bc63c7-4ef1-420e-9e99-6c473b5fe5b1</td>\n",
              "      <td>1800.0</td>\n",
              "      <td>2022-01-23 14:32:37</td>\n",
              "      <td>CC Los Molinos - Zona Montaña Nivel 2</td>\n",
              "      <td>2022-01-23 14:31:03.394729</td>\n",
              "    </tr>\n",
              "    <tr>\n",
              "      <th>4342</th>\n",
              "      <td>4342</td>\n",
              "      <td>b99b3b89-8d45-4656-a950-c85f202897b1</td>\n",
              "      <td>3500.0</td>\n",
              "      <td>2021-12-06 19:33:24</td>\n",
              "      <td>CC Plaza de las Américas  - Plaza Mariposa</td>\n",
              "      <td>2021-05-14 15:08:33.500127</td>\n",
              "    </tr>\n",
              "    <tr>\n",
              "      <th>4343</th>\n",
              "      <td>4343</td>\n",
              "      <td>443ffd46-0b2c-4383-9462-cf4b0519b6de</td>\n",
              "      <td>126200.0</td>\n",
              "      <td>2022-01-24 11:03:38</td>\n",
              "      <td>CC Los Molinos - Zona Montaña Nivel 2</td>\n",
              "      <td>2021-12-19 16:03:35.472917</td>\n",
              "    </tr>\n",
              "    <tr>\n",
              "      <th>4344</th>\n",
              "      <td>4344</td>\n",
              "      <td>0a8bbb74-a276-4434-895c-b30a94c04dee</td>\n",
              "      <td>100.0</td>\n",
              "      <td>2022-02-12 11:58:57</td>\n",
              "      <td>CC Plaza de las Américas  - Plaza Mariposa</td>\n",
              "      <td>2022-02-12 11:51:40.981069</td>\n",
              "    </tr>\n",
              "  </tbody>\n",
              "</table>\n",
              "<p>4345 rows × 6 columns</p>\n",
              "</div>\n",
              "      <button class=\"colab-df-convert\" onclick=\"convertToInteractive('df-509fa2f2-2d93-468f-8ed6-bb5defe478fa')\"\n",
              "              title=\"Convert this dataframe to an interactive table.\"\n",
              "              style=\"display:none;\">\n",
              "        \n",
              "  <svg xmlns=\"http://www.w3.org/2000/svg\" height=\"24px\"viewBox=\"0 0 24 24\"\n",
              "       width=\"24px\">\n",
              "    <path d=\"M0 0h24v24H0V0z\" fill=\"none\"/>\n",
              "    <path d=\"M18.56 5.44l.94 2.06.94-2.06 2.06-.94-2.06-.94-.94-2.06-.94 2.06-2.06.94zm-11 1L8.5 8.5l.94-2.06 2.06-.94-2.06-.94L8.5 2.5l-.94 2.06-2.06.94zm10 10l.94 2.06.94-2.06 2.06-.94-2.06-.94-.94-2.06-.94 2.06-2.06.94z\"/><path d=\"M17.41 7.96l-1.37-1.37c-.4-.4-.92-.59-1.43-.59-.52 0-1.04.2-1.43.59L10.3 9.45l-7.72 7.72c-.78.78-.78 2.05 0 2.83L4 21.41c.39.39.9.59 1.41.59.51 0 1.02-.2 1.41-.59l7.78-7.78 2.81-2.81c.8-.78.8-2.07 0-2.86zM5.41 20L4 18.59l7.72-7.72 1.47 1.35L5.41 20z\"/>\n",
              "  </svg>\n",
              "      </button>\n",
              "      \n",
              "  <style>\n",
              "    .colab-df-container {\n",
              "      display:flex;\n",
              "      flex-wrap:wrap;\n",
              "      gap: 12px;\n",
              "    }\n",
              "\n",
              "    .colab-df-convert {\n",
              "      background-color: #E8F0FE;\n",
              "      border: none;\n",
              "      border-radius: 50%;\n",
              "      cursor: pointer;\n",
              "      display: none;\n",
              "      fill: #1967D2;\n",
              "      height: 32px;\n",
              "      padding: 0 0 0 0;\n",
              "      width: 32px;\n",
              "    }\n",
              "\n",
              "    .colab-df-convert:hover {\n",
              "      background-color: #E2EBFA;\n",
              "      box-shadow: 0px 1px 2px rgba(60, 64, 67, 0.3), 0px 1px 3px 1px rgba(60, 64, 67, 0.15);\n",
              "      fill: #174EA6;\n",
              "    }\n",
              "\n",
              "    [theme=dark] .colab-df-convert {\n",
              "      background-color: #3B4455;\n",
              "      fill: #D2E3FC;\n",
              "    }\n",
              "\n",
              "    [theme=dark] .colab-df-convert:hover {\n",
              "      background-color: #434B5C;\n",
              "      box-shadow: 0px 1px 3px 1px rgba(0, 0, 0, 0.15);\n",
              "      filter: drop-shadow(0px 1px 2px rgba(0, 0, 0, 0.3));\n",
              "      fill: #FFFFFF;\n",
              "    }\n",
              "  </style>\n",
              "\n",
              "      <script>\n",
              "        const buttonEl =\n",
              "          document.querySelector('#df-509fa2f2-2d93-468f-8ed6-bb5defe478fa button.colab-df-convert');\n",
              "        buttonEl.style.display =\n",
              "          google.colab.kernel.accessAllowed ? 'block' : 'none';\n",
              "\n",
              "        async function convertToInteractive(key) {\n",
              "          const element = document.querySelector('#df-509fa2f2-2d93-468f-8ed6-bb5defe478fa');\n",
              "          const dataTable =\n",
              "            await google.colab.kernel.invokeFunction('convertToInteractive',\n",
              "                                                     [key], {});\n",
              "          if (!dataTable) return;\n",
              "\n",
              "          const docLinkHtml = 'Like what you see? Visit the ' +\n",
              "            '<a target=\"_blank\" href=https://colab.research.google.com/notebooks/data_table.ipynb>data table notebook</a>'\n",
              "            + ' to learn more about interactive tables.';\n",
              "          element.innerHTML = '';\n",
              "          dataTable['output_type'] = 'display_data';\n",
              "          await google.colab.output.renderOutput(dataTable, element);\n",
              "          const docLink = document.createElement('div');\n",
              "          docLink.innerHTML = docLinkHtml;\n",
              "          element.appendChild(docLink);\n",
              "        }\n",
              "      </script>\n",
              "    </div>\n",
              "  </div>\n",
              "  "
            ]
          },
          "metadata": {},
          "execution_count": 7
        }
      ]
    },
    {
      "cell_type": "markdown",
      "source": [
        "Revisamos que tipo de dato es"
      ],
      "metadata": {
        "id": "2k6W5I9UePkO"
      }
    },
    {
      "cell_type": "code",
      "source": [
        "df.dtypes"
      ],
      "metadata": {
        "colab": {
          "base_uri": "https://localhost:8080/"
        },
        "id": "84FI8hj2o9JG",
        "outputId": "fe917537-0974-4be4-d073-0ce2980fa99c"
      },
      "execution_count": null,
      "outputs": [
        {
          "output_type": "execute_result",
          "data": {
            "text/plain": [
              "Unnamed: 0            int64\n",
              "user_id              object\n",
              "operation_value     float64\n",
              "operation_date       object\n",
              "maplocation_name     object\n",
              "user_createddate     object\n",
              "dtype: object"
            ]
          },
          "metadata": {},
          "execution_count": 11
        }
      ]
    },
    {
      "cell_type": "markdown",
      "source": [
        "Verificamos que no haya ninguna missing en el DataFrame"
      ],
      "metadata": {
        "id": "Yrxy4tW-ekQM"
      }
    },
    {
      "cell_type": "code",
      "source": [
        "df.isna().sum()"
      ],
      "metadata": {
        "colab": {
          "base_uri": "https://localhost:8080/"
        },
        "id": "DlqJ1gJXpS-O",
        "outputId": "a0efd5da-1137-4fb0-f6aa-74a5dea468e4"
      },
      "execution_count": null,
      "outputs": [
        {
          "output_type": "execute_result",
          "data": {
            "text/plain": [
              "Unnamed: 0          0\n",
              "user_id             0\n",
              "operation_value     0\n",
              "operation_date      0\n",
              "maplocation_name    0\n",
              "user_createddate    0\n",
              "dtype: int64"
            ]
          },
          "metadata": {},
          "execution_count": 12
        }
      ]
    },
    {
      "cell_type": "markdown",
      "source": [
        "En el analisis que realice, decidí irme por cual era el sitio en el que más depositaban las personas sus ahorros en los lugares donde se encuentra los puntos COINKS entonces necesitaba saber en todo el dataframe cuantos puntos habia y se encontraron 3 puntos porque pense que eran más y por eso realice este paso"
      ],
      "metadata": {
        "id": "but5ZYTDeyPW"
      }
    },
    {
      "cell_type": "code",
      "source": [
        "pd.unique(df['maplocation_name'])"
      ],
      "metadata": {
        "colab": {
          "base_uri": "https://localhost:8080/"
        },
        "id": "hnuPE_UVuBtW",
        "outputId": "2501e4e7-bf07-4574-d549-5d5c3a39ec81"
      },
      "execution_count": null,
      "outputs": [
        {
          "output_type": "execute_result",
          "data": {
            "text/plain": [
              "array(['CC Plaza de las Américas  - Plaza Mariposa',\n",
              "       'Universidad de los Andes - ML Piso 5',\n",
              "       'CC Los Molinos - Zona Montaña Nivel 2'], dtype=object)"
            ]
          },
          "metadata": {},
          "execution_count": 14
        }
      ]
    },
    {
      "cell_type": "markdown",
      "source": [
        "  Contamos la cantidad de veces que hubo un registro en los 3 diferentes sitios y lo visualizamos en la siguiente grafica"
      ],
      "metadata": {
        "id": "4qwCM-gVfsOM"
      }
    },
    {
      "cell_type": "code",
      "source": [
        "total = df['maplocation_name'].value_counts()"
      ],
      "metadata": {
        "id": "EDK7faHr9He3"
      },
      "execution_count": null,
      "outputs": []
    },
    {
      "cell_type": "code",
      "source": [
        "plt.figure(figsize=(18,5))\n",
        "plt.bar(pd.unique(df['maplocation_name']), total)\n",
        "plt.show()"
      ],
      "metadata": {
        "colab": {
          "base_uri": "https://localhost:8080/",
          "height": 320
        },
        "id": "Mcamjj1-Aw0s",
        "outputId": "97417c95-bac5-485a-a0c1-784ec41b61ac"
      },
      "execution_count": null,
      "outputs": [
        {
          "output_type": "display_data",
          "data": {
            "text/plain": [
              "<Figure size 1296x360 with 1 Axes>"
            ],
            "image/png": "[encoded data removed]"
          },
          "metadata": {
            "needs_background": "light"
          }
        }
      ]
    },
    {
      "cell_type": "markdown",
      "source": [
        "Identificamos donde más utilizan el punto COINK es en CC plaza de las americas y ahora en base a la cantidad de dinero que depositan decidí hallar los outliers del dinero que depositan"
      ],
      "metadata": {
        "id": "FNyVZGVWf6tp"
      }
    },
    {
      "cell_type": "code",
      "source": [
        "df['operation_date'] = pd.to_datetime(df['operation_date'])"
      ],
      "metadata": {
        "id": "cL-A7SAiDOwR"
      },
      "execution_count": null,
      "outputs": []
    },
    {
      "cell_type": "code",
      "source": [
        "plt.figure(figsize=(10,9))\n",
        "df.boxplot()\n",
        "plt.title(\"Variables numéricas\", fontsize=20)\n",
        "plt.show()"
      ],
      "metadata": {
        "colab": {
          "base_uri": "https://localhost:8080/",
          "height": 559
        },
        "id": "YuEXoiWPEENn",
        "outputId": "5dcdb522-8340-4670-d263-c41f2faebb58"
      },
      "execution_count": null,
      "outputs": [
        {
          "output_type": "display_data",
          "data": {
            "text/plain": [
              "<Figure size 720x648 with 1 Axes>"
            ],
            "image/png": "[encoded data removed]"
          },
          "metadata": {
            "needs_background": "light"
          }
        }
      ]
    },
    {
      "cell_type": "markdown",
      "source": [
        "Entonces decidí obtener los registros de los usuarios que depositan más de 100000 pesos, que pensaría que son los clientes con más confiabilidad dan a la empresa y son aquellos que se deberían ofrecerles ofertas, descuentos y demás beneficios que haya en la empresa."
      ],
      "metadata": {
        "id": "zJY55jakgT7O"
      }
    },
    {
      "cell_type": "code",
      "source": [
        "NewDf =df[df['operation_value'] > 10000]\n",
        "NewDf"
      ],
      "metadata": {
        "colab": {
          "base_uri": "https://localhost:8080/",
          "height": 423
        },
        "id": "w29zWWgKGCaJ",
        "outputId": "94af308b-96f6-4633-8f8a-7dc50cfd402b"
      },
      "execution_count": null,
      "outputs": [
        {
          "output_type": "execute_result",
          "data": {
            "text/plain": [
              "      Unnamed: 0                               user_id  operation_value  \\\n",
              "0              0  0e52d550-ae23-407a-9b1f-6e5fb1f066ab         273850.0   \n",
              "4              4  171db06e-2e4b-4542-a9c9-32028520fda4         150000.0   \n",
              "6              6  9fe4047c-e718-4da6-8fd5-080f46fc2e2f         142200.0   \n",
              "7              7  8390c931-02f8-4a59-924b-5299306af556          10600.0   \n",
              "10            10  e7bff5a9-14d0-4e58-ac7a-d798507776ce          10750.0   \n",
              "...          ...                                   ...              ...   \n",
              "4336        4336  3555ffe2-f10a-45c4-ab1b-fbe5332a0f67          29500.0   \n",
              "4337        4337  0a26f835-431a-423b-b00f-4b9343200346          13700.0   \n",
              "4338        4338  40680ece-2aa7-474a-99b4-c5d9087ff660          12100.0   \n",
              "4339        4339  f744b931-6232-43f6-bb7b-bd52275c3ddc          17200.0   \n",
              "4343        4343  443ffd46-0b2c-4383-9462-cf4b0519b6de         126200.0   \n",
              "\n",
              "          operation_date                            maplocation_name  \\\n",
              "0    2022-01-14 13:07:56  CC Plaza de las Américas  - Plaza Mariposa   \n",
              "4    2022-01-25 12:00:18  CC Plaza de las Américas  - Plaza Mariposa   \n",
              "6    2022-02-14 13:47:58  CC Plaza de las Américas  - Plaza Mariposa   \n",
              "7    2021-12-26 14:01:37       CC Los Molinos - Zona Montaña Nivel 2   \n",
              "10   2022-02-18 16:24:19       CC Los Molinos - Zona Montaña Nivel 2   \n",
              "...                  ...                                         ...   \n",
              "4336 2022-01-02 13:37:37       CC Los Molinos - Zona Montaña Nivel 2   \n",
              "4337 2021-12-30 17:51:11       CC Los Molinos - Zona Montaña Nivel 2   \n",
              "4338 2022-01-28 20:18:16       CC Los Molinos - Zona Montaña Nivel 2   \n",
              "4339 2022-02-16 08:40:39        Universidad de los Andes - ML Piso 5   \n",
              "4343 2022-01-24 11:03:38       CC Los Molinos - Zona Montaña Nivel 2   \n",
              "\n",
              "                user_createddate  \n",
              "0     2022-01-09 19:23:18.332689  \n",
              "4     2022-01-11 15:59:27.651994  \n",
              "6     2022-01-30 16:54:03.447831  \n",
              "7     2021-12-08 18:39:34.167058  \n",
              "10    2021-12-10 13:40:04.723180  \n",
              "...                          ...  \n",
              "4336  2021-12-31 14:23:46.560878  \n",
              "4337  2021-12-19 12:22:29.366139  \n",
              "4338  2021-01-21 16:52:55.005197  \n",
              "4339  2020-01-16 11:26:00.603534  \n",
              "4343  2021-12-19 16:03:35.472917  \n",
              "\n",
              "[1648 rows x 6 columns]"
            ],
            "text/html": [
              "\n",
              "  <div id=\"df-cc026909-74e6-4a6e-b03a-5bfc35eb77a6\">\n",
              "    <div class=\"colab-df-container\">\n",
              "      <div>\n",
              "<style scoped>\n",
              "    .dataframe tbody tr th:only-of-type {\n",
              "        vertical-align: middle;\n",
              "    }\n",
              "\n",
              "    .dataframe tbody tr th {\n",
              "        vertical-align: top;\n",
              "    }\n",
              "\n",
              "    .dataframe thead th {\n",
              "        text-align: right;\n",
              "    }\n",
              "</style>\n",
              "<table border=\"1\" class=\"dataframe\">\n",
              "  <thead>\n",
              "    <tr style=\"text-align: right;\">\n",
              "      <th></th>\n",
              "      <th>Unnamed: 0</th>\n",
              "      <th>user_id</th>\n",
              "      <th>operation_value</th>\n",
              "      <th>operation_date</th>\n",
              "      <th>maplocation_name</th>\n",
              "      <th>user_createddate</th>\n",
              "    </tr>\n",
              "  </thead>\n",
              "  <tbody>\n",
              "    <tr>\n",
              "      <th>0</th>\n",
              "      <td>0</td>\n",
              "      <td>0e52d550-ae23-407a-9b1f-6e5fb1f066ab</td>\n",
              "      <td>273850.0</td>\n",
              "      <td>2022-01-14 13:07:56</td>\n",
              "      <td>CC Plaza de las Américas  - Plaza Mariposa</td>\n",
              "      <td>2022-01-09 19:23:18.332689</td>\n",
              "    </tr>\n",
              "    <tr>\n",
              "      <th>4</th>\n",
              "      <td>4</td>\n",
              "      <td>171db06e-2e4b-4542-a9c9-32028520fda4</td>\n",
              "      <td>150000.0</td>\n",
              "      <td>2022-01-25 12:00:18</td>\n",
              "      <td>CC Plaza de las Américas  - Plaza Mariposa</td>\n",
              "      <td>2022-01-11 15:59:27.651994</td>\n",
              "    </tr>\n",
              "    <tr>\n",
              "      <th>6</th>\n",
              "      <td>6</td>\n",
              "      <td>9fe4047c-e718-4da6-8fd5-080f46fc2e2f</td>\n",
              "      <td>142200.0</td>\n",
              "      <td>2022-02-14 13:47:58</td>\n",
              "      <td>CC Plaza de las Américas  - Plaza Mariposa</td>\n",
              "      <td>2022-01-30 16:54:03.447831</td>\n",
              "    </tr>\n",
              "    <tr>\n",
              "      <th>7</th>\n",
              "      <td>7</td>\n",
              "      <td>8390c931-02f8-4a59-924b-5299306af556</td>\n",
              "      <td>10600.0</td>\n",
              "      <td>2021-12-26 14:01:37</td>\n",
              "      <td>CC Los Molinos - Zona Montaña Nivel 2</td>\n",
              "      <td>2021-12-08 18:39:34.167058</td>\n",
              "    </tr>\n",
              "    <tr>\n",
              "      <th>10</th>\n",
              "      <td>10</td>\n",
              "      <td>e7bff5a9-14d0-4e58-ac7a-d798507776ce</td>\n",
              "      <td>10750.0</td>\n",
              "      <td>2022-02-18 16:24:19</td>\n",
              "      <td>CC Los Molinos - Zona Montaña Nivel 2</td>\n",
              "      <td>2021-12-10 13:40:04.723180</td>\n",
              "    </tr>\n",
              "    <tr>\n",
              "      <th>...</th>\n",
              "      <td>...</td>\n",
              "      <td>...</td>\n",
              "      <td>...</td>\n",
              "      <td>...</td>\n",
              "      <td>...</td>\n",
              "      <td>...</td>\n",
              "    </tr>\n",
              "    <tr>\n",
              "      <th>4336</th>\n",
              "      <td>4336</td>\n",
              "      <td>3555ffe2-f10a-45c4-ab1b-fbe5332a0f67</td>\n",
              "      <td>29500.0</td>\n",
              "      <td>2022-01-02 13:37:37</td>\n",
              "      <td>CC Los Molinos - Zona Montaña Nivel 2</td>\n",
              "      <td>2021-12-31 14:23:46.560878</td>\n",
              "    </tr>\n",
              "    <tr>\n",
              "      <th>4337</th>\n",
              "      <td>4337</td>\n",
              "      <td>0a26f835-431a-423b-b00f-4b9343200346</td>\n",
              "      <td>13700.0</td>\n",
              "      <td>2021-12-30 17:51:11</td>\n",
              "      <td>CC Los Molinos - Zona Montaña Nivel 2</td>\n",
              "      <td>2021-12-19 12:22:29.366139</td>\n",
              "    </tr>\n",
              "    <tr>\n",
              "      <th>4338</th>\n",
              "      <td>4338</td>\n",
              "      <td>40680ece-2aa7-474a-99b4-c5d9087ff660</td>\n",
              "      <td>12100.0</td>\n",
              "      <td>2022-01-28 20:18:16</td>\n",
              "      <td>CC Los Molinos - Zona Montaña Nivel 2</td>\n",
              "      <td>2021-01-21 16:52:55.005197</td>\n",
              "    </tr>\n",
              "    <tr>\n",
              "      <th>4339</th>\n",
              "      <td>4339</td>\n",
              "      <td>f744b931-6232-43f6-bb7b-bd52275c3ddc</td>\n",
              "      <td>17200.0</td>\n",
              "      <td>2022-02-16 08:40:39</td>\n",
              "      <td>Universidad de los Andes - ML Piso 5</td>\n",
              "      <td>2020-01-16 11:26:00.603534</td>\n",
              "    </tr>\n",
              "    <tr>\n",
              "      <th>4343</th>\n",
              "      <td>4343</td>\n",
              "      <td>443ffd46-0b2c-4383-9462-cf4b0519b6de</td>\n",
              "      <td>126200.0</td>\n",
              "      <td>2022-01-24 11:03:38</td>\n",
              "      <td>CC Los Molinos - Zona Montaña Nivel 2</td>\n",
              "      <td>2021-12-19 16:03:35.472917</td>\n",
              "    </tr>\n",
              "  </tbody>\n",
              "</table>\n",
              "<p>1648 rows × 6 columns</p>\n",
              "</div>\n",
              "      <button class=\"colab-df-convert\" onclick=\"convertToInteractive('df-cc026909-74e6-4a6e-b03a-5bfc35eb77a6')\"\n",
              "              title=\"Convert this dataframe to an interactive table.\"\n",
              "              style=\"display:none;\">\n",
              "        \n",
              "  <svg xmlns=\"http://www.w3.org/2000/svg\" height=\"24px\"viewBox=\"0 0 24 24\"\n",
              "       width=\"24px\">\n",
              "    <path d=\"M0 0h24v24H0V0z\" fill=\"none\"/>\n",
              "    <path d=\"M18.56 5.44l.94 2.06.94-2.06 2.06-.94-2.06-.94-.94-2.06-.94 2.06-2.06.94zm-11 1L8.5 8.5l.94-2.06 2.06-.94-2.06-.94L8.5 2.5l-.94 2.06-2.06.94zm10 10l.94 2.06.94-2.06 2.06-.94-2.06-.94-.94-2.06-.94 2.06-2.06.94z\"/><path d=\"M17.41 7.96l-1.37-1.37c-.4-.4-.92-.59-1.43-.59-.52 0-1.04.2-1.43.59L10.3 9.45l-7.72 7.72c-.78.78-.78 2.05 0 2.83L4 21.41c.39.39.9.59 1.41.59.51 0 1.02-.2 1.41-.59l7.78-7.78 2.81-2.81c.8-.78.8-2.07 0-2.86zM5.41 20L4 18.59l7.72-7.72 1.47 1.35L5.41 20z\"/>\n",
              "  </svg>\n",
              "      </button>\n",
              "      \n",
              "  <style>\n",
              "    .colab-df-container {\n",
              "      display:flex;\n",
              "      flex-wrap:wrap;\n",
              "      gap: 12px;\n",
              "    }\n",
              "\n",
              "    .colab-df-convert {\n",
              "      background-color: #E8F0FE;\n",
              "      border: none;\n",
              "      border-radius: 50%;\n",
              "      cursor: pointer;\n",
              "      display: none;\n",
              "      fill: #1967D2;\n",
              "      height: 32px;\n",
              "      padding: 0 0 0 0;\n",
              "      width: 32px;\n",
              "    }\n",
              "\n",
              "    .colab-df-convert:hover {\n",
              "      background-color: #E2EBFA;\n",
              "      box-shadow: 0px 1px 2px rgba(60, 64, 67, 0.3), 0px 1px 3px 1px rgba(60, 64, 67, 0.15);\n",
              "      fill: #174EA6;\n",
              "    }\n",
              "\n",
              "    [theme=dark] .colab-df-convert {\n",
              "      background-color: #3B4455;\n",
              "      fill: #D2E3FC;\n",
              "    }\n",
              "\n",
              "    [theme=dark] .colab-df-convert:hover {\n",
              "      background-color: #434B5C;\n",
              "      box-shadow: 0px 1px 3px 1px rgba(0, 0, 0, 0.15);\n",
              "      filter: drop-shadow(0px 1px 2px rgba(0, 0, 0, 0.3));\n",
              "      fill: #FFFFFF;\n",
              "    }\n",
              "  </style>\n",
              "\n",
              "      <script>\n",
              "        const buttonEl =\n",
              "          document.querySelector('#df-cc026909-74e6-4a6e-b03a-5bfc35eb77a6 button.colab-df-convert');\n",
              "        buttonEl.style.display =\n",
              "          google.colab.kernel.accessAllowed ? 'block' : 'none';\n",
              "\n",
              "        async function convertToInteractive(key) {\n",
              "          const element = document.querySelector('#df-cc026909-74e6-4a6e-b03a-5bfc35eb77a6');\n",
              "          const dataTable =\n",
              "            await google.colab.kernel.invokeFunction('convertToInteractive',\n",
              "                                                     [key], {});\n",
              "          if (!dataTable) return;\n",
              "\n",
              "          const docLinkHtml = 'Like what you see? Visit the ' +\n",
              "            '<a target=\"_blank\" href=https://colab.research.google.com/notebooks/data_table.ipynb>data table notebook</a>'\n",
              "            + ' to learn more about interactive tables.';\n",
              "          element.innerHTML = '';\n",
              "          dataTable['output_type'] = 'display_data';\n",
              "          await google.colab.output.renderOutput(dataTable, element);\n",
              "          const docLink = document.createElement('div');\n",
              "          docLink.innerHTML = docLinkHtml;\n",
              "          element.appendChild(docLink);\n",
              "        }\n",
              "      </script>\n",
              "    </div>\n",
              "  </div>\n",
              "  "
            ]
          },
          "metadata": {},
          "execution_count": 26
        }
      ]
    },
    {
      "cell_type": "markdown",
      "source": [
        "ese es 1 analisis que podriamos visualizar en la base de datos, como segundo analisis decidi visualizar que punto y que año habian más registros entonces genere un nuevo dataframe con las columnas que nos interesan graficar"
      ],
      "metadata": {
        "id": "DJlur9DYg1TH"
      }
    },
    {
      "cell_type": "code",
      "source": [
        "num_cols = ['operation_value', 'operation_date','maplocation_name']\n",
        "NewDf[num_cols]"
      ],
      "metadata": {
        "colab": {
          "base_uri": "https://localhost:8080/",
          "height": 423
        },
        "id": "bCltUdFQHBGO",
        "outputId": "29736d9f-14af-408c-f261-bb735ec1da80"
      },
      "execution_count": null,
      "outputs": [
        {
          "output_type": "execute_result",
          "data": {
            "text/plain": [
              "      operation_value      operation_date  \\\n",
              "0            273850.0 2022-01-14 13:07:56   \n",
              "4            150000.0 2022-01-25 12:00:18   \n",
              "6            142200.0 2022-02-14 13:47:58   \n",
              "7             10600.0 2021-12-26 14:01:37   \n",
              "10            10750.0 2022-02-18 16:24:19   \n",
              "...               ...                 ...   \n",
              "4336          29500.0 2022-01-02 13:37:37   \n",
              "4337          13700.0 2021-12-30 17:51:11   \n",
              "4338          12100.0 2022-01-28 20:18:16   \n",
              "4339          17200.0 2022-02-16 08:40:39   \n",
              "4343         126200.0 2022-01-24 11:03:38   \n",
              "\n",
              "                                maplocation_name  \n",
              "0     CC Plaza de las Américas  - Plaza Mariposa  \n",
              "4     CC Plaza de las Américas  - Plaza Mariposa  \n",
              "6     CC Plaza de las Américas  - Plaza Mariposa  \n",
              "7          CC Los Molinos - Zona Montaña Nivel 2  \n",
              "10         CC Los Molinos - Zona Montaña Nivel 2  \n",
              "...                                          ...  \n",
              "4336       CC Los Molinos - Zona Montaña Nivel 2  \n",
              "4337       CC Los Molinos - Zona Montaña Nivel 2  \n",
              "4338       CC Los Molinos - Zona Montaña Nivel 2  \n",
              "4339        Universidad de los Andes - ML Piso 5  \n",
              "4343       CC Los Molinos - Zona Montaña Nivel 2  \n",
              "\n",
              "[1648 rows x 3 columns]"
            ],
            "text/html": [
              "\n",
              "  <div id=\"df-c7aa8340-1494-4ff3-9b24-eaa1538bc6c0\">\n",
              "    <div class=\"colab-df-container\">\n",
              "      <div>\n",
              "<style scoped>\n",
              "    .dataframe tbody tr th:only-of-type {\n",
              "        vertical-align: middle;\n",
              "    }\n",
              "\n",
              "    .dataframe tbody tr th {\n",
              "        vertical-align: top;\n",
              "    }\n",
              "\n",
              "    .dataframe thead th {\n",
              "        text-align: right;\n",
              "    }\n",
              "</style>\n",
              "<table border=\"1\" class=\"dataframe\">\n",
              "  <thead>\n",
              "    <tr style=\"text-align: right;\">\n",
              "      <th></th>\n",
              "      <th>operation_value</th>\n",
              "      <th>operation_date</th>\n",
              "      <th>maplocation_name</th>\n",
              "    </tr>\n",
              "  </thead>\n",
              "  <tbody>\n",
              "    <tr>\n",
              "      <th>0</th>\n",
              "      <td>273850.0</td>\n",
              "      <td>2022-01-14 13:07:56</td>\n",
              "      <td>CC Plaza de las Américas  - Plaza Mariposa</td>\n",
              "    </tr>\n",
              "    <tr>\n",
              "      <th>4</th>\n",
              "      <td>150000.0</td>\n",
              "      <td>2022-01-25 12:00:18</td>\n",
              "      <td>CC Plaza de las Américas  - Plaza Mariposa</td>\n",
              "    </tr>\n",
              "    <tr>\n",
              "      <th>6</th>\n",
              "      <td>142200.0</td>\n",
              "      <td>2022-02-14 13:47:58</td>\n",
              "      <td>CC Plaza de las Américas  - Plaza Mariposa</td>\n",
              "    </tr>\n",
              "    <tr>\n",
              "      <th>7</th>\n",
              "      <td>10600.0</td>\n",
              "      <td>2021-12-26 14:01:37</td>\n",
              "      <td>CC Los Molinos - Zona Montaña Nivel 2</td>\n",
              "    </tr>\n",
              "    <tr>\n",
              "      <th>10</th>\n",
              "      <td>10750.0</td>\n",
              "      <td>2022-02-18 16:24:19</td>\n",
              "      <td>CC Los Molinos - Zona Montaña Nivel 2</td>\n",
              "    </tr>\n",
              "    <tr>\n",
              "      <th>...</th>\n",
              "      <td>...</td>\n",
              "      <td>...</td>\n",
              "      <td>...</td>\n",
              "    </tr>\n",
              "    <tr>\n",
              "      <th>4336</th>\n",
              "      <td>29500.0</td>\n",
              "      <td>2022-01-02 13:37:37</td>\n",
              "      <td>CC Los Molinos - Zona Montaña Nivel 2</td>\n",
              "    </tr>\n",
              "    <tr>\n",
              "      <th>4337</th>\n",
              "      <td>13700.0</td>\n",
              "      <td>2021-12-30 17:51:11</td>\n",
              "      <td>CC Los Molinos - Zona Montaña Nivel 2</td>\n",
              "    </tr>\n",
              "    <tr>\n",
              "      <th>4338</th>\n",
              "      <td>12100.0</td>\n",
              "      <td>2022-01-28 20:18:16</td>\n",
              "      <td>CC Los Molinos - Zona Montaña Nivel 2</td>\n",
              "    </tr>\n",
              "    <tr>\n",
              "      <th>4339</th>\n",
              "      <td>17200.0</td>\n",
              "      <td>2022-02-16 08:40:39</td>\n",
              "      <td>Universidad de los Andes - ML Piso 5</td>\n",
              "    </tr>\n",
              "    <tr>\n",
              "      <th>4343</th>\n",
              "      <td>126200.0</td>\n",
              "      <td>2022-01-24 11:03:38</td>\n",
              "      <td>CC Los Molinos - Zona Montaña Nivel 2</td>\n",
              "    </tr>\n",
              "  </tbody>\n",
              "</table>\n",
              "<p>1648 rows × 3 columns</p>\n",
              "</div>\n",
              "      <button class=\"colab-df-convert\" onclick=\"convertToInteractive('df-c7aa8340-1494-4ff3-9b24-eaa1538bc6c0')\"\n",
              "              title=\"Convert this dataframe to an interactive table.\"\n",
              "              style=\"display:none;\">\n",
              "        \n",
              "  <svg xmlns=\"http://www.w3.org/2000/svg\" height=\"24px\"viewBox=\"0 0 24 24\"\n",
              "       width=\"24px\">\n",
              "    <path d=\"M0 0h24v24H0V0z\" fill=\"none\"/>\n",
              "    <path d=\"M18.56 5.44l.94 2.06.94-2.06 2.06-.94-2.06-.94-.94-2.06-.94 2.06-2.06.94zm-11 1L8.5 8.5l.94-2.06 2.06-.94-2.06-.94L8.5 2.5l-.94 2.06-2.06.94zm10 10l.94 2.06.94-2.06 2.06-.94-2.06-.94-.94-2.06-.94 2.06-2.06.94z\"/><path d=\"M17.41 7.96l-1.37-1.37c-.4-.4-.92-.59-1.43-.59-.52 0-1.04.2-1.43.59L10.3 9.45l-7.72 7.72c-.78.78-.78 2.05 0 2.83L4 21.41c.39.39.9.59 1.41.59.51 0 1.02-.2 1.41-.59l7.78-7.78 2.81-2.81c.8-.78.8-2.07 0-2.86zM5.41 20L4 18.59l7.72-7.72 1.47 1.35L5.41 20z\"/>\n",
              "  </svg>\n",
              "      </button>\n",
              "      \n",
              "  <style>\n",
              "    .colab-df-container {\n",
              "      display:flex;\n",
              "      flex-wrap:wrap;\n",
              "      gap: 12px;\n",
              "    }\n",
              "\n",
              "    .colab-df-convert {\n",
              "      background-color: #E8F0FE;\n",
              "      border: none;\n",
              "      border-radius: 50%;\n",
              "      cursor: pointer;\n",
              "      display: none;\n",
              "      fill: #1967D2;\n",
              "      height: 32px;\n",
              "      padding: 0 0 0 0;\n",
              "      width: 32px;\n",
              "    }\n",
              "\n",
              "    .colab-df-convert:hover {\n",
              "      background-color: #E2EBFA;\n",
              "      box-shadow: 0px 1px 2px rgba(60, 64, 67, 0.3), 0px 1px 3px 1px rgba(60, 64, 67, 0.15);\n",
              "      fill: #174EA6;\n",
              "    }\n",
              "\n",
              "    [theme=dark] .colab-df-convert {\n",
              "      background-color: #3B4455;\n",
              "      fill: #D2E3FC;\n",
              "    }\n",
              "\n",
              "    [theme=dark] .colab-df-convert:hover {\n",
              "      background-color: #434B5C;\n",
              "      box-shadow: 0px 1px 3px 1px rgba(0, 0, 0, 0.15);\n",
              "      filter: drop-shadow(0px 1px 2px rgba(0, 0, 0, 0.3));\n",
              "      fill: #FFFFFF;\n",
              "    }\n",
              "  </style>\n",
              "\n",
              "      <script>\n",
              "        const buttonEl =\n",
              "          document.querySelector('#df-c7aa8340-1494-4ff3-9b24-eaa1538bc6c0 button.colab-df-convert');\n",
              "        buttonEl.style.display =\n",
              "          google.colab.kernel.accessAllowed ? 'block' : 'none';\n",
              "\n",
              "        async function convertToInteractive(key) {\n",
              "          const element = document.querySelector('#df-c7aa8340-1494-4ff3-9b24-eaa1538bc6c0');\n",
              "          const dataTable =\n",
              "            await google.colab.kernel.invokeFunction('convertToInteractive',\n",
              "                                                     [key], {});\n",
              "          if (!dataTable) return;\n",
              "\n",
              "          const docLinkHtml = 'Like what you see? Visit the ' +\n",
              "            '<a target=\"_blank\" href=https://colab.research.google.com/notebooks/data_table.ipynb>data table notebook</a>'\n",
              "            + ' to learn more about interactive tables.';\n",
              "          element.innerHTML = '';\n",
              "          dataTable['output_type'] = 'display_data';\n",
              "          await google.colab.output.renderOutput(dataTable, element);\n",
              "          const docLink = document.createElement('div');\n",
              "          docLink.innerHTML = docLinkHtml;\n",
              "          element.appendChild(docLink);\n",
              "        }\n",
              "      </script>\n",
              "    </div>\n",
              "  </div>\n",
              "  "
            ]
          },
          "metadata": {},
          "execution_count": 27
        }
      ]
    },
    {
      "cell_type": "markdown",
      "source": [
        "Volvi la variable Operation_Date en una variable datatime para poder obtener el año de cada registro en la base de datos."
      ],
      "metadata": {
        "id": "UGpQGu0DhO7D"
      }
    },
    {
      "cell_type": "code",
      "source": [
        "NewDf[num_cols].dtypes"
      ],
      "metadata": {
        "colab": {
          "base_uri": "https://localhost:8080/"
        },
        "id": "ZvS5TImzL6Dn",
        "outputId": "4a5c1c01-2891-4019-95d4-dd3f969f7b13"
      },
      "execution_count": null,
      "outputs": [
        {
          "output_type": "execute_result",
          "data": {
            "text/plain": [
              "operation_value            float64\n",
              "operation_date      datetime64[ns]\n",
              "maplocation_name            object\n",
              "dtype: object"
            ]
          },
          "metadata": {},
          "execution_count": 29
        }
      ]
    },
    {
      "cell_type": "code",
      "source": [
        "NewDf['operation_date'] = pd.to_datetime(NewDf['operation_date'], format='%Y-%m-%d %H:%M:%S')\n",
        "NewDf['año'] = NewDf['operation_date'].dt.year\n",
        "NewDf[['año','maplocation_name']]"
      ],
      "metadata": {
        "colab": {
          "base_uri": "https://localhost:8080/",
          "height": 645
        },
        "id": "XMYHuPX5neiO",
        "outputId": "9b06be66-4947-4209-e0d5-16594ed89f63"
      },
      "execution_count": null,
      "outputs": [
        {
          "output_type": "stream",
          "name": "stderr",
          "text": [
            "<ipython-input-42-004265d6b115>:1: SettingWithCopyWarning: \n",
            "A value is trying to be set on a copy of a slice from a DataFrame.\n",
            "Try using .loc[row_indexer,col_indexer] = value instead\n",
            "\n",
            "See the caveats in the documentation: https://pandas.pydata.org/pandas-docs/stable/user_guide/indexing.html#returning-a-view-versus-a-copy\n",
            "  NewDf['operation_date'] = pd.to_datetime(NewDf['operation_date'], format='%Y-%m-%d %H:%M:%S')\n",
            "<ipython-input-42-004265d6b115>:2: SettingWithCopyWarning: \n",
            "A value is trying to be set on a copy of a slice from a DataFrame.\n",
            "Try using .loc[row_indexer,col_indexer] = value instead\n",
            "\n",
            "See the caveats in the documentation: https://pandas.pydata.org/pandas-docs/stable/user_guide/indexing.html#returning-a-view-versus-a-copy\n",
            "  NewDf['año'] = NewDf['operation_date'].dt.year\n"
          ]
        },
        {
          "output_type": "execute_result",
          "data": {
            "text/plain": [
              "       año                            maplocation_name\n",
              "0     2022  CC Plaza de las Américas  - Plaza Mariposa\n",
              "4     2022  CC Plaza de las Américas  - Plaza Mariposa\n",
              "6     2022  CC Plaza de las Américas  - Plaza Mariposa\n",
              "7     2021       CC Los Molinos - Zona Montaña Nivel 2\n",
              "10    2022       CC Los Molinos - Zona Montaña Nivel 2\n",
              "...    ...                                         ...\n",
              "4336  2022       CC Los Molinos - Zona Montaña Nivel 2\n",
              "4337  2021       CC Los Molinos - Zona Montaña Nivel 2\n",
              "4338  2022       CC Los Molinos - Zona Montaña Nivel 2\n",
              "4339  2022        Universidad de los Andes - ML Piso 5\n",
              "4343  2022       CC Los Molinos - Zona Montaña Nivel 2\n",
              "\n",
              "[1648 rows x 2 columns]"
            ],
            "text/html": [
              "\n",
              "  <div id=\"df-2d3ae46c-08ce-4e16-b16e-cde38ba7a55a\">\n",
              "    <div class=\"colab-df-container\">\n",
              "      <div>\n",
              "<style scoped>\n",
              "    .dataframe tbody tr th:only-of-type {\n",
              "        vertical-align: middle;\n",
              "    }\n",
              "\n",
              "    .dataframe tbody tr th {\n",
              "        vertical-align: top;\n",
              "    }\n",
              "\n",
              "    .dataframe thead th {\n",
              "        text-align: right;\n",
              "    }\n",
              "</style>\n",
              "<table border=\"1\" class=\"dataframe\">\n",
              "  <thead>\n",
              "    <tr style=\"text-align: right;\">\n",
              "      <th></th>\n",
              "      <th>año</th>\n",
              "      <th>maplocation_name</th>\n",
              "    </tr>\n",
              "  </thead>\n",
              "  <tbody>\n",
              "    <tr>\n",
              "      <th>0</th>\n",
              "      <td>2022</td>\n",
              "      <td>CC Plaza de las Américas  - Plaza Mariposa</td>\n",
              "    </tr>\n",
              "    <tr>\n",
              "      <th>4</th>\n",
              "      <td>2022</td>\n",
              "      <td>CC Plaza de las Américas  - Plaza Mariposa</td>\n",
              "    </tr>\n",
              "    <tr>\n",
              "      <th>6</th>\n",
              "      <td>2022</td>\n",
              "      <td>CC Plaza de las Américas  - Plaza Mariposa</td>\n",
              "    </tr>\n",
              "    <tr>\n",
              "      <th>7</th>\n",
              "      <td>2021</td>\n",
              "      <td>CC Los Molinos - Zona Montaña Nivel 2</td>\n",
              "    </tr>\n",
              "    <tr>\n",
              "      <th>10</th>\n",
              "      <td>2022</td>\n",
              "      <td>CC Los Molinos - Zona Montaña Nivel 2</td>\n",
              "    </tr>\n",
              "    <tr>\n",
              "      <th>...</th>\n",
              "      <td>...</td>\n",
              "      <td>...</td>\n",
              "    </tr>\n",
              "    <tr>\n",
              "      <th>4336</th>\n",
              "      <td>2022</td>\n",
              "      <td>CC Los Molinos - Zona Montaña Nivel 2</td>\n",
              "    </tr>\n",
              "    <tr>\n",
              "      <th>4337</th>\n",
              "      <td>2021</td>\n",
              "      <td>CC Los Molinos - Zona Montaña Nivel 2</td>\n",
              "    </tr>\n",
              "    <tr>\n",
              "      <th>4338</th>\n",
              "      <td>2022</td>\n",
              "      <td>CC Los Molinos - Zona Montaña Nivel 2</td>\n",
              "    </tr>\n",
              "    <tr>\n",
              "      <th>4339</th>\n",
              "      <td>2022</td>\n",
              "      <td>Universidad de los Andes - ML Piso 5</td>\n",
              "    </tr>\n",
              "    <tr>\n",
              "      <th>4343</th>\n",
              "      <td>2022</td>\n",
              "      <td>CC Los Molinos - Zona Montaña Nivel 2</td>\n",
              "    </tr>\n",
              "  </tbody>\n",
              "</table>\n",
              "<p>1648 rows × 2 columns</p>\n",
              "</div>\n",
              "      <button class=\"colab-df-convert\" onclick=\"convertToInteractive('df-2d3ae46c-08ce-4e16-b16e-cde38ba7a55a')\"\n",
              "              title=\"Convert this dataframe to an interactive table.\"\n",
              "              style=\"display:none;\">\n",
              "        \n",
              "  <svg xmlns=\"http://www.w3.org/2000/svg\" height=\"24px\"viewBox=\"0 0 24 24\"\n",
              "       width=\"24px\">\n",
              "    <path d=\"M0 0h24v24H0V0z\" fill=\"none\"/>\n",
              "    <path d=\"M18.56 5.44l.94 2.06.94-2.06 2.06-.94-2.06-.94-.94-2.06-.94 2.06-2.06.94zm-11 1L8.5 8.5l.94-2.06 2.06-.94-2.06-.94L8.5 2.5l-.94 2.06-2.06.94zm10 10l.94 2.06.94-2.06 2.06-.94-2.06-.94-.94-2.06-.94 2.06-2.06.94z\"/><path d=\"M17.41 7.96l-1.37-1.37c-.4-.4-.92-.59-1.43-.59-.52 0-1.04.2-1.43.59L10.3 9.45l-7.72 7.72c-.78.78-.78 2.05 0 2.83L4 21.41c.39.39.9.59 1.41.59.51 0 1.02-.2 1.41-.59l7.78-7.78 2.81-2.81c.8-.78.8-2.07 0-2.86zM5.41 20L4 18.59l7.72-7.72 1.47 1.35L5.41 20z\"/>\n",
              "  </svg>\n",
              "      </button>\n",
              "      \n",
              "  <style>\n",
              "    .colab-df-container {\n",
              "      display:flex;\n",
              "      flex-wrap:wrap;\n",
              "      gap: 12px;\n",
              "    }\n",
              "\n",
              "    .colab-df-convert {\n",
              "      background-color: #E8F0FE;\n",
              "      border: none;\n",
              "      border-radius: 50%;\n",
              "      cursor: pointer;\n",
              "      display: none;\n",
              "      fill: #1967D2;\n",
              "      height: 32px;\n",
              "      padding: 0 0 0 0;\n",
              "      width: 32px;\n",
              "    }\n",
              "\n",
              "    .colab-df-convert:hover {\n",
              "      background-color: #E2EBFA;\n",
              "      box-shadow: 0px 1px 2px rgba(60, 64, 67, 0.3), 0px 1px 3px 1px rgba(60, 64, 67, 0.15);\n",
              "      fill: #174EA6;\n",
              "    }\n",
              "\n",
              "    [theme=dark] .colab-df-convert {\n",
              "      background-color: #3B4455;\n",
              "      fill: #D2E3FC;\n",
              "    }\n",
              "\n",
              "    [theme=dark] .colab-df-convert:hover {\n",
              "      background-color: #434B5C;\n",
              "      box-shadow: 0px 1px 3px 1px rgba(0, 0, 0, 0.15);\n",
              "      filter: drop-shadow(0px 1px 2px rgba(0, 0, 0, 0.3));\n",
              "      fill: #FFFFFF;\n",
              "    }\n",
              "  </style>\n",
              "\n",
              "      <script>\n",
              "        const buttonEl =\n",
              "          document.querySelector('#df-2d3ae46c-08ce-4e16-b16e-cde38ba7a55a button.colab-df-convert');\n",
              "        buttonEl.style.display =\n",
              "          google.colab.kernel.accessAllowed ? 'block' : 'none';\n",
              "\n",
              "        async function convertToInteractive(key) {\n",
              "          const element = document.querySelector('#df-2d3ae46c-08ce-4e16-b16e-cde38ba7a55a');\n",
              "          const dataTable =\n",
              "            await google.colab.kernel.invokeFunction('convertToInteractive',\n",
              "                                                     [key], {});\n",
              "          if (!dataTable) return;\n",
              "\n",
              "          const docLinkHtml = 'Like what you see? Visit the ' +\n",
              "            '<a target=\"_blank\" href=https://colab.research.google.com/notebooks/data_table.ipynb>data table notebook</a>'\n",
              "            + ' to learn more about interactive tables.';\n",
              "          element.innerHTML = '';\n",
              "          dataTable['output_type'] = 'display_data';\n",
              "          await google.colab.output.renderOutput(dataTable, element);\n",
              "          const docLink = document.createElement('div');\n",
              "          docLink.innerHTML = docLinkHtml;\n",
              "          element.appendChild(docLink);\n",
              "        }\n",
              "      </script>\n",
              "    </div>\n",
              "  </div>\n",
              "  "
            ]
          },
          "metadata": {},
          "execution_count": 42
        }
      ]
    },
    {
      "cell_type": "markdown",
      "source": [
        "Aqui generamos el conteo de cada registro que se tiene en que sitio y que año se realizo"
      ],
      "metadata": {
        "id": "swkidYRehi9r"
      }
    },
    {
      "cell_type": "code",
      "source": [
        "CC_losmolinos_2021 = NewDf[(NewDf[\"maplocation_name\"] == \"CC Los Molinos - Zona Montaña Nivel 2\") & (NewDf[\"año\"] == 2021)]\n",
        "CC_losmolinos_2022 = NewDf[(NewDf[\"maplocation_name\"] == \"CC Los Molinos - Zona Montaña Nivel 2\") & (NewDf[\"año\"] == 2022)]\n",
        "Universidad_andes_2021 = NewDf[(NewDf[\"maplocation_name\"] == \"Universidad de los Andes - ML Piso 5\") & (NewDf[\"año\"] == 2021)]\n",
        "Universidad_andes_2022 = NewDf[(NewDf[\"maplocation_name\"] == \"Universidad de los Andes - ML Piso 5\") & (NewDf[\"año\"] == 2022)]\n",
        "CC_plazaAmericas_2021 = NewDf[(NewDf[\"maplocation_name\"] == \"CC Plaza de las Américas  - Plaza Mariposa\") & (NewDf[\"año\"] == 2021)]\n",
        "CC_plazaAmericas_2022 = NewDf[(NewDf[\"maplocation_name\"] == \"CC Plaza de las Américas  - Plaza Mariposa\") & (NewDf[\"año\"] == 2022)]\n",
        "\n",
        "\n",
        "losmolinos_counts = [len(CC_losmolinos_2021), len(CC_losmolinos_2022)]\n",
        "universidad_counts = [len(Universidad_andes_2021), len(Universidad_andes_2022)]\n",
        "plazaAmericas_counts = [len(CC_plazaAmericas_2021), len(CC_plazaAmericas_2022)]"
      ],
      "metadata": {
        "colab": {
          "base_uri": "https://localhost:8080/"
        },
        "id": "eUwbq0X0ysyH",
        "outputId": "dd09dcb1-082f-4ca1-f792-46d014b5d014"
      },
      "execution_count": null,
      "outputs": [
        {
          "output_type": "execute_result",
          "data": {
            "text/plain": [
              "[313, 643]"
            ]
          },
          "metadata": {},
          "execution_count": 51
        }
      ]
    },
    {
      "cell_type": "code",
      "source": [
        "plt.figure(figsize=(18,5))\n",
        "plt.bar(pd.unique(df['maplocation_name']), total)\n",
        "plt.show()"
      ],
      "metadata": {
        "id": "dpklAdIS3ULL"
      },
      "execution_count": null,
      "outputs": []
    },
    {
      "cell_type": "markdown",
      "source": [
        "Genere al grafica"
      ],
      "metadata": {
        "id": "sPC2rqwpho_n"
      }
    },
    {
      "cell_type": "code",
      "source": [
        "fig, ax = plt.subplots()\n",
        "ax.bar([0, 1], losmolinos_counts, label=\"CC los molinos\")\n",
        "ax.bar([0, 1], universidad_counts, bottom=losmolinos_counts, label=\"Universidad de los andes\")\n",
        "\n",
        "ax.bar([0, 1], plazaAmericas_counts, bottom=[sum(x) for x in zip(losmolinos_counts, plazaAmericas_counts)], label=\"CC PLAZA DE LAS AMERICAS\")"
      ],
      "metadata": {
        "colab": {
          "base_uri": "https://localhost:8080/",
          "height": 135
        },
        "id": "honAwJ-102Tt",
        "outputId": "10a7aaf9-0889-40f7-fb5f-a145cfb72d75"
      },
      "execution_count": null,
      "outputs": [
        {
          "output_type": "error",
          "ename": "SyntaxError",
          "evalue": "ignored",
          "traceback": [
            "\u001b[0;36m  File \u001b[0;32m\"<ipython-input-65-14bec129a631>\"\u001b[0;36m, line \u001b[0;32m3\u001b[0m\n\u001b[0;31m    ax.bar([0, 1], universidad_counts, bottom=losmolinos_counts, label=\"Universidad de los andes\")\u001b[0m\n\u001b[0m    ^\u001b[0m\n\u001b[0;31mSyntaxError\u001b[0m\u001b[0;31m:\u001b[0m invalid syntax\n"
          ]
        }
      ]
    },
    {
      "cell_type": "markdown",
      "source": [
        "Como punto final genere la visualizacion de cada punto y cada año. Observamos que en el 2022 se aumento la cantidad de veces que se utilizo el punto para generar sus ahorros con la empresa llevando casi un 100% del año 2021 al 2022 en  el punto de CC los molinos y Plaza de las americas."
      ],
      "metadata": {
        "id": "lMmFegpahsie"
      }
    },
    {
      "cell_type": "code",
      "source": [
        "plt.figure(figsize=(18,5))\n",
        "\n",
        "fig, ax = plt.subplots()\n",
        "\n",
        "ax.bar([0, 1], losmolinos_counts, label=\"CC Los Molinos - Zona Montaña Nivel 2\")\n",
        "ax.bar([2, 3], universidad_counts, label=\"Universidad de los Andes - ML Piso 5\")\n",
        "ax.bar([4, 5], plazaAmericas_counts, label=\"CC Plaza de las Américas  - Plaza Mariposa\")\n",
        "ax.set_xticks([0, 1, 2 , 3 , 4 ,5])\n",
        "ax.set_xticklabels([\"2021\", \"2022\",\"2021\", \"2022\",\"2021\", \"2022\",])\n",
        "ax.set_xlabel(\"Año\")\n",
        "ax.set_ylabel(\"Número de transacciones\")\n",
        "ax.legend()\n",
        "\n",
        "# Mostrar el gráfico\n",
        "plt.show()\n",
        "print(\"CC Los Molinos - Zona Montaña Nivel 2\",losmolinos_counts)\n",
        "print(\"Universidad de los Andes - ML Piso 5\", universidad_counts)\n",
        "print(\"CC Plaza de las Américas  - Plaza Mariposa\" ,plazaAmericas_counts)"
      ],
      "metadata": {
        "colab": {
          "base_uri": "https://localhost:8080/",
          "height": 353
        },
        "id": "fh3vUaVX1rs7",
        "outputId": "781c679b-1912-457f-e348-f0549a6ce0dd"
      },
      "execution_count": null,
      "outputs": [
        {
          "output_type": "display_data",
          "data": {
            "text/plain": [
              "<Figure size 1296x360 with 0 Axes>"
            ]
          },
          "metadata": {}
        },
        {
          "output_type": "display_data",
          "data": {
            "text/plain": [
              "<Figure size 432x288 with 1 Axes>"
            ],
            "image/png": "[encoded data removed]"
          },
          "metadata": {
            "needs_background": "light"
          }
        },
        {
          "output_type": "stream",
          "name": "stdout",
          "text": [
            "CC Los Molinos - Zona Montaña Nivel 2 [258, 337]\n",
            "Universidad de los Andes - ML Piso 5 [12, 85]\n",
            "CC Plaza de las Américas  - Plaza Mariposa [313, 643]\n"
          ]
        }
      ]
    },
    {
      "cell_type": "markdown",
      "source": [
        "Como conclusion llegue que hubo un incremento en todos los puntos a comparacion del 2021 a 2022 y que en el centro comercial plaza de las americas es donde más transacciones se hizo en ambos años."
      ],
      "metadata": {
        "id": "OrXX4OXQiV3U"
      }
    },
    {
      "cell_type": "code",
      "source": [],
      "metadata": {
        "id": "tyUIT4u71tts"
      },
      "execution_count": null,
      "outputs": []
    }
  ]
}