{
  "cells": [
    {
      "cell_type": "markdown",
      "metadata": {
        "id": "view-in-github",
        "colab_type": "text"
      },
      "source": [
        "<a href=\"https://colab.research.google.com/github/gonzo120/Python/blob/main/IntroduccionDS_RegresionLineal.ipynb\" target=\"_parent\"><img src=\"https://colab.research.google.com/assets/colab-badge.svg\" alt=\"Open In Colab\"/></a>"
      ]
    },
    {
      "cell_type": "markdown",
      "id": "e28e2ab2",
      "metadata": {
        "id": "e28e2ab2"
      },
      "source": [
        "\n",
        "\n",
        "# Regresión Lineal\n",
        "\n",
        "\n",
        ""
      ]
    },
    {
      "cell_type": "markdown",
      "id": "0ba18503",
      "metadata": {
        "id": "0ba18503"
      },
      "source": [
        "Importamos liberías a utilizar."
      ]
    },
    {
      "cell_type": "code",
      "execution_count": null,
      "id": "60d4d8d3",
      "metadata": {
        "id": "60d4d8d3"
      },
      "outputs": [],
      "source": [
        "import numpy as np\n",
        "from sklearn.linear_model import LinearRegression\n",
        "import matplotlib.pyplot as plt"
      ]
    },
    {
      "cell_type": "markdown",
      "id": "abc11efd",
      "metadata": {
        "id": "abc11efd"
      },
      "source": [
        "Definimos nuestro set de datos."
      ]
    },
    {
      "cell_type": "code",
      "execution_count": null,
      "id": "d0123bf7",
      "metadata": {
        "colab": {
          "base_uri": "https://localhost:8080/"
        },
        "id": "d0123bf7",
        "outputId": "ee8532b9-fc47-48ef-a643-ac599668da56"
      },
      "outputs": [
        {
          "output_type": "execute_result",
          "data": {
            "text/plain": [
              "array([[1. ],\n",
              "       [1.5],\n",
              "       [3. ],\n",
              "       [2. ],\n",
              "       [2.5],\n",
              "       [1.5]])"
            ]
          },
          "metadata": {},
          "execution_count": 2
        }
      ],
      "source": [
        "X = np.array([[1], [1.5], [3], [2], [2.5], [1.5]])\n",
        "X"
      ]
    },
    {
      "cell_type": "code",
      "execution_count": null,
      "id": "916d4f0d",
      "metadata": {
        "colab": {
          "base_uri": "https://localhost:8080/"
        },
        "id": "916d4f0d",
        "outputId": "eacf67de-eee1-4d7d-b7cd-1f64ed9cfe98"
      },
      "outputs": [
        {
          "output_type": "execute_result",
          "data": {
            "text/plain": [
              "(6, 1)"
            ]
          },
          "metadata": {},
          "execution_count": 3
        }
      ],
      "source": [
        "X.shape"
      ]
    },
    {
      "cell_type": "markdown",
      "source": [],
      "metadata": {
        "id": "5SNv2t5t90yN"
      },
      "id": "5SNv2t5t90yN"
    },
    {
      "cell_type": "code",
      "execution_count": null,
      "id": "24247b0d",
      "metadata": {
        "colab": {
          "base_uri": "https://localhost:8080/"
        },
        "id": "24247b0d",
        "outputId": "9b3d442e-6707-4896-c1f1-2779ab10a131"
      },
      "outputs": [
        {
          "output_type": "execute_result",
          "data": {
            "text/plain": [
              "array([[1. ],\n",
              "       [2.5],\n",
              "       [3. ],\n",
              "       [2.5],\n",
              "       [1.5],\n",
              "       [1. ]])"
            ]
          },
          "metadata": {},
          "execution_count": 4
        }
      ],
      "source": [
        "y = np.array([[1], [2.5], [3], [2.5], [1.5], [1]])\n",
        "y"
      ]
    },
    {
      "cell_type": "markdown",
      "source": [
        "scatter sirve para dibujar los puntos"
      ],
      "metadata": {
        "id": "lU0gWtH5935B"
      },
      "id": "lU0gWtH5935B"
    },
    {
      "cell_type": "code",
      "execution_count": null,
      "id": "5b3503fe",
      "metadata": {
        "colab": {
          "base_uri": "https://localhost:8080/",
          "height": 265
        },
        "id": "5b3503fe",
        "outputId": "e7d142aa-a91b-473b-92f3-861b1094aad0"
      },
      "outputs": [
        {
          "output_type": "display_data",
          "data": {
            "text/plain": [
              "<Figure size 432x288 with 1 Axes>"
            ],
            "image/png": "[encoded data removed]"
          },
          "metadata": {
            "needs_background": "light"
          }
        }
      ],
      "source": [
        "plt.scatter(X, y)\n",
        "plt.show()"
      ]
    },
    {
      "cell_type": "markdown",
      "source": [],
      "metadata": {
        "id": "nnDcETT6922G"
      },
      "id": "nnDcETT6922G"
    },
    {
      "cell_type": "markdown",
      "id": "c6ba1d8e",
      "metadata": {
        "id": "c6ba1d8e"
      },
      "source": [
        "Definimos la Regresión Lineal y entrenamos con nuestro set de datos."
      ]
    },
    {
      "cell_type": "code",
      "execution_count": null,
      "id": "379abf79",
      "metadata": {
        "id": "379abf79"
      },
      "outputs": [],
      "source": [
        "reg = LinearRegression(fit_intercept=True).fit(X, y)"
      ]
    },
    {
      "cell_type": "code",
      "execution_count": null,
      "id": "ef767ed7",
      "metadata": {
        "colab": {
          "base_uri": "https://localhost:8080/"
        },
        "id": "ef767ed7",
        "outputId": "8b5d7eb2-de00-4438-9122-44572564c624"
      },
      "outputs": [
        {
          "output_type": "execute_result",
          "data": {
            "text/plain": [
              "array([[0.72307692]])"
            ]
          },
          "metadata": {},
          "execution_count": 7
        }
      ],
      "source": [
        "reg.coef_"
      ]
    },
    {
      "cell_type": "code",
      "execution_count": null,
      "id": "2dcc378e",
      "metadata": {
        "colab": {
          "base_uri": "https://localhost:8080/"
        },
        "id": "2dcc378e",
        "outputId": "d9f75e18-340a-4b06-a2f0-6d28414ad7a6"
      },
      "outputs": [
        {
          "output_type": "execute_result",
          "data": {
            "text/plain": [
              "array([0.53076923])"
            ]
          },
          "metadata": {},
          "execution_count": 8
        }
      ],
      "source": [
        "reg.intercept_"
      ]
    },
    {
      "cell_type": "markdown",
      "id": "960c471a",
      "metadata": {
        "id": "960c471a"
      },
      "source": [
        "Es decir, nuestra recta de regresión será: $y= 0.73x_{1} + 0.53$\n",
        "\n"
      ]
    },
    {
      "cell_type": "code",
      "execution_count": null,
      "id": "7b15617f",
      "metadata": {
        "id": "7b15617f",
        "outputId": "5ec25111-f870-49a7-ea25-9fd6ab44fc2e"
      },
      "outputs": [
        {
          "data": {
            "text/plain": [
              "[<matplotlib.lines.Line2D at 0x1d0801166a0>]"
            ]
          },
          "execution_count": 33,
          "metadata": {},
          "output_type": "execute_result"
        },
        {
          "data": {
            "image/png": "[encoded data removed]",
            "text/plain": [
              "<Figure size 432x288 with 1 Axes>"
            ]
          },
          "metadata": {
            "needs_background": "light"
          },
          "output_type": "display_data"
        }
      ],
      "source": [
        "plt.scatter(X, y, color=\"blue\")\n",
        "plt.plot(X, reg.predict(X), color=\"red\", linewidth=3)"
      ]
    },
    {
      "cell_type": "markdown",
      "id": "be6bcf4e",
      "metadata": {
        "id": "be6bcf4e"
      },
      "source": [
        "\n",
        "Utilizando nuestra recta de regresión, queremos predecir el valor que toma un nuevo registro."
      ]
    },
    {
      "cell_type": "code",
      "execution_count": null,
      "id": "8be5dccb",
      "metadata": {
        "scrolled": true,
        "id": "8be5dccb",
        "outputId": "9d4fa161-17cf-40f3-a46e-56cbe93fa985"
      },
      "outputs": [
        {
          "data": {
            "text/plain": [
              "array([[2.51923077]])"
            ]
          },
          "execution_count": 41,
          "metadata": {},
          "output_type": "execute_result"
        }
      ],
      "source": [
        "new_obs = np.array([[2.75]])\n",
        "reg.predict(new_obs)"
      ]
    },
    {
      "cell_type": "code",
      "execution_count": null,
      "id": "ecb4cb91",
      "metadata": {
        "id": "ecb4cb91",
        "outputId": "b255c87d-a6ad-4bbd-95b4-34203d99a528"
      },
      "outputs": [
        {
          "data": {
            "text/plain": [
              "<matplotlib.collections.PathCollection at 0x1d0802dc0a0>"
            ]
          },
          "execution_count": 47,
          "metadata": {},
          "output_type": "execute_result"
        },
        {
          "data": {
            "image/png": "[encoded data removed]",
            "text/plain": [
              "<Figure size 432x288 with 1 Axes>"
            ]
          },
          "metadata": {
            "needs_background": "light"
          },
          "output_type": "display_data"
        }
      ],
      "source": [
        "plt.scatter(X, y, color=\"blue\")\n",
        "plt.plot(X, reg.predict(X), color=\"red\", linewidth=3)\n",
        "plt.scatter(new_obs, reg.predict(new_obs), color=\"black\", s = 100)"
      ]
    },
    {
      "cell_type": "code",
      "execution_count": null,
      "id": "2676c33b",
      "metadata": {
        "id": "2676c33b"
      },
      "outputs": [],
      "source": []
    }
  ],
  "metadata": {
    "kernelspec": {
      "display_name": "Python 3",
      "language": "python",
      "name": "python3"
    },
    "language_info": {
      "codemirror_mode": {
        "name": "ipython",
        "version": 3
      },
      "file_extension": ".py",
      "mimetype": "text/x-python",
      "name": "python",
      "nbconvert_exporter": "python",
      "pygments_lexer": "ipython3",
      "version": "3.8.8"
    },
    "colab": {
      "provenance": [],
      "include_colab_link": true
    }
  },
  "nbformat": 4,
  "nbformat_minor": 5
}