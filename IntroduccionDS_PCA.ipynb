{
  "cells": [
    {
      "cell_type": "markdown",
      "metadata": {
        "id": "view-in-github",
        "colab_type": "text"
      },
      "source": [
        "<a href=\"https://colab.research.google.com/github/gonzo120/Python/blob/main/IntroduccionDS_PCA.ipynb\" target=\"_parent\"><img src=\"https://colab.research.google.com/assets/colab-badge.svg\" alt=\"Open In Colab\"/></a>"
      ]
    },
    {
      "cell_type": "markdown",
      "id": "67389da4",
      "metadata": {
        "id": "67389da4"
      },
      "source": [
        "\n",
        "\n",
        "\n",
        "**Nelson Gonzalez**\n",
        "\n",
        "Curso Introducción a Data Science\n",
        ""
      ]
    },
    {
      "cell_type": "markdown",
      "id": "a4ccd116",
      "metadata": {
        "id": "a4ccd116"
      },
      "source": [
        "Importamos liberías a utilizar."
      ]
    },
    {
      "cell_type": "code",
      "execution_count": null,
      "id": "0cfad2cf",
      "metadata": {
        "id": "0cfad2cf"
      },
      "outputs": [],
      "source": [
        "import numpy as np\n",
        "from sklearn.decomposition import PCA\n",
        "import matplotlib.pyplot as plt"
      ]
    },
    {
      "cell_type": "markdown",
      "id": "ff6d405e",
      "metadata": {
        "id": "ff6d405e"
      },
      "source": [
        "Definimos nuestro set de datos."
      ]
    },
    {
      "cell_type": "code",
      "execution_count": null,
      "id": "06776861",
      "metadata": {
        "colab": {
          "base_uri": "https://localhost:8080/"
        },
        "id": "06776861",
        "outputId": "d7b04ef8-d016-47d4-81a8-e43b4da8fd23"
      },
      "outputs": [
        {
          "output_type": "execute_result",
          "data": {
            "text/plain": [
              "array([[-1, -1, -1, -1,  4],\n",
              "       [-2, -1,  2,  1,  6],\n",
              "       [-3, -2,  3,  2,  3],\n",
              "       [ 1,  1,  1,  1,  1],\n",
              "       [ 2,  1,  2,  1,  5],\n",
              "       [ 3,  2, -3, -2, -1]])"
            ]
          },
          "metadata": {},
          "execution_count": 3
        }
      ],
      "source": [
        "X = np.array([[-1, -1, -1, -1, 4], [-2, -1, 2, 1, 6], [-3, -2, 3, 2, 3],\n",
        "              [1, 1, 1, 1, 1], [2, 1, 2, 1, 5], [3, 2, -3, -2, -1]])\n",
        "X"
      ]
    },
    {
      "cell_type": "markdown",
      "source": [
        "Describe la dimension de la matriz (filas, columnas)"
      ],
      "metadata": {
        "id": "HjlNplrS6MtZ"
      },
      "id": "HjlNplrS6MtZ"
    },
    {
      "cell_type": "code",
      "execution_count": null,
      "id": "21e465f7",
      "metadata": {
        "colab": {
          "base_uri": "https://localhost:8080/"
        },
        "id": "21e465f7",
        "outputId": "9fea8619-9f8c-45e0-8bce-4910e70ff2f8"
      },
      "outputs": [
        {
          "output_type": "execute_result",
          "data": {
            "text/plain": [
              "(6, 5)"
            ]
          },
          "metadata": {},
          "execution_count": 6
        }
      ],
      "source": [
        "X.shape"
      ]
    },
    {
      "cell_type": "markdown",
      "id": "6b6493e3",
      "metadata": {
        "id": "6b6493e3"
      },
      "source": [
        "Obtenemos PCA, queremos dos componentes principales y entrenamos con nuestro set de datos."
      ]
    },
    {
      "cell_type": "code",
      "execution_count": null,
      "id": "c8f662dd",
      "metadata": {
        "colab": {
          "base_uri": "https://localhost:8080/"
        },
        "id": "c8f662dd",
        "outputId": "2432123a-04f2-4c9b-9a13-2176b013c937"
      },
      "outputs": [
        {
          "output_type": "execute_result",
          "data": {
            "text/plain": [
              "PCA(n_components=5)"
            ]
          },
          "metadata": {},
          "execution_count": 8
        }
      ],
      "source": [
        "pca = PCA(n_components=5)\n",
        "pca.fit(X)"
      ]
    },
    {
      "cell_type": "markdown",
      "id": "81188ccb",
      "metadata": {
        "id": "81188ccb"
      },
      "source": [
        "Obtenemos la varianza explicada para cada una de nuestras componentes principales."
      ]
    },
    {
      "cell_type": "code",
      "execution_count": null,
      "id": "0e8b5e7e",
      "metadata": {
        "scrolled": true,
        "colab": {
          "base_uri": "https://localhost:8080/"
        },
        "id": "0e8b5e7e",
        "outputId": "24c1f5f4-7833-48dd-a932-169f4fd86cb4"
      },
      "outputs": [
        {
          "output_type": "execute_result",
          "data": {
            "text/plain": [
              "array([7.20403756e-01, 1.50169917e-01, 1.26991054e-01, 2.24800741e-03,\n",
              "       1.87265301e-04])"
            ]
          },
          "metadata": {},
          "execution_count": 9
        }
      ],
      "source": [
        "pca.explained_variance_ratio_"
      ]
    },
    {
      "cell_type": "markdown",
      "id": "b9f53732",
      "metadata": {
        "id": "b9f53732"
      },
      "source": [
        "Realizamos el diagrama de codo, para poder ver de forma visual el porcentaje de varianza acumulada con cada una de las componentes principales."
      ]
    },
    {
      "cell_type": "code",
      "source": [
        "np.cumsum(pca.explained_variance_ratio_)"
      ],
      "metadata": {
        "colab": {
          "base_uri": "https://localhost:8080/"
        },
        "id": "DQJNhphbAQMx",
        "outputId": "68bbd3d3-46c3-4034-a73c-c4fa4b28607b"
      },
      "id": "DQJNhphbAQMx",
      "execution_count": null,
      "outputs": [
        {
          "output_type": "execute_result",
          "data": {
            "text/plain": [
              "array([0.72040376, 0.87057367, 0.99756473, 0.99981273, 1.        ])"
            ]
          },
          "metadata": {},
          "execution_count": 12
        }
      ]
    },
    {
      "cell_type": "code",
      "execution_count": null,
      "id": "40f976a2",
      "metadata": {
        "colab": {
          "base_uri": "https://localhost:8080/",
          "height": 279
        },
        "id": "40f976a2",
        "outputId": "67177197-371f-4da5-bf82-283aefe06da5"
      },
      "outputs": [
        {
          "output_type": "display_data",
          "data": {
            "text/plain": [
              "<Figure size 432x288 with 1 Axes>"
            ],
            "image/png": "[encoded data removed]"
          },
          "metadata": {
            "needs_background": "light"
          }
        }
      ],
      "source": [
        "plt.plot(np.cumsum(pca.explained_variance_ratio_))\n",
        "plt.xlabel('Componente Principal')\n",
        "plt.ylabel('Varianza explicada')\n",
        "plt.show()"
      ]
    },
    {
      "cell_type": "code",
      "source": [],
      "metadata": {
        "id": "cCigptU37xEP"
      },
      "id": "cCigptU37xEP",
      "execution_count": null,
      "outputs": []
    },
    {
      "cell_type": "code",
      "execution_count": null,
      "id": "05046039",
      "metadata": {
        "id": "05046039"
      },
      "outputs": [],
      "source": []
    }
  ],
  "metadata": {
    "kernelspec": {
      "display_name": "Python 3",
      "language": "python",
      "name": "python3"
    },
    "language_info": {
      "codemirror_mode": {
        "name": "ipython",
        "version": 3
      },
      "file_extension": ".py",
      "mimetype": "text/x-python",
      "name": "python",
      "nbconvert_exporter": "python",
      "pygments_lexer": "ipython3",
      "version": "3.8.8"
    },
    "colab": {
      "provenance": [],
      "include_colab_link": true
    }
  },
  "nbformat": 4,
  "nbformat_minor": 5
}